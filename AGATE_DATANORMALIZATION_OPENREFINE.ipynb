{
 "cells": [
  {
   "cell_type": "code",
   "execution_count": 1,
   "metadata": {
    "collapsed": true
   },
   "outputs": [],
   "source": [
    "import agate"
   ]
  },
  {
   "cell_type": "code",
   "execution_count": 12,
   "metadata": {},
   "outputs": [],
   "source": [
    "refugees = agate.Table.from_csv('Data/refugees-csv-2.csv')"
   ]
  },
  {
   "cell_type": "code",
   "execution_count": 13,
   "metadata": {},
   "outputs": [
    {
     "name": "stdout",
     "output_type": "stream",
     "text": [
      "| column                 | data_type |\n",
      "| ---------------------- | --------- |\n",
      "| ResettledState         | Text      |\n",
      "| Year                   | Text      |\n",
      "| TotalResettledState    | Number    |\n",
      "| RefugeeOrigin          | Text      |\n",
      "| RefugeesResettledState | Number    |\n",
      "| ResettledCity          | Text      |\n",
      "| RefugeesResettledCity  | Number    |\n",
      "| RefugeesResettledUS    | Number    |\n",
      "\n"
     ]
    }
   ],
   "source": [
    "print(refugees)"
   ]
  },
  {
   "cell_type": "code",
   "execution_count": 14,
   "metadata": {},
   "outputs": [],
   "source": [
    "refugees_city = refugees.group_by('ResettledCity')"
   ]
  },
  {
   "cell_type": "code",
   "execution_count": 15,
   "metadata": {},
   "outputs": [
    {
     "name": "stdout",
     "output_type": "stream",
     "text": [
      "| table          | rows |\n",
      "| -------------- | ---- |\n",
      "| Mobile, AL     | 126  |\n",
      "| Birmingham     | 9    |\n",
      "| Pelham         | 2    |\n",
      "| Anchorage, AK  | 79   |\n",
      "| Phoenix, AK    | 1    |\n",
      "| Phoenix, AR    | 351  |\n",
      "| Tucson, AZ     | 271  |\n",
      "| Chandler       | 27   |\n",
      "| Glendale       | 216  |\n",
      "| Buckeye        | 3    |\n",
      "| Tempe, AZ      | 33   |\n",
      "| Wickenburg     | 4    |\n",
      "| Scottsdale, AZ | 46   |\n",
      "| Lowell         | 77   |\n",
      "| Fort Smith     | 2    |\n",
      "| Claremont      | 10   |\n",
      "| Elk Grove      | 42   |\n",
      "| Fontana        | 15   |\n",
      "| Fullerton      | 36   |\n",
      "| Garden Grove   | 53   |\n",
      "\n"
     ]
    }
   ],
   "source": [
    "print(refugees_city)"
   ]
  },
  {
   "cell_type": "code",
   "execution_count": 16,
   "metadata": {
    "collapsed": true
   },
   "outputs": [],
   "source": [
    "total_refugees= refugees.aggregate(agate.Sum('RefugeesResettledCity'))"
   ]
  },
  {
   "cell_type": "code",
   "execution_count": 17,
   "metadata": {},
   "outputs": [
    {
     "name": "stdout",
     "output_type": "stream",
     "text": [
      "894149\n"
     ]
    }
   ],
   "source": [
    "print(total_refugees)"
   ]
  },
  {
   "cell_type": "markdown",
   "metadata": {},
   "source": [
    "I honestly do not understand what does it mean with \"sum by unique city name\" >_<"
   ]
  }
 ],
 "metadata": {
  "kernelspec": {
   "display_name": "Python 3",
   "language": "python",
   "name": "python3"
  },
  "language_info": {
   "codemirror_mode": {
    "name": "ipython",
    "version": 3
   },
   "file_extension": ".py",
   "mimetype": "text/x-python",
   "name": "python",
   "nbconvert_exporter": "python",
   "pygments_lexer": "ipython3",
   "version": "3.6.3"
  }
 },
 "nbformat": 4,
 "nbformat_minor": 2
}

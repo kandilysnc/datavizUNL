{
 "cells": [
  {
   "cell_type": "code",
   "execution_count": 1,
   "metadata": {
    "collapsed": true
   },
   "outputs": [],
   "source": [
    "import agate"
   ]
  },
  {
   "cell_type": "code",
   "execution_count": 5,
   "metadata": {},
   "outputs": [],
   "source": [
    "big10 = agate.Table.from_csv('Data/colleges.csv')"
   ]
  },
  {
   "cell_type": "code",
   "execution_count": 3,
   "metadata": {
    "collapsed": true
   },
   "outputs": [],
   "source": [
    "big10 = agate.Table.from_csv('/Users/utamidiahkusumawati/Downloads/colleges.csv')"
   ]
  },
  {
   "cell_type": "code",
   "execution_count": 4,
   "metadata": {},
   "outputs": [
    {
     "name": "stdout",
     "output_type": "stream",
     "text": [
      "| column                                                                     | data_type |\n",
      "| -------------------------------------------------------------------------- | --------- |\n",
      "| UnitID                                                                     | Number    |\n",
      "| Institution Name                                                           | Text      |\n",
      "| Total price for in-state students living on campus 2012-13 (DRVIC2012)     | Number    |\n",
      "| Total price for out-of-state students living on campus 2012-13 (DRVIC2012) | Number    |\n",
      "| Graduation rate  total cohort (DRVGR2012)                                  | Number    |\n",
      "\n"
     ]
    }
   ],
   "source": [
    "print(big10)"
   ]
  },
  {
   "cell_type": "code",
   "execution_count": 7,
   "metadata": {},
   "outputs": [
    {
     "name": "stdout",
     "output_type": "stream",
     "text": [
      "|  UnitID | Institution Name     | Total price for i... | Total price for o... | Graduation rate  ... |\n",
      "| ------- | -------------------- | -------------------- | -------------------- | -------------------- |\n",
      "| 151,351 | Indiana Universit... |               23,116 |               44,566 |                   75 |\n",
      "| 171,100 | Michigan State Un... |               24,028 |               43,986 |                   79 |\n",
      "| 147,767 | Northwestern Univ... |               60,840 |               60,840 |                   93 |\n",
      "| 204,796 | Ohio State Univer... |               24,919 |               40,327 |                   82 |\n",
      "| 214,777 | Pennsylvania Stat... |               31,854 |               44,156 |                   86 |\n",
      "| 243,780 | Purdue University... |               23,468 |               42,270 |                   69 |\n",
      "| 186,380 | Rutgers Universit... |               28,798 |               42,118 |                   79 |\n",
      "| 145,637 | University of Ill... |               28,564 |               42,706 |                   84 |\n",
      "| 153,658 | University of Iowa   |               21,832 |               40,054 |                   70 |\n",
      "| 163,286 | University of Mar... |               23,346 |               41,725 |                   82 |\n",
      "| 170,976 | University of Mic... |               25,848 |               51,976 |                   91 |\n",
      "| 174,066 | University of Min... |               25,065 |               30,315 |                   73 |\n",
      "| 181,464 | University of Neb... |               21,700 |               34,450 |                   65 |\n",
      "| 240,444 | University of Wis... |               23,762 |               40,012 |                   82 |\n"
     ]
    }
   ],
   "source": [
    "big10.print_table()"
   ]
  },
  {
   "cell_type": "code",
   "execution_count": 8,
   "metadata": {},
   "outputs": [
    {
     "name": "stdout",
     "output_type": "stream",
     "text": [
      "|  UnitID | Institution Name     | Total price for i... | Total price for o... | Graduation rate  ... |\n",
      "| ------- | -------------------- | -------------------- | -------------------- | -------------------- |\n",
      "| 147,767 | Northwestern Univ... |               60,840 |               60,840 |                   93 |\n",
      "| 170,976 | University of Mic... |               25,848 |               51,976 |                   91 |\n",
      "| 214,777 | Pennsylvania Stat... |               31,854 |               44,156 |                   86 |\n",
      "| 145,637 | University of Ill... |               28,564 |               42,706 |                   84 |\n",
      "| 204,796 | Ohio State Univer... |               24,919 |               40,327 |                   82 |\n",
      "| 163,286 | University of Mar... |               23,346 |               41,725 |                   82 |\n",
      "| 240,444 | University of Wis... |               23,762 |               40,012 |                   82 |\n",
      "| 171,100 | Michigan State Un... |               24,028 |               43,986 |                   79 |\n",
      "| 186,380 | Rutgers Universit... |               28,798 |               42,118 |                   79 |\n",
      "| 151,351 | Indiana Universit... |               23,116 |               44,566 |                   75 |\n",
      "| 174,066 | University of Min... |               25,065 |               30,315 |                   73 |\n",
      "| 153,658 | University of Iowa   |               21,832 |               40,054 |                   70 |\n",
      "| 243,780 | Purdue University... |               23,468 |               42,270 |                   69 |\n",
      "| 181,464 | University of Neb... |               21,700 |               34,450 |                   65 |\n"
     ]
    }
   ],
   "source": [
    "big10.order_by('Graduation rate  total cohort (DRVGR2012)', reverse=True).print_table()"
   ]
  },
  {
   "cell_type": "code",
   "execution_count": 9,
   "metadata": {},
   "outputs": [
    {
     "ename": "KeyError",
     "evalue": "'Institution NameGraduation rate  total cohort (DRVGR2012)'",
     "output_type": "error",
     "traceback": [
      "\u001b[0;31m---------------------------------------------------------------------------\u001b[0m",
      "\u001b[0;31mKeyError\u001b[0m                                  Traceback (most recent call last)",
      "\u001b[0;32m<ipython-input-9-4654adfe95f2>\u001b[0m in \u001b[0;36m<module>\u001b[0;34m()\u001b[0m\n\u001b[0;32m----> 1\u001b[0;31m \u001b[0mbig10\u001b[0m\u001b[0;34m.\u001b[0m\u001b[0morder_by\u001b[0m\u001b[0;34m(\u001b[0m\u001b[0;34m'Graduation rate  total cohort (DRVGR2012)'\u001b[0m\u001b[0;34m,\u001b[0m \u001b[0mreverse\u001b[0m\u001b[0;34m=\u001b[0m\u001b[0;32mTrue\u001b[0m\u001b[0;34m)\u001b[0m\u001b[0;34m.\u001b[0m\u001b[0mprint_bars\u001b[0m\u001b[0;34m(\u001b[0m\u001b[0;34m'Institution Name'\u001b[0m \u001b[0;34m'Graduation rate  total cohort (DRVGR2012)'\u001b[0m\u001b[0;34m)\u001b[0m\u001b[0;34m\u001b[0m\u001b[0m\n\u001b[0m",
      "\u001b[0;32m/Users/utamidiahkusumawati/anaconda/lib/python3.6/site-packages/agate/table/print_bars.py\u001b[0m in \u001b[0;36mprint_bars\u001b[0;34m(self, label_column_name, value_column_name, domain, width, output, printable)\u001b[0m\n\u001b[1;32m     57\u001b[0m \u001b[0;34m\u001b[0m\u001b[0m\n\u001b[1;32m     58\u001b[0m     \u001b[0my_label\u001b[0m \u001b[0;34m=\u001b[0m \u001b[0mlabel_column_name\u001b[0m\u001b[0;34m\u001b[0m\u001b[0m\n\u001b[0;32m---> 59\u001b[0;31m     \u001b[0mlabel_column\u001b[0m \u001b[0;34m=\u001b[0m \u001b[0mself\u001b[0m\u001b[0;34m.\u001b[0m\u001b[0m_columns\u001b[0m\u001b[0;34m[\u001b[0m\u001b[0mlabel_column_name\u001b[0m\u001b[0;34m]\u001b[0m\u001b[0;34m\u001b[0m\u001b[0m\n\u001b[0m\u001b[1;32m     60\u001b[0m \u001b[0;34m\u001b[0m\u001b[0m\n\u001b[1;32m     61\u001b[0m     \u001b[0;31m# if not isinstance(label_column.data_type, Text):\u001b[0m\u001b[0;34m\u001b[0m\u001b[0;34m\u001b[0m\u001b[0m\n",
      "\u001b[0;32m/Users/utamidiahkusumawati/anaconda/lib/python3.6/site-packages/agate/mapped_sequence.py\u001b[0m in \u001b[0;36m__getitem__\u001b[0;34m(self, key)\u001b[0m\n\u001b[1;32m     92\u001b[0m             \u001b[0;32mreturn\u001b[0m \u001b[0mself\u001b[0m\u001b[0;34m.\u001b[0m\u001b[0mvalues\u001b[0m\u001b[0;34m(\u001b[0m\u001b[0;34m)\u001b[0m\u001b[0;34m[\u001b[0m\u001b[0mkey\u001b[0m\u001b[0;34m]\u001b[0m\u001b[0;34m\u001b[0m\u001b[0m\n\u001b[1;32m     93\u001b[0m         \u001b[0;32melse\u001b[0m\u001b[0;34m:\u001b[0m\u001b[0;34m\u001b[0m\u001b[0m\n\u001b[0;32m---> 94\u001b[0;31m             \u001b[0;32mreturn\u001b[0m \u001b[0mself\u001b[0m\u001b[0;34m.\u001b[0m\u001b[0mdict\u001b[0m\u001b[0;34m(\u001b[0m\u001b[0;34m)\u001b[0m\u001b[0;34m[\u001b[0m\u001b[0mkey\u001b[0m\u001b[0;34m]\u001b[0m\u001b[0;34m\u001b[0m\u001b[0m\n\u001b[0m\u001b[1;32m     95\u001b[0m \u001b[0;34m\u001b[0m\u001b[0m\n\u001b[1;32m     96\u001b[0m     \u001b[0;32mdef\u001b[0m \u001b[0m__setitem__\u001b[0m\u001b[0;34m(\u001b[0m\u001b[0mself\u001b[0m\u001b[0;34m,\u001b[0m \u001b[0mkey\u001b[0m\u001b[0;34m,\u001b[0m \u001b[0mvalue\u001b[0m\u001b[0;34m)\u001b[0m\u001b[0;34m:\u001b[0m\u001b[0;34m\u001b[0m\u001b[0m\n",
      "\u001b[0;31mKeyError\u001b[0m: 'Institution NameGraduation rate  total cohort (DRVGR2012)'"
     ]
    }
   ],
   "source": [
    "big10.order_by('Graduation rate  total cohort (DRVGR2012)', reverse=True).print_bars('Institution Name' 'Graduation rate  total cohort (DRVGR2012)')"
   ]
  },
  {
   "cell_type": "code",
   "execution_count": 10,
   "metadata": {},
   "outputs": [
    {
     "ename": "SyntaxError",
     "evalue": "unexpected EOF while parsing (<ipython-input-10-e132e90f03e7>, line 1)",
     "output_type": "error",
     "traceback": [
      "\u001b[0;36m  File \u001b[0;32m\"<ipython-input-10-e132e90f03e7>\"\u001b[0;36m, line \u001b[0;32m1\u001b[0m\n\u001b[0;31m    big10.order_by('Graduation rate  total cohort (DRVGR2012)', reverse=True).print_bars(('Institution Name', 'Graduation rate  total cohort (DRVGR2012)')\u001b[0m\n\u001b[0m                                                                                                                                                          ^\u001b[0m\n\u001b[0;31mSyntaxError\u001b[0m\u001b[0;31m:\u001b[0m unexpected EOF while parsing\n"
     ]
    }
   ],
   "source": [
    "big10.order_by('Graduation rate  total cohort (DRVGR2012)', reverse=True).print_bars(('Institution Name', 'Graduation rate  total cohort (DRVGR2012)')"
   ]
  },
  {
   "cell_type": "code",
   "execution_count": 11,
   "metadata": {},
   "outputs": [
    {
     "name": "stdout",
     "output_type": "stream",
     "text": [
      "Institution Name                           Graduation rate  total cohort (DRVGR2012)\n",
      "Northwestern University                                                           93 ▓░░░░░░░░░░░░░░░░░░░░░░░░░░░  \n",
      "University of Michigan-Ann Arbor                                                  91 ▓░░░░░░░░░░░░░░░░░░░░░░░░░░   \n",
      "Pennsylvania State University-Main Campus                                         86 ▓░░░░░░░░░░░░░░░░░░░░░░░░░    \n",
      "University of Illinois at Urbana-Champaign                                        84 ▓░░░░░░░░░░░░░░░░░░░░░░░░     \n",
      "Ohio State University-Main Campus                                                 82 ▓░░░░░░░░░░░░░░░░░░░░░░░░     \n",
      "University of Maryland-College Park                                               82 ▓░░░░░░░░░░░░░░░░░░░░░░░░     \n",
      "University of Wisconsin-Madison                                                   82 ▓░░░░░░░░░░░░░░░░░░░░░░░░     \n",
      "Michigan State University                                                         79 ▓░░░░░░░░░░░░░░░░░░░░░░░      \n",
      "Rutgers University-New Brunswick                                                  79 ▓░░░░░░░░░░░░░░░░░░░░░░░      \n",
      "Indiana University-Bloomington                                                    75 ▓░░░░░░░░░░░░░░░░░░░░░░       \n",
      "University of Minnesota-Twin Cities                                               73 ▓░░░░░░░░░░░░░░░░░░░░░        \n",
      "University of Iowa                                                                70 ▓░░░░░░░░░░░░░░░░░░░░         \n",
      "Purdue University-Main Campus                                                     69 ▓░░░░░░░░░░░░░░░░░░░░         \n",
      "University of Nebraska-Lincoln                                                    65 ▓░░░░░░░░░░░░░░░░░░░          \n",
      "                                                                                     +------+------+-------+------+\n",
      "                                                                                     0     25     50      75    100\n"
     ]
    }
   ],
   "source": [
    "big10.order_by('Graduation rate  total cohort (DRVGR2012)', reverse=True).print_bars('Institution Name', 'Graduation rate  total cohort (DRVGR2012)', width=115)"
   ]
  },
  {
   "cell_type": "code",
   "execution_count": 12,
   "metadata": {
    "collapsed": true
   },
   "outputs": [],
   "source": [
    "average_tuition = big10.aggregate(agate.Mean('Total price for in-state students living on campus 2012-13 (DRVIC2012)'))"
   ]
  },
  {
   "cell_type": "code",
   "execution_count": 13,
   "metadata": {},
   "outputs": [
    {
     "name": "stdout",
     "output_type": "stream",
     "text": [
      "27652.85714285714285714285714\n"
     ]
    }
   ],
   "source": [
    "print(average_tuition)"
   ]
  },
  {
   "cell_type": "code",
   "execution_count": null,
   "metadata": {
    "collapsed": true
   },
   "outputs": [],
   "source": []
  }
 ],
 "metadata": {
  "kernelspec": {
   "display_name": "Python 3",
   "language": "python",
   "name": "python3"
  },
  "language_info": {
   "codemirror_mode": {
    "name": "ipython",
    "version": 3
   },
   "file_extension": ".py",
   "mimetype": "text/x-python",
   "name": "python",
   "nbconvert_exporter": "python",
   "pygments_lexer": "ipython3",
   "version": "3.6.1"
  }
 },
 "nbformat": 4,
 "nbformat_minor": 2
}

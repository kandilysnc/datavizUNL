{
 "cells": [
  {
   "cell_type": "code",
   "execution_count": 1,
   "metadata": {
    "collapsed": true
   },
   "outputs": [],
   "source": [
    "import agate"
   ]
  },
  {
   "cell_type": "code",
   "execution_count": 2,
   "metadata": {
    "collapsed": true
   },
   "outputs": [],
   "source": [
    "mountainlions = agate.Table.from_csv('Data/mountainlions.csv')"
   ]
  },
  {
   "cell_type": "code",
   "execution_count": 3,
   "metadata": {},
   "outputs": [
    {
     "name": "stdout",
     "output_type": "stream",
     "text": [
      "| column      | data_type |\n",
      "| ----------- | --------- |\n",
      "| ID          | Number    |\n",
      "| Cofirm Type | Text      |\n",
      "| COUNTY      | Text      |\n",
      "| Date        | Date      |\n",
      "\n"
     ]
    }
   ],
   "source": [
    "print(mountainlions)\n"
   ]
  },
  {
   "cell_type": "code",
   "execution_count": 4,
   "metadata": {
    "collapsed": true
   },
   "outputs": [],
   "source": [
    "by_date = mountainlions.group_by('Date')"
   ]
  },
  {
   "cell_type": "code",
   "execution_count": 5,
   "metadata": {},
   "outputs": [
    {
     "name": "stdout",
     "output_type": "stream",
     "text": [
      "352\n"
     ]
    }
   ],
   "source": [
    "print (len(by_date))"
   ]
  },
  {
   "cell_type": "markdown",
   "metadata": {},
   "source": [
    "if you want to have specific column put 'values'"
   ]
  },
  {
   "cell_type": "code",
   "execution_count": 6,
   "metadata": {
    "collapsed": true
   },
   "outputs": [],
   "source": [
    "by_county = mountainlions.group_by('COUNTY')"
   ]
  },
  {
   "cell_type": "code",
   "execution_count": 7,
   "metadata": {},
   "outputs": [
    {
     "name": "stdout",
     "output_type": "stream",
     "text": [
      "42\n"
     ]
    }
   ],
   "source": [
    "print (len(by_county))"
   ]
  },
  {
   "cell_type": "code",
   "execution_count": null,
   "metadata": {
    "collapsed": true
   },
   "outputs": [],
   "source": []
  },
  {
   "cell_type": "code",
   "execution_count": 9,
   "metadata": {
    "collapsed": true
   },
   "outputs": [],
   "source": [
    "county_totals = by_county.aggregate ([\n",
    "    ('count', agate.Count())\n",
    "])"
   ]
  },
  {
   "cell_type": "code",
   "execution_count": 10,
   "metadata": {},
   "outputs": [
    {
     "name": "stdout",
     "output_type": "stream",
     "text": [
      "| column | data_type |\n",
      "| ------ | --------- |\n",
      "| COUNTY | Text      |\n",
      "| count  | Number    |\n",
      "\n"
     ]
    }
   ],
   "source": [
    "print(county_totals)"
   ]
  },
  {
   "cell_type": "markdown",
   "metadata": {},
   "source": [
    "max_rows = 10 means that agate will only give you 10 rows, sorting out your rows into 10 ten"
   ]
  },
  {
   "cell_type": "code",
   "execution_count": 11,
   "metadata": {},
   "outputs": [
    {
     "name": "stdout",
     "output_type": "stream",
     "text": [
      "| COUNTY       | count |\n",
      "| ------------ | ----- |\n",
      "| Dawes        |   111 |\n",
      "| Sioux        |    52 |\n",
      "| Scotts Bluff |    26 |\n",
      "| Box Butte    |     4 |\n",
      "| Howard       |     3 |\n",
      "| Brown        |    15 |\n",
      "| Douglas      |     2 |\n",
      "| Cherry       |    30 |\n",
      "| Thomas       |     5 |\n",
      "| Keya Paha    |    20 |\n",
      "| Dakota       |     3 |\n",
      "| Sarpy        |     1 |\n",
      "| Custer       |     8 |\n",
      "| Sheridan     |    35 |\n",
      "| Banner       |     6 |\n",
      "| Knox         |     8 |\n",
      "| Nance        |     1 |\n",
      "| Platte       |     1 |\n",
      "| Dawson       |     5 |\n",
      "| Rock         |    11 |\n",
      "| ...          |   ... |\n"
     ]
    }
   ],
   "source": [
    "county_totals.print_table()"
   ]
  },
  {
   "cell_type": "code",
   "execution_count": 5,
   "metadata": {
    "collapsed": true
   },
   "outputs": [],
   "source": [
    "import agate"
   ]
  },
  {
   "cell_type": "code",
   "execution_count": 6,
   "metadata": {
    "collapsed": true
   },
   "outputs": [],
   "source": [
    "mountainlions = agate.Table.from_csv('Data/mountainlions.csv')"
   ]
  },
  {
   "cell_type": "code",
   "execution_count": 7,
   "metadata": {},
   "outputs": [
    {
     "name": "stdout",
     "output_type": "stream",
     "text": [
      "| column      | data_type |\n",
      "| ----------- | --------- |\n",
      "| ID          | Number    |\n",
      "| Cofirm Type | Text      |\n",
      "| COUNTY      | Text      |\n",
      "| Date        | Date      |\n",
      "\n"
     ]
    }
   ],
   "source": [
    "print (mountainlions)"
   ]
  },
  {
   "cell_type": "code",
   "execution_count": 8,
   "metadata": {
    "collapsed": true
   },
   "outputs": [],
   "source": [
    "by_county = mountainlions.group_by('COUNTY')"
   ]
  },
  {
   "cell_type": "code",
   "execution_count": 9,
   "metadata": {},
   "outputs": [
    {
     "name": "stdout",
     "output_type": "stream",
     "text": [
      "| table        | rows |\n",
      "| ------------ | ---- |\n",
      "| Dawes        | 111  |\n",
      "| Sioux        | 52   |\n",
      "| Scotts Bluff | 26   |\n",
      "| Box Butte    | 4    |\n",
      "| Howard       | 3    |\n",
      "| Brown        | 15   |\n",
      "| Douglas      | 2    |\n",
      "| Cherry       | 30   |\n",
      "| Thomas       | 5    |\n",
      "| Keya Paha    | 20   |\n",
      "| Dakota       | 3    |\n",
      "| Sarpy        | 1    |\n",
      "| Custer       | 8    |\n",
      "| Sheridan     | 35   |\n",
      "| Banner       | 6    |\n",
      "| Knox         | 8    |\n",
      "| Nance        | 1    |\n",
      "| Platte       | 1    |\n",
      "| Dawson       | 5    |\n",
      "| Rock         | 11   |\n",
      "\n"
     ]
    }
   ],
   "source": [
    "print(by_county)"
   ]
  },
  {
   "cell_type": "code",
   "execution_count": 10,
   "metadata": {},
   "outputs": [
    {
     "name": "stdout",
     "output_type": "stream",
     "text": [
      "42\n"
     ]
    }
   ],
   "source": [
    "print (len(by_county))"
   ]
  },
  {
   "cell_type": "code",
   "execution_count": 11,
   "metadata": {
    "collapsed": true
   },
   "outputs": [],
   "source": [
    "county_totals = by_county.aggregate ([\n",
    "    ('count', agate.Count())\n",
    "])"
   ]
  },
  {
   "cell_type": "code",
   "execution_count": 12,
   "metadata": {},
   "outputs": [
    {
     "name": "stdout",
     "output_type": "stream",
     "text": [
      "| column | data_type |\n",
      "| ------ | --------- |\n",
      "| COUNTY | Text      |\n",
      "| count  | Number    |\n",
      "\n"
     ]
    }
   ],
   "source": [
    "print(county_totals)"
   ]
  },
  {
   "cell_type": "code",
   "execution_count": 13,
   "metadata": {
    "collapsed": true
   },
   "outputs": [],
   "source": [
    "sorted_counties = county_totals.order_by('count', reverse =True)"
   ]
  },
  {
   "cell_type": "code",
   "execution_count": 14,
   "metadata": {},
   "outputs": [
    {
     "name": "stdout",
     "output_type": "stream",
     "text": [
      "| COUNTY       | count |\n",
      "| ------------ | ----- |\n",
      "| Dawes        |   111 |\n",
      "| Sioux        |    52 |\n",
      "| Sheridan     |    35 |\n",
      "| Cherry       |    30 |\n",
      "| Scotts Bluff |    26 |\n",
      "| Keya Paha    |    20 |\n",
      "| Brown        |    15 |\n",
      "| Rock         |    11 |\n",
      "| Lincoln      |    10 |\n",
      "| Custer       |     8 |\n",
      "| Knox         |     8 |\n",
      "| Banner       |     6 |\n",
      "| Thomas       |     5 |\n",
      "| Dawson       |     5 |\n",
      "| Nemaha       |     5 |\n",
      "| Box Butte    |     4 |\n",
      "| Howard       |     3 |\n",
      "| Dakota       |     3 |\n",
      "| Blaine       |     3 |\n",
      "| Buffalo      |     3 |\n",
      "| ...          |   ... |\n"
     ]
    }
   ],
   "source": [
    "sorted_counties.print_table()"
   ]
  },
  {
   "cell_type": "code",
   "execution_count": 15,
   "metadata": {},
   "outputs": [
    {
     "name": "stdout",
     "output_type": "stream",
     "text": [
      "| COUNTY       | count |\n",
      "| ------------ | ----- |\n",
      "| Dawes        |   111 |\n",
      "| Sioux        |    52 |\n",
      "| Sheridan     |    35 |\n",
      "| Cherry       |    30 |\n",
      "| Scotts Bluff |    26 |\n",
      "| Keya Paha    |    20 |\n",
      "| Brown        |    15 |\n",
      "| Rock         |    11 |\n",
      "| Lincoln      |    10 |\n",
      "| Custer       |     8 |\n",
      "| Knox         |     8 |\n",
      "| Banner       |     6 |\n",
      "| Thomas       |     5 |\n",
      "| Dawson       |     5 |\n",
      "| Nemaha       |     5 |\n",
      "| Box Butte    |     4 |\n",
      "| Howard       |     3 |\n",
      "| Dakota       |     3 |\n",
      "| Blaine       |     3 |\n",
      "| Buffalo      |     3 |\n",
      "| Dixon        |     3 |\n",
      "| Douglas      |     2 |\n",
      "| Saunders     |     2 |\n",
      "| sheridan     |     2 |\n",
      "| Holt         |     2 |\n",
      "| ...          |   ... |\n"
     ]
    }
   ],
   "source": [
    "sorted_counties.print_table(max_rows=25)"
   ]
  },
  {
   "cell_type": "code",
   "execution_count": null,
   "metadata": {
    "collapsed": true
   },
   "outputs": [],
   "source": []
  }
 ],
 "metadata": {
  "kernelspec": {
   "display_name": "Python 3",
   "language": "python",
   "name": "python3"
  },
  "language_info": {
   "codemirror_mode": {
    "name": "ipython",
    "version": 3
   },
   "file_extension": ".py",
   "mimetype": "text/x-python",
   "name": "python",
   "nbconvert_exporter": "python",
   "pygments_lexer": "ipython3",
   "version": "3.6.1"
  }
 },
 "nbformat": 4,
 "nbformat_minor": 2
}

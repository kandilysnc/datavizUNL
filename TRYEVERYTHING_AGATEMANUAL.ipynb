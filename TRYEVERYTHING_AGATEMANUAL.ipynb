{
 "cells": [
  {
   "cell_type": "code",
   "execution_count": null,
   "metadata": {
    "collapsed": true
   },
   "outputs": [],
   "source": [
    "import agate"
   ]
  },
  {
   "cell_type": "markdown",
   "metadata": {},
   "source": [
    "this code for importing the agate. first step. "
   ]
  },
  {
   "cell_type": "code",
   "execution_count": 2,
   "metadata": {
    "collapsed": true
   },
   "outputs": [],
   "source": [
    "salaries = agate.Table.from_csv('Data/nusalaries1718.csv')"
   ]
  },
  {
   "cell_type": "markdown",
   "metadata": {},
   "source": [
    "Next step: Importing data. We use the code ('Data/nusalaries1718.csv') because the data is saved in the data folder, home directory. If you put in the download use code ('/Users/utamidiahkusumawati/Downloads/nusalaries1718.csv')"
   ]
  },
  {
   "cell_type": "code",
   "execution_count": 3,
   "metadata": {},
   "outputs": [
    {
     "name": "stdout",
     "output_type": "stream",
     "text": [
      "| column                        | data_type |\n",
      "| ----------------------------- | --------- |\n",
      "| Employee                      | Text      |\n",
      "| Position                      | Text      |\n",
      "| Campus                        | Text      |\n",
      "| Department                    | Text      |\n",
      "| Budgeted Annual Salary        | Number    |\n",
      "| Salary from State Aided Funds | Number    |\n",
      "| Salary from Other Funds       | Number    |\n",
      "\n"
     ]
    }
   ],
   "source": [
    "print(salaries)"
   ]
  },
  {
   "cell_type": "markdown",
   "metadata": {},
   "source": [
    "So, let's print the data by using code print(variable name) --> print(salaries)"
   ]
  },
  {
   "cell_type": "code",
   "execution_count": 4,
   "metadata": {},
   "outputs": [
    {
     "name": "stdout",
     "output_type": "stream",
     "text": [
      "| Employee             | Position             | Campus | Department           | Budgeted Annual S... | Salary from State... | ... |\n",
      "| -------------------- | -------------------- | ------ | -------------------- | -------------------- | -------------------- | --- |\n",
      "| Abbey, Bryce M       | Assistant Professor  | UNK    | Kinesiology & Spo... |               52,625 |               52,625 | ... |\n",
      "| Abbott, Amanda A     | Admissions Associate | UNO    | Graduate Studies     |               34,164 |               34,164 | ... |\n",
      "| Abbott, Frances M    | Staff Secy III       | UNL    | FM&P Facilities P... |               36,676 |               36,676 | ... |\n",
      "| Abboud, Cheryl A     | Administrator I      | UNMC   | Surgery-Urologic ... |               72,774 |                      | ... |\n",
      "| Abdalla, Maher Y     | Asst Professor       | UNMC   | Pathology/Microbi... |               73,488 |               58,866 | ... |\n",
      "| Abdel-Monem, Tarik L | Research Specialist  | UNL    | Public Policy Center |               57,496 |                      | ... |\n",
      "| Abdessalam, Shahab F | Assoc Professor      | UNMC   | Surgery-Pediatric... |               42,580 |                      | ... |\n",
      "| Abdouch, Ivan G      | Assoc Professor      | UNMC   | Family Medicine      |              151,954 |               17,450 | ... |\n",
      "| Abdouch, Ivan G      | Assoc Residency P... | UNMC   | Family Medicine      |                2,750 |                2,750 | ... |\n",
      "| Abegg, Julia M       | Ag Rsch Technician I | UNL    | USMARC               |               26,834 |                      | ... |\n",
      "| Abel, Marco          | Chairperson          | UNL    | English              |               62,878 |               62,878 | ... |\n",
      "| Abel, Marco          | Professor            | UNL    | English              |               38,586 |               38,586 | ... |\n",
      "| Abel, Rick A         | Control Systems T... | UNL    | FM&P Building Sys... |               55,240 |               55,240 | ... |\n",
      "| Abelbeck, Michelle M | Office Assistant     | UNO    | Operations           |               29,307 |               28,249 | ... |\n",
      "| Abell, Jacqueline P  | Director of Educa... | UNK    | Museum of Nebrask... |               42,511 |                      | ... |\n",
      "| Abels, Margaret M    | Director Health P... | UNK    | Health Science Pr... |               60,107 |               60,107 | ... |\n",
      "| Abendroth, Curtis L  | Asst Dir Faciliti... | UNL    | Housing Facilitie... |               77,695 |                      | ... |\n",
      "| Aboeata, Ahmed S     | Asst Professor       | UNMC   | Int Med Cardiology   |               45,000 |               34,000 | ... |\n",
      "| Abraham, Kym L       | Research Nurse Co... | UNMC   | Pediatrics Admini... |               68,628 |                      | ... |\n",
      "| Abram, Frederick C   | Lead Teacher         | UNO    | Child Care Center    |               24,960 |                      | ... |\n",
      "| ...                  | ...                  | ...    | ...                  |                  ... |                  ... | ... |\n"
     ]
    }
   ],
   "source": [
    "salaries.print_table()"
   ]
  },
  {
   "cell_type": "markdown",
   "metadata": {},
   "source": [
    "If you use the code: print(salaries) or salaries.print_structure(), you will not get the whole pictures of the tables, including the columns and rows, numbers and texts. However, if you want to know whole pictures of table, with numbers or long texts, type code: variable name.print_table() --> salaries.print_table()"
   ]
  },
  {
   "cell_type": "code",
   "execution_count": 6,
   "metadata": {},
   "outputs": [
    {
     "name": "stdout",
     "output_type": "stream",
     "text": [
      "| column                        | data_type |\n",
      "| ----------------------------- | --------- |\n",
      "| Employee                      | Text      |\n",
      "| Position                      | Text      |\n",
      "| Campus                        | Text      |\n",
      "| Department                    | Text      |\n",
      "| Budgeted Annual Salary        | Number    |\n",
      "| Salary from State Aided Funds | Number    |\n",
      "| Salary from Other Funds       | Number    |\n"
     ]
    }
   ],
   "source": [
    "salaries.print_structure()"
   ]
  },
  {
   "cell_type": "markdown",
   "metadata": {},
   "source": [
    "test case for knowing what kind of columns, same with previous step."
   ]
  },
  {
   "cell_type": "code",
   "execution_count": 8,
   "metadata": {
    "collapsed": true
   },
   "outputs": [],
   "source": [
    "unl = salaries.where(lambda row: row['Campus'] is 'UNL')"
   ]
  },
  {
   "cell_type": "markdown",
   "metadata": {},
   "source": [
    "Since the table provides you with salaries from all University of Nebraska campus, you need to limit it only for UNL employee. So.... let's call the variable by using code: unl = salaries.where(lambda row: row('Campus') is 'UNL') Ok, campus and UNL are the name of values we choose, and you use table.where() to pick up certain rows. (actually im still confused why we dont use:   table.select(lambda column: column('Campus')...? since we are taking columns rather than rows??? #question "
   ]
  },
  {
   "cell_type": "code",
   "execution_count": 9,
   "metadata": {},
   "outputs": [
    {
     "name": "stdout",
     "output_type": "stream",
     "text": [
      "0\n"
     ]
    }
   ],
   "source": [
    "print (len(unl.rows))"
   ]
  },
  {
   "cell_type": "markdown",
   "metadata": {},
   "source": [
    "this is the code for filtering UNL employee only salaries. (PS. I still do not know what len refers to and why should rows and not columns?)"
   ]
  },
  {
   "cell_type": "code",
   "execution_count": 10,
   "metadata": {
    "collapsed": true
   },
   "outputs": [],
   "source": [
    "unl = salaries.where(lambda row: row['Campus'] == 'UNL')"
   ]
  },
  {
   "cell_type": "markdown",
   "metadata": {},
   "source": [
    "it seems that you should add one more equal sign == because UNL is not variable."
   ]
  },
  {
   "cell_type": "code",
   "execution_count": 2,
   "metadata": {},
   "outputs": [
    {
     "ename": "NameError",
     "evalue": "name 'salaries' is not defined",
     "output_type": "error",
     "traceback": [
      "\u001b[0;31m---------------------------------------------------------------------------\u001b[0m",
      "\u001b[0;31mNameError\u001b[0m                                 Traceback (most recent call last)",
      "\u001b[0;32m<ipython-input-2-11464e5a6ffc>\u001b[0m in \u001b[0;36m<module>\u001b[0;34m()\u001b[0m\n\u001b[0;32m----> 1\u001b[0;31m \u001b[0mold\u001b[0m \u001b[0;34m=\u001b[0m \u001b[0mlen\u001b[0m \u001b[0;34m(\u001b[0m\u001b[0msalaries\u001b[0m\u001b[0;34m.\u001b[0m\u001b[0mrows\u001b[0m\u001b[0;34m)\u001b[0m\u001b[0;34m\u001b[0m\u001b[0m\n\u001b[0m",
      "\u001b[0;31mNameError\u001b[0m: name 'salaries' is not defined"
     ]
    }
   ],
   "source": [
    "old = len (salaries.rows)"
   ]
  },
  {
   "cell_type": "code",
   "execution_count": 11,
   "metadata": {},
   "outputs": [
    {
     "name": "stdout",
     "output_type": "stream",
     "text": [
      "6315\n"
     ]
    }
   ],
   "source": [
    "print (len(unl.rows))"
   ]
  },
  {
   "cell_type": "markdown",
   "metadata": {},
   "source": [
    "call the result out"
   ]
  },
  {
   "cell_type": "code",
   "execution_count": 12,
   "metadata": {
    "collapsed": true
   },
   "outputs": [],
   "source": [
    "average_salaries = salaries.aggregate(agate.Mean('Budgeted Annual Salary'))"
   ]
  },
  {
   "cell_type": "markdown",
   "metadata": {},
   "source": [
    "finding average (mean) by using this template of code: name = variable.aggregate(agate.Mean('value')). ----> average_salaries = salaries.aggregate(agate.Mean('Budgeted Annual Salary')). "
   ]
  },
  {
   "cell_type": "code",
   "execution_count": 13,
   "metadata": {},
   "outputs": [
    {
     "name": "stdout",
     "output_type": "stream",
     "text": [
      "60972.20300236226472605349387\n"
     ]
    }
   ],
   "source": [
    "print(average_salaries)"
   ]
  },
  {
   "cell_type": "markdown",
   "metadata": {},
   "source": [
    "call the result out!"
   ]
  },
  {
   "cell_type": "code",
   "execution_count": 14,
   "metadata": {
    "collapsed": true
   },
   "outputs": [],
   "source": [
    "median_salaries = salaries.aggregate(agate.Median('Budgeted Annual Salary'))"
   ]
  },
  {
   "cell_type": "markdown",
   "metadata": {},
   "source": [
    "change the code with median. the rest is the same, hope this is correct one to count. "
   ]
  },
  {
   "cell_type": "code",
   "execution_count": 15,
   "metadata": {},
   "outputs": [
    {
     "name": "stdout",
     "output_type": "stream",
     "text": [
      "50247\n"
     ]
    }
   ],
   "source": [
    "print(median_salaries)"
   ]
  },
  {
   "cell_type": "markdown",
   "metadata": {},
   "source": [
    "the result of median annual salaries of the UNL employees. $50,247"
   ]
  },
  {
   "cell_type": "code",
   "execution_count": 3,
   "metadata": {},
   "outputs": [
    {
     "ename": "NameError",
     "evalue": "name 'unl' is not defined",
     "output_type": "error",
     "traceback": [
      "\u001b[0;31m---------------------------------------------------------------------------\u001b[0m",
      "\u001b[0;31mNameError\u001b[0m                                 Traceback (most recent call last)",
      "\u001b[0;32m<ipython-input-3-427c6594ac51>\u001b[0m in \u001b[0;36m<module>\u001b[0;34m()\u001b[0m\n\u001b[0;32m----> 1\u001b[0;31m \u001b[0mby_position\u001b[0m \u001b[0;34m=\u001b[0m \u001b[0munl\u001b[0m\u001b[0;34m.\u001b[0m\u001b[0mgroup_by\u001b[0m\u001b[0;34m(\u001b[0m\u001b[0;34m'Position'\u001b[0m\u001b[0;34m)\u001b[0m\u001b[0;34m\u001b[0m\u001b[0m\n\u001b[0m",
      "\u001b[0;31mNameError\u001b[0m: name 'unl' is not defined"
     ]
    }
   ],
   "source": [
    "by_position = unl.group_by('Position')"
   ]
  },
  {
   "cell_type": "code",
   "execution_count": null,
   "metadata": {
    "collapsed": true
   },
   "outputs": [],
   "source": []
  }
 ],
 "metadata": {
  "kernelspec": {
   "display_name": "Python 3",
   "language": "python",
   "name": "python3"
  },
  "language_info": {
   "codemirror_mode": {
    "name": "ipython",
    "version": 3
   },
   "file_extension": ".py",
   "mimetype": "text/x-python",
   "name": "python",
   "nbconvert_exporter": "python",
   "pygments_lexer": "ipython3",
   "version": "3.6.1"
  }
 },
 "nbformat": 4,
 "nbformat_minor": 2
}

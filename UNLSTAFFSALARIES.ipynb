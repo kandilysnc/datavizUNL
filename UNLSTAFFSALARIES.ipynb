{
 "cells": [
  {
   "cell_type": "code",
   "execution_count": null,
   "metadata": {
    "collapsed": true
   },
   "outputs": [],
   "source": [
    "import agate"
   ]
  },
  {
   "cell_type": "markdown",
   "metadata": {},
   "source": [
    "this code for importing the agate. first step."
   ]
  },
  {
   "cell_type": "code",
   "execution_count": 2,
   "metadata": {
    "collapsed": true
   },
   "outputs": [],
   "source": [
    "salaries = agate.Table.from_csv('Data/nusalaries1718.csv')"
   ]
  },
  {
   "cell_type": "markdown",
   "metadata": {},
   "source": [
    "Next step: Importing data. We use the code ('Data/nusalaries1718.csv') because the data is saved in the data folder, home directory. If you put in the download use code ('/Users/utamidiahkusumawati/Downloads/nusalaries1718.csv')"
   ]
  },
  {
   "cell_type": "code",
   "execution_count": 3,
   "metadata": {},
   "outputs": [
    {
     "name": "stdout",
     "output_type": "stream",
     "text": [
      "| column                        | data_type |\n",
      "| ----------------------------- | --------- |\n",
      "| Employee                      | Text      |\n",
      "| Position                      | Text      |\n",
      "| Campus                        | Text      |\n",
      "| Department                    | Text      |\n",
      "| Budgeted Annual Salary        | Number    |\n",
      "| Salary from State Aided Funds | Number    |\n",
      "| Salary from Other Funds       | Number    |\n",
      "\n"
     ]
    }
   ],
   "source": [
    "print(salaries)"
   ]
  },
  {
   "cell_type": "markdown",
   "metadata": {},
   "source": [
    "So, let's print the data by using code print(variable name) --> print(salaries)"
   ]
  },
  {
   "cell_type": "code",
   "execution_count": 4,
   "metadata": {},
   "outputs": [
    {
     "name": "stdout",
     "output_type": "stream",
     "text": [
      "| Employee             | Position             | Campus | Department           | Budgeted Annual S... | Salary from State... | ... |\n",
      "| -------------------- | -------------------- | ------ | -------------------- | -------------------- | -------------------- | --- |\n",
      "| Abbey, Bryce M       | Assistant Professor  | UNK    | Kinesiology & Spo... |               52,625 |               52,625 | ... |\n",
      "| Abbott, Amanda A     | Admissions Associate | UNO    | Graduate Studies     |               34,164 |               34,164 | ... |\n",
      "| Abbott, Frances M    | Staff Secy III       | UNL    | FM&P Facilities P... |               36,676 |               36,676 | ... |\n",
      "| Abboud, Cheryl A     | Administrator I      | UNMC   | Surgery-Urologic ... |               72,774 |                      | ... |\n",
      "| Abdalla, Maher Y     | Asst Professor       | UNMC   | Pathology/Microbi... |               73,488 |               58,866 | ... |\n",
      "| Abdel-Monem, Tarik L | Research Specialist  | UNL    | Public Policy Center |               57,496 |                      | ... |\n",
      "| Abdessalam, Shahab F | Assoc Professor      | UNMC   | Surgery-Pediatric... |               42,580 |                      | ... |\n",
      "| Abdouch, Ivan G      | Assoc Professor      | UNMC   | Family Medicine      |              151,954 |               17,450 | ... |\n",
      "| Abdouch, Ivan G      | Assoc Residency P... | UNMC   | Family Medicine      |                2,750 |                2,750 | ... |\n",
      "| Abegg, Julia M       | Ag Rsch Technician I | UNL    | USMARC               |               26,834 |                      | ... |\n",
      "| Abel, Marco          | Chairperson          | UNL    | English              |               62,878 |               62,878 | ... |\n",
      "| Abel, Marco          | Professor            | UNL    | English              |               38,586 |               38,586 | ... |\n",
      "| Abel, Rick A         | Control Systems T... | UNL    | FM&P Building Sys... |               55,240 |               55,240 | ... |\n",
      "| Abelbeck, Michelle M | Office Assistant     | UNO    | Operations           |               29,307 |               28,249 | ... |\n",
      "| Abell, Jacqueline P  | Director of Educa... | UNK    | Museum of Nebrask... |               42,511 |                      | ... |\n",
      "| Abels, Margaret M    | Director Health P... | UNK    | Health Science Pr... |               60,107 |               60,107 | ... |\n",
      "| Abendroth, Curtis L  | Asst Dir Faciliti... | UNL    | Housing Facilitie... |               77,695 |                      | ... |\n",
      "| Aboeata, Ahmed S     | Asst Professor       | UNMC   | Int Med Cardiology   |               45,000 |               34,000 | ... |\n",
      "| Abraham, Kym L       | Research Nurse Co... | UNMC   | Pediatrics Admini... |               68,628 |                      | ... |\n",
      "| Abram, Frederick C   | Lead Teacher         | UNO    | Child Care Center    |               24,960 |                      | ... |\n",
      "| ...                  | ...                  | ...    | ...                  |                  ... |                  ... | ... |\n"
     ]
    }
   ],
   "source": [
    "salaries.print_table()"
   ]
  },
  {
   "cell_type": "markdown",
   "metadata": {},
   "source": [
    "If you use the code: print(salaries) or salaries.print_structure(), you will not get the whole pictures of the tables, including the columns and rows, numbers and texts. However, if you want to know whole pictures of table, with numbers or long texts, type code: variable name.print_table() --> salaries.print_table()"
   ]
  },
  {
   "cell_type": "code",
   "execution_count": 5,
   "metadata": {},
   "outputs": [
    {
     "name": "stdout",
     "output_type": "stream",
     "text": [
      "| column                        | data_type |\n",
      "| ----------------------------- | --------- |\n",
      "| Employee                      | Text      |\n",
      "| Position                      | Text      |\n",
      "| Campus                        | Text      |\n",
      "| Department                    | Text      |\n",
      "| Budgeted Annual Salary        | Number    |\n",
      "| Salary from State Aided Funds | Number    |\n",
      "| Salary from Other Funds       | Number    |\n"
     ]
    }
   ],
   "source": [
    "salaries.print_structure()"
   ]
  },
  {
   "cell_type": "markdown",
   "metadata": {},
   "source": [
    "test case for knowing what kind of columns, same with previous step."
   ]
  },
  {
   "cell_type": "code",
   "execution_count": 6,
   "metadata": {
    "collapsed": true
   },
   "outputs": [],
   "source": [
    "unl = salaries.where(lambda row: row['Campus'] is 'UNL')"
   ]
  },
  {
   "cell_type": "markdown",
   "metadata": {},
   "source": [
    "Since the table provides you with salaries from all University of Nebraska campus, you need to limit it only for UNL employee. So.... let's call the variable by using code: unl = salaries.where(lambda row: row('Campus') is 'UNL') Ok, campus and UNL are the name of values we choose, and you use table.where() to pick up certain rows. "
   ]
  },
  {
   "cell_type": "code",
   "execution_count": 7,
   "metadata": {},
   "outputs": [
    {
     "name": "stdout",
     "output_type": "stream",
     "text": [
      "0\n"
     ]
    }
   ],
   "source": [
    "print (len(unl.rows))"
   ]
  },
  {
   "cell_type": "markdown",
   "metadata": {},
   "source": [
    "this is the code for filtering UNL employee only salaries. len means you will calculate number of rows of the UNL's employee"
   ]
  },
  {
   "cell_type": "code",
   "execution_count": 8,
   "metadata": {
    "collapsed": true
   },
   "outputs": [],
   "source": [
    "unl = salaries.where(lambda row: row['Campus'] == 'UNL')"
   ]
  },
  {
   "cell_type": "markdown",
   "metadata": {},
   "source": [
    "use double equal to compare. unl = data used from salaries (file) and from Column Campus and Rows contains UNL"
   ]
  },
  {
   "cell_type": "code",
   "execution_count": 9,
   "metadata": {},
   "outputs": [
    {
     "name": "stdout",
     "output_type": "stream",
     "text": [
      "6315\n"
     ]
    }
   ],
   "source": [
    "print (len(unl.rows))"
   ]
  },
  {
   "cell_type": "markdown",
   "metadata": {},
   "source": [
    "number of rows of the UNL's employees"
   ]
  },
  {
   "cell_type": "code",
   "execution_count": 10,
   "metadata": {
    "collapsed": true
   },
   "outputs": [],
   "source": [
    "average_salaries = unl.aggregate(agate.Mean('Budgeted Annual Salary'))"
   ]
  },
  {
   "cell_type": "markdown",
   "metadata": {},
   "source": [
    "finding average (mean) by using this template of code: name = variable.aggregate(agate.Mean('value')). ----> average_salaries = unl.aggregate(agate.Mean('Budgeted Annual Salary')). since we use only the data for UNL, then we use unl as variable"
   ]
  },
  {
   "cell_type": "code",
   "execution_count": 11,
   "metadata": {},
   "outputs": [
    {
     "name": "stdout",
     "output_type": "stream",
     "text": [
      "61579.16484560570071258907363\n"
     ]
    }
   ],
   "source": [
    "print(average_salaries)"
   ]
  },
  {
   "cell_type": "markdown",
   "metadata": {},
   "source": [
    "call the result out!"
   ]
  },
  {
   "cell_type": "code",
   "execution_count": 12,
   "metadata": {
    "collapsed": true
   },
   "outputs": [],
   "source": [
    "median_salaries = unl.aggregate(agate.Median('Budgeted Annual Salary'))"
   ]
  },
  {
   "cell_type": "markdown",
   "metadata": {},
   "source": [
    "change the code with median. the rest is the same, hope this is correct one to count."
   ]
  },
  {
   "cell_type": "code",
   "execution_count": 13,
   "metadata": {},
   "outputs": [
    {
     "name": "stdout",
     "output_type": "stream",
     "text": [
      "49449\n"
     ]
    }
   ],
   "source": [
    "print(median_salaries)"
   ]
  },
  {
   "cell_type": "markdown",
   "metadata": {},
   "source": [
    "call the result out!"
   ]
  },
  {
   "cell_type": "code",
   "execution_count": 14,
   "metadata": {
    "collapsed": true
   },
   "outputs": [],
   "source": [
    "by_position = unl.group_by('Position','Budgeted Annual Salary')"
   ]
  },
  {
   "cell_type": "markdown",
   "metadata": {},
   "source": [
    "Code for grouping and sorting the UNL's table only for job title (position) and salaries, leaving out the department. I created by_position as my variable."
   ]
  },
  {
   "cell_type": "code",
   "execution_count": 15,
   "metadata": {},
   "outputs": [
    {
     "name": "stdout",
     "output_type": "stream",
     "text": [
      "| table                                | rows |\n",
      "| ------------------------------------ | ---- |\n",
      "| Staff Secy III                       | 22   |\n",
      "| Research Specialist                  | 6    |\n",
      "| Ag Rsch Technician I                 | 50   |\n",
      "| Chairperson                          | 34   |\n",
      "| Professor                            | 538  |\n",
      "| Control Systems Tech/Alarm Sys       | 1    |\n",
      "| Asst Dir Facilities Mgt/Maintenance  | 1    |\n",
      "| Assistant Professor                  | 201  |\n",
      "| Assoc Exten Educator                 | 46   |\n",
      "| Residence Hall Custodian II          | 66   |\n",
      "| Supply Control Asst                  | 1    |\n",
      "| Asst AD - Ticketing & Engagement     | 1    |\n",
      "| Rsch Technologist II                 | 37   |\n",
      "| Assoc Professor                      | 96   |\n",
      "| Director Forensic Science            | 1    |\n",
      "| Financial Specialist I               | 12   |\n",
      "| Student Services Associate (Lincoln) | 1    |\n",
      "| Custodian II                         | 190  |\n",
      "| Building/Grounds Attendant           | 2    |\n",
      "| Assoc Prof Practice                  | 8    |\n",
      "\n"
     ]
    }
   ],
   "source": [
    "print(by_position)"
   ]
  },
  {
   "cell_type": "markdown",
   "metadata": {},
   "source": [
    "print out! the position has been categorized by its job title"
   ]
  },
  {
   "cell_type": "code",
   "execution_count": 17,
   "metadata": {},
   "outputs": [
    {
     "name": "stdout",
     "output_type": "stream",
     "text": [
      "2245\n"
     ]
    }
   ],
   "source": [
    "print (len(by_position))"
   ]
  },
  {
   "cell_type": "markdown",
   "metadata": {},
   "source": [
    "print out numbers of rows of all the job titles at the UNL"
   ]
  },
  {
   "cell_type": "code",
   "execution_count": 18,
   "metadata": {
    "collapsed": true
   },
   "outputs": [],
   "source": [
    "position_totals = by_position.aggregate ([\n",
    "    ('count', agate.Count())\n",
    "])"
   ]
  },
  {
   "cell_type": "markdown",
   "metadata": {},
   "source": [
    "aggregate the count!"
   ]
  },
  {
   "cell_type": "code",
   "execution_count": 19,
   "metadata": {},
   "outputs": [
    {
     "name": "stdout",
     "output_type": "stream",
     "text": [
      "| column                 | data_type |\n",
      "| ---------------------- | --------- |\n",
      "| Budgeted Annual Salary | Text      |\n",
      "| count                  | Number    |\n",
      "\n"
     ]
    }
   ],
   "source": [
    "print(position_totals)"
   ]
  },
  {
   "cell_type": "markdown",
   "metadata": {},
   "source": [
    "print out"
   ]
  },
  {
   "cell_type": "code",
   "execution_count": 20,
   "metadata": {
    "collapsed": true
   },
   "outputs": [],
   "source": [
    "sorted_positions = position_totals.order_by('count', reverse =True)"
   ]
  },
  {
   "cell_type": "markdown",
   "metadata": {},
   "source": [
    "I wanted to make the job title in order from bigger numbers to smaller numbers"
   ]
  },
  {
   "cell_type": "code",
   "execution_count": 21,
   "metadata": {},
   "outputs": [
    {
     "name": "stdout",
     "output_type": "stream",
     "text": [
      "| Budgeted Annual S... | count |\n",
      "| -------------------- | ----- |\n",
      "| Professor            |   538 |\n",
      "| Associate Professor  |   293 |\n",
      "| Assistant Professor  |   201 |\n",
      "| Custodian II         |   190 |\n",
      "| Asst Professor       |   103 |\n",
      "| Assoc Professor      |    96 |\n",
      "| Assistant Profess... |    76 |\n",
      "| Director             |    67 |\n",
      "| Residence Hall Cu... |    66 |\n",
      "| Dining Service As... |    64 |\n",
      "| Post-Doc Rsch Assoc  |    62 |\n",
      "| Ag Rsch Technicia... |    58 |\n",
      "| Asst Exten Educator  |    58 |\n",
      "| Ag Rsch Technician I |    50 |\n",
      "| Assoc Exten Educator |    46 |\n",
      "| Exten Educator       |    43 |\n",
      "| Office Associate     |    43 |\n",
      "| Office Assoc         |    41 |\n",
      "| Rsch Technologist I  |    39 |\n",
      "| Rsch Technologist II |    37 |\n",
      "| ...                  |   ... |\n"
     ]
    }
   ],
   "source": [
    "sorted_positions.print_table()"
   ]
  },
  {
   "cell_type": "markdown",
   "metadata": {},
   "source": [
    "we can see in order that job title professor has the most rows (employees)"
   ]
  },
  {
   "cell_type": "code",
   "execution_count": 22,
   "metadata": {
    "collapsed": true
   },
   "outputs": [],
   "source": [
    "by_position = unl.group_by('Position')\n",
    "job_title_aggregate = by_position.aggregate([\n",
    "    ('Position_count', agate.Count()),\n",
    "    ('Position_mean', agate.Mean('Budgeted Annual Salary')),\n",
    "    ('Position_median', agate.Median('Budgeted Annual Salary'))\n",
    "])"
   ]
  },
  {
   "cell_type": "markdown",
   "metadata": {},
   "source": [
    "aggregate count, mean and median in a single table thing. job_title_aggregate is my variable "
   ]
  },
  {
   "cell_type": "code",
   "execution_count": 23,
   "metadata": {},
   "outputs": [
    {
     "name": "stdout",
     "output_type": "stream",
     "text": [
      "| column          | data_type |\n",
      "| --------------- | --------- |\n",
      "| Position        | Text      |\n",
      "| Position_count  | Number    |\n",
      "| Position_mean   | Number    |\n",
      "| Position_median | Number    |\n",
      "\n"
     ]
    }
   ],
   "source": [
    "print(job_title_aggregate)"
   ]
  },
  {
   "cell_type": "markdown",
   "metadata": {},
   "source": [
    "print out structure"
   ]
  },
  {
   "cell_type": "code",
   "execution_count": 24,
   "metadata": {},
   "outputs": [
    {
     "name": "stdout",
     "output_type": "stream",
     "text": [
      "| Position             | Position_count | Position_mean | Position_median |\n",
      "| -------------------- | -------------- | ------------- | --------------- |\n",
      "| Staff Secy III       |             22 |   32,450.636… |        34,706.0 |\n",
      "| Research Specialist  |              6 |   51,812.000… |        54,071.0 |\n",
      "| Ag Rsch Technician I |             50 |   29,954.460… |        29,476.0 |\n",
      "| Chairperson          |             34 |   84,892.853… |        82,366.0 |\n",
      "| Professor            |            538 |  112,127.201… |       109,665.0 |\n",
      "| Control Systems T... |              1 |   55,240.000… |        55,240.0 |\n",
      "| Asst Dir Faciliti... |              1 |   77,695.000… |        77,695.0 |\n",
      "| Assistant Professor  |            201 |   83,772.866… |        75,100.0 |\n",
      "| Assoc Exten Educator |             46 |   59,781.804… |        59,962.0 |\n",
      "| Residence Hall Cu... |             66 |   25,008.288… |        24,251.0 |\n",
      "| Supply Control Asst  |              1 |   33,230.000… |        33,230.0 |\n",
      "| Asst AD - Ticketi... |              1 |   77,921.000… |        77,921.0 |\n",
      "| Rsch Technologist II |             37 |   44,024.730… |        42,078.0 |\n",
      "| Assoc Professor      |             96 |   94,428.948… |        96,810.0 |\n",
      "| Director Forensic... |              1 |   33,578.000… |        33,578.0 |\n",
      "| Financial Special... |             12 |   46,443.500… |        46,290.0 |\n",
      "| Student Services ... |              1 |   30,931.000… |        30,931.0 |\n",
      "| Custodian II         |            190 |   26,083.916… |        25,898.0 |\n",
      "| Building/Grounds ... |              2 |   27,678.000… |        27,678.0 |\n",
      "| Assoc Prof Practice  |              8 |   77,429.125… |        84,234.5 |\n",
      "| ...                  |            ... |           ... |             ... |\n"
     ]
    }
   ],
   "source": [
    "job_title_aggregate.print_table()"
   ]
  },
  {
   "cell_type": "markdown",
   "metadata": {},
   "source": [
    "print out the table, not in order"
   ]
  },
  {
   "cell_type": "code",
   "execution_count": 25,
   "metadata": {
    "collapsed": true
   },
   "outputs": [],
   "source": [
    "sorted_jobtitle = job_title_aggregate.order_by('Position_count', reverse=True)"
   ]
  },
  {
   "cell_type": "markdown",
   "metadata": {},
   "source": [
    "let's make it in order from big to small. so that we can know what job title that have the most employee?"
   ]
  },
  {
   "cell_type": "code",
   "execution_count": 26,
   "metadata": {},
   "outputs": [
    {
     "name": "stdout",
     "output_type": "stream",
     "text": [
      "| Position             | Position_count | Position_mean | Position_median |\n",
      "| -------------------- | -------------- | ------------- | --------------- |\n",
      "| Professor            |            538 |  112,127.201… |       109,665.0 |\n",
      "| Associate Professor  |            293 |   78,047.191… |        77,607.0 |\n",
      "| Assistant Professor  |            201 |   83,772.866… |        75,100.0 |\n",
      "| Custodian II         |            190 |   26,083.916… |        25,898.0 |\n",
      "| Asst Professor       |            103 |   81,027.087… |        85,396.0 |\n",
      "| Assoc Professor      |             96 |   94,428.948… |        96,810.0 |\n",
      "| Assistant Profess... |             76 |   66,543.908… |        64,393.0 |\n",
      "| Director             |             67 |  107,948.045… |       104,131.0 |\n",
      "| Residence Hall Cu... |             66 |   25,008.288… |        24,251.0 |\n",
      "| Dining Service As... |             64 |   23,386.969… |        23,920.0 |\n",
      "| Post-Doc Rsch Assoc  |             62 |   43,713.048… |        43,605.5 |\n",
      "| Ag Rsch Technicia... |             58 |   37,719.655… |        34,001.5 |\n",
      "| Asst Exten Educator  |             58 |   53,738.879… |        50,883.0 |\n",
      "| Ag Rsch Technician I |             50 |   29,954.460… |        29,476.0 |\n",
      "| Assoc Exten Educator |             46 |   59,781.804… |        59,962.0 |\n",
      "| Exten Educator       |             43 |   75,529.326… |        71,723.0 |\n",
      "| Office Associate     |             43 |   30,409.326… |        30,688.0 |\n",
      "| Office Assoc         |             41 |   35,485.000… |        35,881.0 |\n",
      "| Rsch Technologist I  |             39 |   39,539.051… |        38,372.0 |\n",
      "| Rsch Technologist II |             37 |   44,024.730… |        42,078.0 |\n",
      "| ...                  |            ... |           ... |             ... |\n"
     ]
    }
   ],
   "source": [
    "sorted_jobtitle.print_table()"
   ]
  },
  {
   "cell_type": "code",
   "execution_count": 27,
   "metadata": {},
   "outputs": [
    {
     "name": "stdout",
     "output_type": "stream",
     "text": [
      "| Position             | Position_count | Position_mean | Position_median |\n",
      "| -------------------- | -------------- | ------------- | --------------- |\n",
      "| Professor            |            538 |  112,127.201… |       109,665.0 |\n",
      "| Associate Professor  |            293 |   78,047.191… |        77,607.0 |\n",
      "| Assistant Professor  |            201 |   83,772.866… |        75,100.0 |\n",
      "| Custodian II         |            190 |   26,083.916… |        25,898.0 |\n",
      "| Asst Professor       |            103 |   81,027.087… |        85,396.0 |\n",
      "| Assoc Professor      |             96 |   94,428.948… |        96,810.0 |\n",
      "| Assistant Profess... |             76 |   66,543.908… |        64,393.0 |\n",
      "| Director             |             67 |  107,948.045… |       104,131.0 |\n",
      "| Residence Hall Cu... |             66 |   25,008.288… |        24,251.0 |\n",
      "| Dining Service As... |             64 |   23,386.969… |        23,920.0 |\n",
      "| Post-Doc Rsch Assoc  |             62 |   43,713.048… |        43,605.5 |\n",
      "| Ag Rsch Technicia... |             58 |   37,719.655… |        34,001.5 |\n",
      "| Asst Exten Educator  |             58 |   53,738.879… |        50,883.0 |\n",
      "| Ag Rsch Technician I |             50 |   29,954.460… |        29,476.0 |\n",
      "| Assoc Exten Educator |             46 |   59,781.804… |        59,962.0 |\n",
      "| Exten Educator       |             43 |   75,529.326… |        71,723.0 |\n",
      "| Office Associate     |             43 |   30,409.326… |        30,688.0 |\n",
      "| Office Assoc         |             41 |   35,485.000… |        35,881.0 |\n",
      "| Rsch Technologist I  |             39 |   39,539.051… |        38,372.0 |\n",
      "| Rsch Technologist II |             37 |   44,024.730… |        42,078.0 |\n",
      "| Chairperson          |             34 |   84,892.853… |        82,366.0 |\n",
      "| Assistant Director   |             34 |   61,243.941… |        56,794.5 |\n",
      "| Associate Profess... |             30 |   74,415.733… |        72,240.5 |\n",
      "| Sr Dining Service... |             29 |   27,880.000… |        27,402.0 |\n",
      "| Ag Rsch Technicia... |             29 |   42,825.414… |        42,839.0 |\n",
      "| Dining Service Te... |             28 |   31,716.536… |        29,383.5 |\n",
      "| Rsch Asst Professor  |             27 |   64,695.185… |        62,626.0 |\n",
      "| Business Manager     |             24 |   63,596.542… |        61,674.5 |\n",
      "| Lecturer             |             24 |   48,545.250… |        46,891.0 |\n",
      "| Extension Educator   |             24 |   90,649.917… |        94,209.5 |\n",
      "| Associate Director   |             23 |   74,635.652… |        64,836.0 |\n",
      "| Academic Advisor     |             23 |   40,765.261… |        39,624.0 |\n",
      "| Administrative Te... |             23 |   35,149.043… |        33,811.0 |\n",
      "| Staff Secy III       |             22 |   32,450.636… |        34,706.0 |\n",
      "| Cler Asst III        |             22 |   34,208.182… |        35,462.5 |\n",
      "| Administrative Co... |             22 |   43,403.091… |        43,963.5 |\n",
      "| Police Officer       |             22 |   56,032.455… |        56,312.5 |\n",
      "| Custodial Specialist |             21 |   29,312.238… |        27,711.0 |\n",
      "| Teacher              |             20 |   29,730.600… |        29,464.5 |\n",
      "| Staff Assistant      |             19 |   34,865.053… |        37,160.0 |\n",
      "| Admin Assoc          |             19 |   41,266.737… |        42,000.0 |\n",
      "| Project Manager      |             18 |   60,096.778… |        61,796.0 |\n",
      "| Research Associat... |             17 |   87,650.118… |        89,530.0 |\n",
      "| Extension Asst 4-H   |             17 |   35,180.353… |        35,905.0 |\n",
      "| Research Assistan... |             17 |   64,289.882… |        60,940.0 |\n",
      "| Asst Prof Practice   |             17 |   70,785.000… |        67,634.0 |\n",
      "| Accounting Techni... |             17 |   37,668.529… |        37,121.0 |\n",
      "| Rsch Assoc Professor |             16 |   72,428.938… |        80,325.0 |\n",
      "| Accounting Assoc     |             16 |   36,658.062… |        35,953.0 |\n",
      "| Office Asst          |             16 |   28,208.812… |        30,031.5 |\n",
      "| ...                  |            ... |           ... |             ... |\n"
     ]
    }
   ],
   "source": [
    "sorted_jobtitle.print_table(max_rows=50)"
   ]
  },
  {
   "cell_type": "markdown",
   "metadata": {},
   "source": [
    "limit up to 50 rows of job title"
   ]
  },
  {
   "cell_type": "markdown",
   "metadata": {},
   "source": [
    "finish.. /////('_')////"
   ]
  },
  {
   "cell_type": "code",
   "execution_count": null,
   "metadata": {
    "collapsed": true
   },
   "outputs": [],
   "source": []
  }
 ],
 "metadata": {
  "kernelspec": {
   "display_name": "Python 3",
   "language": "python",
   "name": "python3"
  },
  "language_info": {
   "codemirror_mode": {
    "name": "ipython",
    "version": 3
   },
   "file_extension": ".py",
   "mimetype": "text/x-python",
   "name": "python",
   "nbconvert_exporter": "python",
   "pygments_lexer": "ipython3",
   "version": "3.6.3"
  }
 },
 "nbformat": 4,
 "nbformat_minor": 2
}

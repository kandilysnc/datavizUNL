{
 "cells": [
  {
   "cell_type": "code",
   "execution_count": 1,
   "metadata": {},
   "outputs": [
    {
     "name": "stderr",
     "output_type": "stream",
     "text": [
      "\n",
      "Attaching package: ‘dplyr’\n",
      "\n",
      "The following objects are masked from ‘package:stats’:\n",
      "\n",
      "    filter, lag\n",
      "\n",
      "The following objects are masked from ‘package:base’:\n",
      "\n",
      "    intersect, setdiff, setequal, union\n",
      "\n"
     ]
    }
   ],
   "source": [
    "library (dplyr)"
   ]
  },
  {
   "cell_type": "code",
   "execution_count": 2,
   "metadata": {},
   "outputs": [
    {
     "data": {
      "text/html": [
       "11"
      ],
      "text/latex": [
       "11"
      ],
      "text/markdown": [
       "11"
      ],
      "text/plain": [
       "[1] 11"
      ]
     },
     "metadata": {},
     "output_type": "display_data"
    },
    {
     "data": {
      "text/html": [
       "3.5"
      ],
      "text/latex": [
       "3.5"
      ],
      "text/markdown": [
       "3.5"
      ],
      "text/plain": [
       "[1] 3.5"
      ]
     },
     "metadata": {},
     "output_type": "display_data"
    }
   ],
   "source": [
    "7 + 4 # => 11 7 - 4 # => 3\n",
    "7 / 2 # => 3.5 7 * 2 # => 14"
   ]
  },
  {
   "cell_type": "code",
   "execution_count": 3,
   "metadata": {},
   "outputs": [
    {
     "data": {
      "text/html": [
       "11"
      ],
      "text/latex": [
       "11"
      ],
      "text/markdown": [
       "11"
      ],
      "text/plain": [
       "[1] 11"
      ]
     },
     "metadata": {},
     "output_type": "display_data"
    }
   ],
   "source": [
    "7+4 # =>"
   ]
  },
  {
   "cell_type": "code",
   "execution_count": 4,
   "metadata": {},
   "outputs": [
    {
     "data": {
      "text/html": [
       "3.5"
      ],
      "text/latex": [
       "3.5"
      ],
      "text/markdown": [
       "3.5"
      ],
      "text/plain": [
       "[1] 3.5"
      ]
     },
     "metadata": {},
     "output_type": "display_data"
    }
   ],
   "source": [
    "7/2 # =>"
   ]
  },
  {
   "cell_type": "code",
   "execution_count": 5,
   "metadata": {},
   "outputs": [
    {
     "data": {
      "text/html": [
       "3"
      ],
      "text/latex": [
       "3"
      ],
      "text/markdown": [
       "3"
      ],
      "text/plain": [
       "[1] 3"
      ]
     },
     "metadata": {},
     "output_type": "display_data"
    }
   ],
   "source": [
    "7-4 # =>"
   ]
  },
  {
   "cell_type": "code",
   "execution_count": 6,
   "metadata": {},
   "outputs": [
    {
     "data": {
      "text/html": [
       "14"
      ],
      "text/latex": [
       "14"
      ],
      "text/markdown": [
       "14"
      ],
      "text/plain": [
       "[1] 14"
      ]
     },
     "metadata": {},
     "output_type": "display_data"
    }
   ],
   "source": [
    "7*2 # =>"
   ]
  },
  {
   "cell_type": "code",
   "execution_count": 7,
   "metadata": {},
   "outputs": [
    {
     "data": {
      "text/html": [
       "2"
      ],
      "text/latex": [
       "2"
      ],
      "text/markdown": [
       "2"
      ],
      "text/plain": [
       "[1] 2"
      ]
     },
     "metadata": {},
     "output_type": "display_data"
    }
   ],
   "source": [
    "log2(4) # =>"
   ]
  },
  {
   "cell_type": "code",
   "execution_count": 8,
   "metadata": {},
   "outputs": [
    {
     "data": {
      "text/html": [
       "4"
      ],
      "text/latex": [
       "4"
      ],
      "text/markdown": [
       "4"
      ],
      "text/plain": [
       "[1] 4"
      ]
     },
     "metadata": {},
     "output_type": "display_data"
    }
   ],
   "source": [
    "abs(-4) # =>"
   ]
  },
  {
   "cell_type": "code",
   "execution_count": 9,
   "metadata": {},
   "outputs": [
    {
     "data": {
      "text/html": [
       "2"
      ],
      "text/latex": [
       "2"
      ],
      "text/markdown": [
       "2"
      ],
      "text/plain": [
       "[1] 2"
      ]
     },
     "metadata": {},
     "output_type": "display_data"
    }
   ],
   "source": [
    "sqrt(4) # =>"
   ]
  },
  {
   "cell_type": "markdown",
   "metadata": {},
   "source": [
    "Logarithms and exponentials: log2(x), log10(x), exp(x)\n",
    "– Other mathematical functions: abs(x): absolute value; sqrt(x): square\n",
    "root."
   ]
  },
  {
   "cell_type": "code",
   "execution_count": 11,
   "metadata": {},
   "outputs": [],
   "source": [
    "my_name <- \"Utami\""
   ]
  },
  {
   "cell_type": "code",
   "execution_count": 12,
   "metadata": {},
   "outputs": [],
   "source": [
    "my_age <- 27"
   ]
  },
  {
   "cell_type": "markdown",
   "metadata": {},
   "source": [
    "Numeric variable does not need a question mark, while name or character variable, needs a question mark. "
   ]
  },
  {
   "cell_type": "code",
   "execution_count": 13,
   "metadata": {},
   "outputs": [],
   "source": [
    "friend_ages <- c(27, 25, 29, 26)"
   ]
  },
  {
   "cell_type": "code",
   "execution_count": 14,
   "metadata": {},
   "outputs": [
    {
     "data": {
      "text/html": [
       "26.75"
      ],
      "text/latex": [
       "26.75"
      ],
      "text/markdown": [
       "26.75"
      ],
      "text/plain": [
       "[1] 26.75"
      ]
     },
     "metadata": {},
     "output_type": "display_data"
    }
   ],
   "source": [
    "mean(friend_ages) # =>"
   ]
  },
  {
   "cell_type": "code",
   "execution_count": 15,
   "metadata": {},
   "outputs": [
    {
     "data": {
      "text/html": [
       "26.5"
      ],
      "text/latex": [
       "26.5"
      ],
      "text/markdown": [
       "26.5"
      ],
      "text/plain": [
       "[1] 26.5"
      ]
     },
     "metadata": {},
     "output_type": "display_data"
    }
   ],
   "source": [
    "median(friend_ages) # =>"
   ]
  },
  {
   "cell_type": "code",
   "execution_count": 16,
   "metadata": {},
   "outputs": [
    {
     "data": {
      "text/html": [
       "25"
      ],
      "text/latex": [
       "25"
      ],
      "text/markdown": [
       "25"
      ],
      "text/plain": [
       "[1] 25"
      ]
     },
     "metadata": {},
     "output_type": "display_data"
    }
   ],
   "source": [
    "min(friend_ages) # =>"
   ]
  },
  {
   "cell_type": "code",
   "execution_count": 17,
   "metadata": {},
   "outputs": [
    {
     "data": {
      "text/html": [
       "29"
      ],
      "text/latex": [
       "29"
      ],
      "text/markdown": [
       "29"
      ],
      "text/plain": [
       "[1] 29"
      ]
     },
     "metadata": {},
     "output_type": "display_data"
    }
   ],
   "source": [
    "max (friend_ages) # =>"
   ]
  },
  {
   "cell_type": "code",
   "execution_count": 18,
   "metadata": {},
   "outputs": [
    {
     "data": {
      "text/html": [
       "<table>\n",
       "<thead><tr><th scope=col>name</th><th scope=col>age</th><th scope=col>height</th><th scope=col>married</th></tr></thead>\n",
       "<tbody>\n",
       "\t<tr><td>Nicolas</td><td>27     </td><td>180    </td><td> TRUE  </td></tr>\n",
       "\t<tr><td>Thierry</td><td>25     </td><td>170    </td><td>FALSE  </td></tr>\n",
       "\t<tr><td>Bernard</td><td>29     </td><td>185    </td><td> TRUE  </td></tr>\n",
       "\t<tr><td>Jerome </td><td>26     </td><td>169    </td><td> TRUE  </td></tr>\n",
       "</tbody>\n",
       "</table>\n"
      ],
      "text/latex": [
       "\\begin{tabular}{r|llll}\n",
       " name & age & height & married\\\\\n",
       "\\hline\n",
       "\t Nicolas & 27      & 180     &  TRUE  \\\\\n",
       "\t Thierry & 25      & 170     & FALSE  \\\\\n",
       "\t Bernard & 29      & 185     &  TRUE  \\\\\n",
       "\t Jerome  & 26      & 169     &  TRUE  \\\\\n",
       "\\end{tabular}\n"
      ],
      "text/markdown": [
       "\n",
       "name | age | height | married | \n",
       "|---|---|---|---|\n",
       "| Nicolas | 27      | 180     |  TRUE   | \n",
       "| Thierry | 25      | 170     | FALSE   | \n",
       "| Bernard | 29      | 185     |  TRUE   | \n",
       "| Jerome  | 26      | 169     |  TRUE   | \n",
       "\n",
       "\n"
      ],
      "text/plain": [
       "  name    age height married\n",
       "1 Nicolas 27  180     TRUE  \n",
       "2 Thierry 25  170    FALSE  \n",
       "3 Bernard 29  185     TRUE  \n",
       "4 Jerome  26  169     TRUE  "
      ]
     },
     "metadata": {},
     "output_type": "display_data"
    }
   ],
   "source": [
    "friends_data <- data.frame(\n",
    "name = c(\"Nicolas\", \"Thierry\", \"Bernard\", \"Jerome\"), age = c(27, 25, 29, 26) ,\n",
    "height = c(180, 170, 185, 169),\n",
    "married = c(TRUE, FALSE, TRUE, TRUE)\n",
    ")\n",
    "friends_data"
   ]
  },
  {
   "cell_type": "code",
   "execution_count": 22,
   "metadata": {},
   "outputs": [
    {
     "data": {
      "text/html": [
       "<ol class=list-inline>\n",
       "\t<li>'grp1'</li>\n",
       "\t<li>'grp2'</li>\n",
       "</ol>\n"
      ],
      "text/latex": [
       "\\begin{enumerate*}\n",
       "\\item 'grp1'\n",
       "\\item 'grp2'\n",
       "\\end{enumerate*}\n"
      ],
      "text/markdown": [
       "1. 'grp1'\n",
       "2. 'grp2'\n",
       "\n",
       "\n"
      ],
      "text/plain": [
       "[1] \"grp1\" \"grp2\""
      ]
     },
     "metadata": {},
     "output_type": "display_data"
    }
   ],
   "source": [
    "friend_groups <- factor(c(\"grp1\", \"grp2\", \"grp1\", \"grp2\")) \n",
    "levels(friend_groups) # => \"grp1\", \"grp2\""
   ]
  },
  {
   "cell_type": "code",
   "execution_count": 23,
   "metadata": {},
   "outputs": [
    {
     "data": {
      "text/html": [
       "<dl class=dl-horizontal>\n",
       "\t<dt>grp1</dt>\n",
       "\t\t<dd>28</dd>\n",
       "\t<dt>grp2</dt>\n",
       "\t\t<dd>25.5</dd>\n",
       "</dl>\n"
      ],
      "text/plain": [
       "grp1 grp2 \n",
       "28.0 25.5 "
      ]
     },
     "metadata": {},
     "output_type": "display_data"
    }
   ],
   "source": [
    "friend_ages <- c(27, 25, 29, 26) \n",
    "tapply (friend_ages, friend_groups, mean)"
   ]
  },
  {
   "cell_type": "code",
   "execution_count": 29,
   "metadata": {},
   "outputs": [],
   "source": [
    "age1 <- c(5, 6, 7, 8, 9) \n",
    "age2 <- c(2, 4, 5, 9, 8)"
   ]
  },
  {
   "cell_type": "code",
   "execution_count": 30,
   "metadata": {},
   "outputs": [
    {
     "data": {
      "text/html": [
       "<table>\n",
       "<thead><tr><th></th><th scope=col>age1</th><th scope=col>age2</th><th scope=col>age3</th></tr></thead>\n",
       "<tbody>\n",
       "\t<tr><th scope=row>uni1</th><td>5</td><td>2</td><td>7</td></tr>\n",
       "\t<tr><th scope=row>uni2</th><td>6</td><td>4</td><td>3</td></tr>\n",
       "\t<tr><th scope=row>uni3</th><td>7</td><td>5</td><td>4</td></tr>\n",
       "\t<tr><th scope=row>uni4</th><td>8</td><td>9</td><td>8</td></tr>\n",
       "\t<tr><th scope=row>uni5</th><td>9</td><td>8</td><td>7</td></tr>\n",
       "</tbody>\n",
       "</table>\n"
      ],
      "text/latex": [
       "\\begin{tabular}{r|lll}\n",
       "  & age1 & age2 & age3\\\\\n",
       "\\hline\n",
       "\tuni1 & 5 & 2 & 7\\\\\n",
       "\tuni2 & 6 & 4 & 3\\\\\n",
       "\tuni3 & 7 & 5 & 4\\\\\n",
       "\tuni4 & 8 & 9 & 8\\\\\n",
       "\tuni5 & 9 & 8 & 7\\\\\n",
       "\\end{tabular}\n"
      ],
      "text/markdown": [
       "\n",
       "| <!--/--> | age1 | age2 | age3 | \n",
       "|---|---|---|---|---|\n",
       "| uni1 | 5 | 2 | 7 | \n",
       "| uni2 | 6 | 4 | 3 | \n",
       "| uni3 | 7 | 5 | 4 | \n",
       "| uni4 | 8 | 9 | 8 | \n",
       "| uni5 | 9 | 8 | 7 | \n",
       "\n",
       "\n"
      ],
      "text/plain": [
       "     age1 age2 age3\n",
       "uni1 5    2    7   \n",
       "uni2 6    4    3   \n",
       "uni3 7    5    4   \n",
       "uni4 8    9    8   \n",
       "uni5 9    8    7   "
      ]
     },
     "metadata": {},
     "output_type": "display_data"
    }
   ],
   "source": [
    "age3 <- c(7, 3, 4, 8, 7)\n",
    "my_data <- cbind(age1, age2, age3)\n",
    "rownames(my_data) <- c(\"uni1\", \"uni2\", \"uni3\", \"uni4\", \"uni5\") \n",
    "my_data"
   ]
  },
  {
   "cell_type": "code",
   "execution_count": 31,
   "metadata": {},
   "outputs": [],
   "source": [
    "?mean"
   ]
  },
  {
   "cell_type": "code",
   "execution_count": 32,
   "metadata": {},
   "outputs": [],
   "source": [
    "?mutate"
   ]
  },
  {
   "cell_type": "code",
   "execution_count": null,
   "metadata": {},
   "outputs": [],
   "source": []
  }
 ],
 "metadata": {
  "kernelspec": {
   "display_name": "R",
   "language": "R",
   "name": "ir"
  },
  "language_info": {
   "codemirror_mode": "r",
   "file_extension": ".r",
   "mimetype": "text/x-r-source",
   "name": "R",
   "pygments_lexer": "r",
   "version": "3.4.2"
  }
 },
 "nbformat": 4,
 "nbformat_minor": 2
}

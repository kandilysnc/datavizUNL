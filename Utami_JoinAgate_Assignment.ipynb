{
 "cells": [
  {
   "cell_type": "code",
   "execution_count": 4,
   "metadata": {
    "collapsed": true
   },
   "outputs": [],
   "source": [
    "import agate"
   ]
  },
  {
   "cell_type": "code",
   "execution_count": 5,
   "metadata": {
    "collapsed": true
   },
   "outputs": [],
   "source": [
    "import warnings"
   ]
  },
  {
   "cell_type": "code",
   "execution_count": 6,
   "metadata": {
    "collapsed": true
   },
   "outputs": [],
   "source": [
    "taxes2015 = agate.Table.from_csv('Data/taxes2015.csv')"
   ]
  },
  {
   "cell_type": "code",
   "execution_count": 7,
   "metadata": {},
   "outputs": [
    {
     "name": "stdout",
     "output_type": "stream",
     "text": [
      "| column             | data_type |\n",
      "| ------------------ | --------- |\n",
      "| Year               | Number    |\n",
      "| County             | Text      |\n",
      "| City               | Text      |\n",
      "| Net Taxable Sales  | Number    |\n",
      "| Nebraska Sales Tax | Number    |\n",
      "\n"
     ]
    }
   ],
   "source": [
    "print(taxes2015)"
   ]
  },
  {
   "cell_type": "code",
   "execution_count": 8,
   "metadata": {},
   "outputs": [
    {
     "name": "stdout",
     "output_type": "stream",
     "text": [
      "458\n"
     ]
    }
   ],
   "source": [
    "print(len(taxes2015.rows))"
   ]
  },
  {
   "cell_type": "code",
   "execution_count": 9,
   "metadata": {
    "collapsed": true
   },
   "outputs": [],
   "source": [
    "taxes2016 = agate.Table.from_csv('Data/taxes2016.csv')"
   ]
  },
  {
   "cell_type": "code",
   "execution_count": 10,
   "metadata": {},
   "outputs": [
    {
     "name": "stdout",
     "output_type": "stream",
     "text": [
      "| column             | data_type |\n",
      "| ------------------ | --------- |\n",
      "| Year               | Number    |\n",
      "| County             | Text      |\n",
      "| City               | Text      |\n",
      "| Net Taxable Sales  | Number    |\n",
      "| Nebraska Sales Tax | Number    |\n",
      "\n",
      "456\n"
     ]
    }
   ],
   "source": [
    "print(taxes2016)\n",
    "print(len(taxes2016.rows))"
   ]
  },
  {
   "cell_type": "code",
   "execution_count": 11,
   "metadata": {
    "collapsed": true
   },
   "outputs": [],
   "source": [
    "taxes = taxes2016.join(taxes2015, 'City', 'City', inner=True)"
   ]
  },
  {
   "cell_type": "code",
   "execution_count": 12,
   "metadata": {},
   "outputs": [
    {
     "name": "stdout",
     "output_type": "stream",
     "text": [
      "| column              | data_type |\n",
      "| ------------------- | --------- |\n",
      "| Year                | Number    |\n",
      "| County              | Text      |\n",
      "| City                | Text      |\n",
      "| Net Taxable Sales   | Number    |\n",
      "| Nebraska Sales Tax  | Number    |\n",
      "| Year2               | Number    |\n",
      "| County2             | Text      |\n",
      "| Net Taxable Sales2  | Number    |\n",
      "| Nebraska Sales Tax2 | Number    |\n",
      "\n",
      "452\n",
      "|  Year | County   | City         | Net Taxable Sales | Nebraska Sales Tax | Year2 | ... |\n",
      "| ----- | -------- | ------------ | ----------------- | ------------------ | ----- | --- |\n",
      "| 2,016 | Adams    | Ayr          |            35,187 |           1,935.32 | 2,015 | ... |\n",
      "| 2,016 | Adams    | Hastings     |       370,623,979 |      20,408,258.47 | 2,015 | ... |\n",
      "| 2,016 | Adams    | Holstein     |         1,417,719 |          77,974.75 | 2,015 | ... |\n",
      "| 2,016 | Adams    | Juniata      |         3,974,707 |         218,609.24 | 2,015 | ... |\n",
      "| 2,016 | Adams    | Kenesaw      |         3,387,844 |         186,331.83 | 2,015 | ... |\n",
      "| 2,016 | Adams    | Roseland     |           931,316 |          51,222.60 | 2,015 | ... |\n",
      "| 2,016 | Antelope | Brunswick    |           483,094 |          22,324.27 | 2,015 | ... |\n",
      "| 2,016 | Antelope | Clearwater   |         2,983,432 |         164,089.49 | 2,015 | ... |\n",
      "| 2,016 | Antelope | Elgin        |         5,889,706 |         324,858.36 | 2,015 | ... |\n",
      "| 2,016 | Antelope | Neligh       |        21,154,320 |       1,163,943.72 | 2,015 | ... |\n",
      "| 2,016 | Antelope | Oakdale      |           263,147 |          14,473.14 | 2,015 | ... |\n",
      "| 2,016 | Antelope | Orchard      |         3,632,636 |         199,795.60 | 2,015 | ... |\n",
      "| 2,016 | Antelope | Royal        |           755,433 |          41,548.98 | 2,015 | ... |\n",
      "| 2,016 | Arthur   | Arthur       |         1,408,051 |          77,443.09 | 2,015 | ... |\n",
      "| 2,016 | Banner   | Harrisburg   |           115,517 |           6,353.49 | 2,015 | ... |\n",
      "| 2,016 | Blaine   | Brewster     |            97,448 |           5,359.67 | 2,015 | ... |\n",
      "| 2,016 | Blaine   | Dunning      |           320,739 |          17,640.73 | 2,015 | ... |\n",
      "| 2,016 | Boone    | Albion       |        31,781,850 |       1,749,050.54 | 2,015 | ... |\n",
      "| 2,016 | Boone    | Cedar Rapids |         2,267,255 |         124,699.37 | 2,015 | ... |\n",
      "| 2,016 | Boone    | Petersburg   |         2,522,204 |         138,721.68 | 2,015 | ... |\n",
      "|   ... | ...      | ...          |               ... |                ... |   ... | ... |\n"
     ]
    }
   ],
   "source": [
    "print(taxes)\n",
    "print(len(taxes.rows))\n",
    "taxes.print_table()"
   ]
  },
  {
   "cell_type": "code",
   "execution_count": 13,
   "metadata": {
    "collapsed": true
   },
   "outputs": [],
   "source": [
    "change = taxes.compute([\n",
    "    ('taxable_change', agate.PercentChange('Net Taxable Sales2', 'Net Taxable Sales')),\n",
    "    ('salestax_change', agate.PercentChange('Nebraska Sales Tax2', 'Nebraska Sales Tax'))        \n",
    "])"
   ]
  },
  {
   "cell_type": "code",
   "execution_count": 14,
   "metadata": {
    "collapsed": true
   },
   "outputs": [],
   "source": [
    "sorted_change = change.order_by('taxable_change', reverse=True)"
   ]
  },
  {
   "cell_type": "code",
   "execution_count": 15,
   "metadata": {
    "collapsed": true
   },
   "outputs": [],
   "source": [
    "for_printing = sorted_change.select(['City', 'taxable_change'])"
   ]
  },
  {
   "cell_type": "code",
   "execution_count": 16,
   "metadata": {},
   "outputs": [
    {
     "name": "stdout",
     "output_type": "stream",
     "text": [
      "| City         | taxable_change |\n",
      "| ------------ | -------------- |\n",
      "| Harrisburg   |       652.701… |\n",
      "| Sparks       |       157.235… |\n",
      "| Dixon        |       144.814… |\n",
      "| Taylor       |        75.241… |\n",
      "| Venango      |        71.804… |\n",
      "| Winnebago    |        54.881… |\n",
      "| Farwell      |        53.931… |\n",
      "| Kennard      |        52.851… |\n",
      "| Rulo         |        44.586… |\n",
      "| Linwood      |        43.760… |\n",
      "| Ohiowa       |        43.436… |\n",
      "| Allen        |        42.461… |\n",
      "| Chester      |        40.340… |\n",
      "| Malcolm      |        40.131… |\n",
      "| Ithaca       |        36.240… |\n",
      "| Blue Springs |        33.589… |\n",
      "| Danbury      |        30.319… |\n",
      "| Kilgore      |        29.870… |\n",
      "| Avoca        |        28.638… |\n",
      "| Waverly      |        27.905… |\n",
      "| ...          |            ... |\n"
     ]
    }
   ],
   "source": [
    "for_printing.print_table()"
   ]
  },
  {
   "cell_type": "markdown",
   "metadata": {},
   "source": [
    "**FREE REDUCED LUNCH PROGRAM AT SCHOOL IN NEBRASKA COUNTIES, 2015-2016**"
   ]
  },
  {
   "cell_type": "markdown",
   "metadata": {},
   "source": [
    "SINCE CODISTSCH WILL BE READ AS NUMBERS SINCE IT HAS ZERO ON IT, WE HAVE TO OVERRIDE AGATE'S TYPE INFERENCE, FROM NUMBERS TO TEXT. SO THE CODE WILL BE SHOWN LIKE BELOW. AFTER WE OVERRIDE IT, THEN WE IMPORT DATA YEAR PER YEAR"
   ]
  },
  {
   "cell_type": "code",
   "execution_count": 17,
   "metadata": {},
   "outputs": [],
   "source": [
    "specified_types = {\n",
    "    'CODISTSCH': agate.Text(), \n",
    "}\n",
    "\n",
    "Free_Reduced_Lunch2015 = agate.Table.from_csv('Data/frl15.csv', column_types=specified_types)"
   ]
  },
  {
   "cell_type": "code",
   "execution_count": 18,
   "metadata": {},
   "outputs": [
    {
     "name": "stdout",
     "output_type": "stream",
     "text": [
      "| column        | data_type |\n",
      "| ------------- | --------- |\n",
      "| FY            | Text      |\n",
      "| COUNTY        | Text      |\n",
      "| CODISTSCH     | Text      |\n",
      "| SCHOOLNAME    | Text      |\n",
      "| SCHOOLTYPE    | Text      |\n",
      "| GRADE         | Text      |\n",
      "| ENROLLED      | Number    |\n",
      "| FREEREDUCED   | Number    |\n",
      "| PERCENT       | Number    |\n",
      "| WARNING       | Text      |\n",
      "| CEP_Indicator | Text      |\n",
      "\n",
      "1229\n"
     ]
    }
   ],
   "source": [
    "print(Free_Reduced_Lunch2015)\n",
    "print(len(Free_Reduced_Lunch2015.rows))"
   ]
  },
  {
   "cell_type": "code",
   "execution_count": 19,
   "metadata": {
    "collapsed": true
   },
   "outputs": [],
   "source": [
    "Free_Reduced_Lunch2016 = agate.Table.from_csv('Data/frl16.csv', column_types=specified_types)"
   ]
  },
  {
   "cell_type": "code",
   "execution_count": 20,
   "metadata": {},
   "outputs": [
    {
     "name": "stdout",
     "output_type": "stream",
     "text": [
      "| column        | data_type |\n",
      "| ------------- | --------- |\n",
      "| FY            | Text      |\n",
      "| COUNTY        | Text      |\n",
      "| CODISTSCH     | Text      |\n",
      "| SCHOOLNAME    | Text      |\n",
      "| SCHOOLTYPE    | Text      |\n",
      "| GRADE         | Text      |\n",
      "| ENROLLED      | Number    |\n",
      "| FREEREDUCED   | Number    |\n",
      "| PERCENT       | Number    |\n",
      "| WARNING       | Text      |\n",
      "| CEP_Indicator | Text      |\n",
      "\n",
      "1230\n"
     ]
    }
   ],
   "source": [
    "print(Free_Reduced_Lunch2016)\n",
    "print(len(Free_Reduced_Lunch2016.rows))"
   ]
  },
  {
   "cell_type": "code",
   "execution_count": 21,
   "metadata": {
    "collapsed": true
   },
   "outputs": [],
   "source": [
    "Free_Reduced_Lunch = Free_Reduced_Lunch2016.join(Free_Reduced_Lunch2015, 'CODISTSCH', 'CODISTSCH', inner=True)"
   ]
  },
  {
   "cell_type": "code",
   "execution_count": 22,
   "metadata": {},
   "outputs": [
    {
     "name": "stdout",
     "output_type": "stream",
     "text": [
      "| column         | data_type |\n",
      "| -------------- | --------- |\n",
      "| FY             | Text      |\n",
      "| COUNTY         | Text      |\n",
      "| CODISTSCH      | Text      |\n",
      "| SCHOOLNAME     | Text      |\n",
      "| SCHOOLTYPE     | Text      |\n",
      "| GRADE          | Text      |\n",
      "| ENROLLED       | Number    |\n",
      "| FREEREDUCED    | Number    |\n",
      "| PERCENT        | Number    |\n",
      "| WARNING        | Text      |\n",
      "| CEP_Indicator  | Text      |\n",
      "| FY2            | Text      |\n",
      "| COUNTY2        | Text      |\n",
      "| SCHOOLNAME2    | Text      |\n",
      "| SCHOOLTYPE2    | Text      |\n",
      "| GRADE2         | Text      |\n",
      "| ENROLLED2      | Number    |\n",
      "| FREEREDUCED2   | Number    |\n",
      "| PERCENT2       | Number    |\n",
      "| WARNING2       | Text      |\n",
      "| CEP_Indicator2 | Text      |\n",
      "\n",
      "1146\n",
      "| FY        | COUNTY  | CODISTSCH | SCHOOLNAME           | SCHOOLTYPE           | GRADE      | ... |\n",
      "| --------- | ------- | --------- | -------------------- | -------------------- | ---------- | --- |\n",
      "| 2016-2017 | BUFFALO | 100002001 | GIBBON HIGH SCHOOL   | SECONDARY        ... | 2017-07-12 | ... |\n",
      "| 2016-2017 | BUFFALO | 100002002 | GIBBON ELEMENTARY... | ELEMENTARY       ... | PK-06      | ... |\n",
      "| 2016-2017 | BUFFALO | 100007001 | KEARNEY HIGH SCHOOL  | HIGH SCHOOL      ... | 2017-09-12 | ... |\n",
      "| 2016-2017 | BUFFALO | 100007002 | HORIZON MIDDLE SC... | MIDDLE SCHOOL    ... | 2017-06-08 | ... |\n",
      "| 2016-2017 | BUFFALO | 100007003 | BRYANT ELEMENTARY... | ELEMENTARY       ... | K -05      | ... |\n",
      "| 2016-2017 | BUFFALO | 100007004 | EMERSON ELEMENTAR... | ELEMENTARY       ... | K -05      | ... |\n",
      "| 2016-2017 | BUFFALO | 100007005 | KENWOOD ELEMENTAR... | ELEMENTARY       ... | K -05      | ... |\n",
      "| 2016-2017 | BUFFALO | 100007006 | NORTHEAST ELEMENT... | ELEMENTARY       ... | K -05      | ... |\n",
      "| 2016-2017 | BUFFALO | 100007007 | PARK ELEMENTARY S... | ELEMENTARY       ... | K -05      | ... |\n",
      "| 2016-2017 | BUFFALO | 100007008 | CENTRAL ELEMENTAR... | ELEMENTARY       ... | K -05      | ... |\n",
      "| 2016-2017 | BUFFALO | 100007010 | WINDY HILLS ELEME... | ELEMENTARY       ... | K -05      | ... |\n",
      "| 2016-2017 | BUFFALO | 100007013 | GLENWOOD ELEMENTA... | ELEMENTARY       ... | K -05      | ... |\n",
      "| 2016-2017 | BUFFALO | 100007014 | MEADOWLARK ELEMEN... | ELEMENTARY       ... | K -05      | ... |\n",
      "| 2016-2017 | BUFFALO | 100007015 | SUNRISE MIDDLE SC... | MIDDLE SCHOOL    ... | 2017-06-08 | ... |\n",
      "| 2016-2017 | BUFFALO | 100007027 | KEARNEY EDUCATION... | PREK ONLY        ... | PK-PK      | ... |\n",
      "| 2016-2017 | BUFFALO | 100007028 | BUFFALO HILLS ELE... | ELEMENTARY       ... | K -05      | ... |\n",
      "| 2016-2017 | BUFFALO | 100009001 | ELM CREEK HIGH SC... | SECONDARY        ... | 2017-07-12 | ... |\n",
      "| 2016-2017 | BUFFALO | 100009002 | ELM CREEK ELEMENT... | ELEMENTARY       ... | PK-06      | ... |\n",
      "| 2016-2017 | BUFFALO | 100019001 | SHELTON HIGH SCHOOL  | SECONDARY        ... | 2017-07-12 | ... |\n",
      "| 2016-2017 | BUFFALO | 100019002 | SHELTON ELEMENTAR... | ELEMENTARY       ... | PK-06      | ... |\n",
      "| ...       | ...     | ...       | ...                  | ...                  | ...        | ... |\n"
     ]
    }
   ],
   "source": [
    "print(Free_Reduced_Lunch)\n",
    "print(len(Free_Reduced_Lunch.rows))\n",
    "Free_Reduced_Lunch.print_table()"
   ]
  },
  {
   "cell_type": "markdown",
   "metadata": {},
   "source": [
    "**LETS COUNT THE CHANGE. THE PROBLEMS APPEAR BECAUSE IT'S DIRTY DATA. SOME OF THE DATA IN THE COLUMN REDUCED AND REDUCED 2 DO NOT HAVE ANY DATA OR INFORMATION AVAILABLE. SO, WE HAVE TO SORT IT OUT**"
   ]
  },
  {
   "cell_type": "code",
   "execution_count": 75,
   "metadata": {},
   "outputs": [
    {
     "name": "stderr",
     "output_type": "stream",
     "text": [
      "/Users/utamidiahkusumawati/anaconda/lib/python3.6/site-packages/agate/computations/percent_change.py:38: NullCalculationWarning: Column \"FREEREDUCED2\" contains nulls. These will be excluded from PercentChange calculation.\n",
      "/Users/utamidiahkusumawati/anaconda/lib/python3.6/site-packages/agate/computations/percent_change.py:41: NullCalculationWarning: Column \"FREEREDUCED\" contains nulls. These will be excluded from PercentChange calculation.\n"
     ]
    }
   ],
   "source": [
    "change = Free_Reduced_Lunch.where(\n",
    "    lambda r: r['FREEREDUCED2'] is not None\n",
    ")\n",
    "change = Free_Reduced_Lunch.where(\n",
    "    lambda r: r['FREEREDUCED'] is not None\n",
    ")\n",
    "change = Free_Reduced_Lunch.compute([\n",
    "    ('FRD_change', agate.PercentChange('FREEREDUCED2', 'FREEREDUCED')),\n",
    "])\n"
   ]
  },
  {
   "cell_type": "markdown",
   "metadata": {},
   "source": [
    "**I TRIED TO ELIMINATE THE NULL ROW BUT IT STILL APPEARED LIKE THIS. WHAT CODE THAT I SHOULD USE TO ELIMINATE NULL CALCULATIONS?**"
   ]
  },
  {
   "cell_type": "code",
   "execution_count": 76,
   "metadata": {},
   "outputs": [
    {
     "name": "stdout",
     "output_type": "stream",
     "text": [
      "| FY        | COUNTY  | CODISTSCH | SCHOOLNAME           | SCHOOLTYPE           | GRADE      | ... |\n",
      "| --------- | ------- | --------- | -------------------- | -------------------- | ---------- | --- |\n",
      "| 2016-2017 | BUFFALO | 100002001 | GIBBON HIGH SCHOOL   | SECONDARY        ... | 2017-07-12 | ... |\n",
      "| 2016-2017 | BUFFALO | 100002002 | GIBBON ELEMENTARY... | ELEMENTARY       ... | PK-06      | ... |\n",
      "| 2016-2017 | BUFFALO | 100007001 | KEARNEY HIGH SCHOOL  | HIGH SCHOOL      ... | 2017-09-12 | ... |\n",
      "| 2016-2017 | BUFFALO | 100007002 | HORIZON MIDDLE SC... | MIDDLE SCHOOL    ... | 2017-06-08 | ... |\n",
      "| 2016-2017 | BUFFALO | 100007003 | BRYANT ELEMENTARY... | ELEMENTARY       ... | K -05      | ... |\n",
      "| 2016-2017 | BUFFALO | 100007004 | EMERSON ELEMENTAR... | ELEMENTARY       ... | K -05      | ... |\n",
      "| 2016-2017 | BUFFALO | 100007005 | KENWOOD ELEMENTAR... | ELEMENTARY       ... | K -05      | ... |\n",
      "| 2016-2017 | BUFFALO | 100007006 | NORTHEAST ELEMENT... | ELEMENTARY       ... | K -05      | ... |\n",
      "| 2016-2017 | BUFFALO | 100007007 | PARK ELEMENTARY S... | ELEMENTARY       ... | K -05      | ... |\n",
      "| 2016-2017 | BUFFALO | 100007008 | CENTRAL ELEMENTAR... | ELEMENTARY       ... | K -05      | ... |\n",
      "| 2016-2017 | BUFFALO | 100007010 | WINDY HILLS ELEME... | ELEMENTARY       ... | K -05      | ... |\n",
      "| 2016-2017 | BUFFALO | 100007013 | GLENWOOD ELEMENTA... | ELEMENTARY       ... | K -05      | ... |\n",
      "| 2016-2017 | BUFFALO | 100007014 | MEADOWLARK ELEMEN... | ELEMENTARY       ... | K -05      | ... |\n",
      "| 2016-2017 | BUFFALO | 100007015 | SUNRISE MIDDLE SC... | MIDDLE SCHOOL    ... | 2017-06-08 | ... |\n",
      "| 2016-2017 | BUFFALO | 100007027 | KEARNEY EDUCATION... | PREK ONLY        ... | PK-PK      | ... |\n",
      "| 2016-2017 | BUFFALO | 100007028 | BUFFALO HILLS ELE... | ELEMENTARY       ... | K -05      | ... |\n",
      "| 2016-2017 | BUFFALO | 100009001 | ELM CREEK HIGH SC... | SECONDARY        ... | 2017-07-12 | ... |\n",
      "| 2016-2017 | BUFFALO | 100009002 | ELM CREEK ELEMENT... | ELEMENTARY       ... | PK-06      | ... |\n",
      "| 2016-2017 | BUFFALO | 100019001 | SHELTON HIGH SCHOOL  | SECONDARY        ... | 2017-07-12 | ... |\n",
      "| 2016-2017 | BUFFALO | 100019002 | SHELTON ELEMENTAR... | ELEMENTARY       ... | PK-06      | ... |\n",
      "| ...       | ...     | ...       | ...                  | ...                  | ...        | ... |\n"
     ]
    }
   ],
   "source": [
    "change.print_table()"
   ]
  },
  {
   "cell_type": "code",
   "execution_count": 77,
   "metadata": {},
   "outputs": [],
   "source": [
    "for_printing = change.select(['COUNTY', 'SCHOOLNAME', 'FRD_change'])"
   ]
  },
  {
   "cell_type": "markdown",
   "metadata": {},
   "source": [
    "**YOU DONT WANT ALL COLUMNS APPEAR BECAUSE YOU NEED IN THE END ONLY FREE REDUCED LUNCH PCT CHANGE**"
   ]
  },
  {
   "cell_type": "code",
   "execution_count": 78,
   "metadata": {},
   "outputs": [
    {
     "name": "stdout",
     "output_type": "stream",
     "text": [
      "| COUNTY  | SCHOOLNAME           | FRD_change |\n",
      "| ------- | -------------------- | ---------- |\n",
      "| BUFFALO | GLENWOOD ELEMENTA... |            |\n",
      "| BUFFALO | KEARNEY WEST HIGH... |            |\n",
      "| BUFFALO | KEARNEY CATHOLIC ... |            |\n",
      "| BUFFALO | FAITH CHRISTIAN E... |            |\n",
      "| CEDAR   | WEST CATHOLIC ELE... |            |\n",
      "| CEDAR   | EAST CATHOLIC ELE... |            |\n",
      "| CHERRY  | KENNEDY SCHOOL       |            |\n",
      "| CHERRY  | WOOD LAKE SCHOOL     |            |\n",
      "| CHERRY  | GOOSE CREEK SCHOOL   |            |\n",
      "| CHERRY  | CUTCOMB LAKE SCHOOL  |            |\n",
      "| CHERRY  | ZION LUTHERAN ELE... |            |\n",
      "| CLAY    | SUTTON CHRISTIAN ... |            |\n",
      "| COLFAX  | HOWELLS-DODGE ELE... |            |\n",
      "| COLFAX  | ST JOHN NEUMANN E... |            |\n",
      "| COLFAX  | HOWELLS COMMUNITY... |            |\n",
      "| CUMING  | BEEMER ELEMENTARY... |            |\n",
      "| CUMING  | WEST POINT CENTRA... |            |\n",
      "| CUMING  | GUARDIAN ANGELS E... |            |\n",
      "| CUSTER  | SANDHILLS EDUC SE... |            |\n",
      "| DAWES   | PINE RIDGE JOB CORPS |            |\n",
      "| ...     | ...                  |        ... |\n"
     ]
    }
   ],
   "source": [
    "for_printing.order_by('FRD_change', reverse=True).print_table()"
   ]
  },
  {
   "cell_type": "markdown",
   "metadata": {},
   "source": [
    "REVERSE IT TO GET THE BIGGEST TO SMALLEST INCREASE OF PCT CHANGE"
   ]
  },
  {
   "cell_type": "markdown",
   "metadata": {
    "collapsed": true
   },
   "source": [
    "**TOP FIVE LARGEST INCREASE OF FREE REDUCED LUNCH: GLENWOOD ELEMENTARY SCHOOL (BUFFALO COUNTY), KEARNEY WEST HIGH SCHOOL (BUFFALO COUNTY), KEARNEY CATHOLIC (BUFFALO COUNTY), FAITH CHRISTIAN ELEMENTARY SCHOOL (BUFFALO COUNTY), AND WEST CATHOLIC ELEMENTARY SCHOOL (CEDAR COUNTY)**"
   ]
  },
  {
   "cell_type": "code",
   "execution_count": null,
   "metadata": {
    "collapsed": true
   },
   "outputs": [],
   "source": []
  }
 ],
 "metadata": {
  "kernelspec": {
   "display_name": "Python 3",
   "language": "python",
   "name": "python3"
  },
  "language_info": {
   "codemirror_mode": {
    "name": "ipython",
    "version": 3
   },
   "file_extension": ".py",
   "mimetype": "text/x-python",
   "name": "python",
   "nbconvert_exporter": "python",
   "pygments_lexer": "ipython3",
   "version": "3.6.1"
  }
 },
 "nbformat": 4,
 "nbformat_minor": 2
}

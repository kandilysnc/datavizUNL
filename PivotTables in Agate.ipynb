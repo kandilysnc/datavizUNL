{
 "cells": [
  {
   "cell_type": "code",
   "execution_count": 1,
   "metadata": {
    "collapsed": true
   },
   "outputs": [],
   "source": [
    "import agate\n",
    "\n",
    "import warnings\n",
    "warnings.filterwarnings('ignore')"
   ]
  },
  {
   "cell_type": "code",
   "execution_count": 2,
   "metadata": {
    "collapsed": true
   },
   "outputs": [],
   "source": [
    "surveys = agate.Table.from_csv('../../Data/QSA_1996_2016.csv')"
   ]
  },
  {
   "cell_type": "code",
   "execution_count": 3,
   "metadata": {},
   "outputs": [
    {
     "name": "stdout",
     "output_type": "stream",
     "text": [
      "| column | data_type |\n",
      "| ------ | --------- |\n",
      "| DATE   | Date      |\n",
      "| RKY    | Text      |\n",
      "| DVC    | Text      |\n",
      "| NATR   | Text      |\n",
      "| Q1     | Text      |\n",
      "| Q2     | Text      |\n",
      "| Q3     | Text      |\n",
      "| Q4     | Text      |\n",
      "| Q5     | Text      |\n",
      "| Q6     | Text      |\n",
      "| Q9     | Text      |\n",
      "| Q17    | Text      |\n",
      "| AGE    | Number    |\n",
      "| RACE   | Text      |\n",
      "| SEX    | Text      |\n",
      "| ZIP    | Text      |\n",
      "| FID    | Number    |\n",
      "\n"
     ]
    }
   ],
   "source": [
    "print(surveys)"
   ]
  },
  {
   "cell_type": "code",
   "execution_count": 7,
   "metadata": {},
   "outputs": [
    {
     "name": "stdout",
     "output_type": "stream",
     "text": [
      "78134\n"
     ]
    }
   ],
   "source": [
    "print(len(surveys.rows))"
   ]
  },
  {
   "cell_type": "code",
   "execution_count": 10,
   "metadata": {
    "collapsed": true
   },
   "outputs": [],
   "source": [
    "by_race = surveys.pivot('RACE', 'Q17')"
   ]
  },
  {
   "cell_type": "code",
   "execution_count": 11,
   "metadata": {},
   "outputs": [
    {
     "name": "stdout",
     "output_type": "stream",
     "text": [
      "| RACE |      2 |      1 |      3 |     4 |  None |     5 |   U |\n",
      "| ---- | ------ | ------ | ------ | ----- | ----- | ----- | --- |\n",
      "| W    | 22,099 | 24,088 | 15,395 | 2,532 | 1,723 | 1,895 | 601 |\n",
      "| B    |  1,100 |  1,299 |  1,261 |   234 |   331 |   312 |  68 |\n",
      "| H    |    540 |    680 |    649 |    90 |   155 |    97 |  32 |\n",
      "| A    |    181 |    191 |    176 |    33 |    65 |    17 |  19 |\n",
      "| U    |    149 |    150 |    144 |    30 |    33 |    16 |  23 |\n",
      "|      |    363 |    465 |    159 |    16 |    24 |     7 |  12 |\n",
      "| I    |    179 |    184 |    192 |    38 |    37 |    37 |   8 |\n",
      "| w    |      0 |      0 |      1 |     0 |     0 |     0 |   0 |\n",
      "| ¿    |      0 |      0 |      0 |     0 |     1 |     0 |   0 |\n",
      "| 0    |      0 |      1 |      0 |     0 |     0 |     0 |   0 |\n",
      "| C    |      0 |      1 |      0 |     0 |     0 |     0 |   0 |\n",
      "| WE   |      0 |      1 |      0 |     0 |     0 |     0 |   0 |\n"
     ]
    }
   ],
   "source": [
    "by_race.print_table(max_columns=8)"
   ]
  },
  {
   "cell_type": "code",
   "execution_count": 5,
   "metadata": {},
   "outputs": [
    {
     "name": "stdout",
     "output_type": "stream",
     "text": [
      "| SEX |      2 |      1 |     3 |     4 |  None |     5 |   U |\n",
      "| --- | ------ | ------ | ----- | ----- | ----- | ----- | --- |\n",
      "| F   | 11,262 | 13,801 | 8,697 | 1,391 | 1,019 | 1,154 | 337 |\n",
      "| M   | 13,335 | 13,237 | 9,270 | 1,579 | 1,345 | 1,227 | 424 |\n",
      "|     |     14 |     19 |     9 |     2 |     4 |     0 |   2 |\n",
      "| W   |      0 |      1 |     0 |     1 |     0 |     0 |   0 |\n",
      "| K   |      0 |      0 |     1 |     0 |     0 |     0 |   0 |\n",
      "| 2   |      0 |      1 |     0 |     0 |     0 |     0 |   0 |\n",
      "| ¿¿  |      0 |      0 |     0 |     0 |     1 |     0 |   0 |\n",
      "| QW  |      0 |      1 |     0 |     0 |     0 |     0 |   0 |\n"
     ]
    }
   ],
   "source": [
    "by_sex = surveys.pivot('SEX', 'Q17')\n",
    "by_sex.print_table(max_columns=8)"
   ]
  },
  {
   "cell_type": "code",
   "execution_count": null,
   "metadata": {
    "collapsed": true
   },
   "outputs": [],
   "source": []
  }
 ],
 "metadata": {
  "kernelspec": {
   "display_name": "Python 3",
   "language": "python",
   "name": "python3"
  },
  "language_info": {
   "codemirror_mode": {
    "name": "ipython",
    "version": 3
   },
   "file_extension": ".py",
   "mimetype": "text/x-python",
   "name": "python",
   "nbconvert_exporter": "python",
   "pygments_lexer": "ipython3",
   "version": "3.6.1"
  }
 },
 "nbformat": 4,
 "nbformat_minor": 2
}

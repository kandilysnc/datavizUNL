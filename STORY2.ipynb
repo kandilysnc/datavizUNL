{
 "cells": [
  {
   "cell_type": "code",
   "execution_count": 2,
   "metadata": {
    "collapsed": true
   },
   "outputs": [],
   "source": [
    "import agate"
   ]
  },
  {
   "cell_type": "code",
   "execution_count": 3,
   "metadata": {
    "collapsed": true
   },
   "outputs": [],
   "source": [
    "specified_types = {\n",
    "    'statefips': agate.Text(),\n",
    "    'countyfips': agate.Text(),\n",
    "}\n",
    "\n",
    "sahie2010 = agate.Table.from_csv('Downloads/sahie_2010.csv', column_types=specified_types)"
   ]
  },
  {
   "cell_type": "code",
   "execution_count": 4,
   "metadata": {},
   "outputs": [
    {
     "name": "stdout",
     "output_type": "stream",
     "text": [
      "| column      | data_type |\n",
      "| ----------- | --------- |\n",
      "| year        | Number    |\n",
      "| version     | Boolean   |\n",
      "| statefips   | Text      |\n",
      "| countyfips  | Text      |\n",
      "| geocat      | Number    |\n",
      "| agecat      | Number    |\n",
      "| racecat     | Number    |\n",
      "| sexcat      | Number    |\n",
      "| iprcat      | Number    |\n",
      "| NIPR        | Number    |\n",
      "| nipr_moe    | Number    |\n",
      "| NUI         | Number    |\n",
      "| nui_moe     | Number    |\n",
      "| NIC         | Number    |\n",
      "| nic_moe     | Number    |\n",
      "| PCTUI       | Number    |\n",
      "| pctui_moe   | Number    |\n",
      "| PCTIC       | Number    |\n",
      "| pctic_moe   | Number    |\n",
      "| PCTELIG     | Number    |\n",
      "| pctelig_moe | Number    |\n",
      "| PCTLIIC     | Number    |\n",
      "| pctliic_moe | Number    |\n",
      "| state_name  | Text      |\n",
      "| county_name | Text      |\n",
      "\n"
     ]
    }
   ],
   "source": [
    "print(sahie2010)"
   ]
  },
  {
   "cell_type": "code",
   "execution_count": 5,
   "metadata": {},
   "outputs": [],
   "source": [
    "specified_types = {\n",
    "    'statefips': agate.Text(),\n",
    "    'countyfips': agate.Text(),\n",
    "}\n",
    "\n",
    "sahie2015 = agate.Table.from_csv('Downloads/sahie_2015.csv', column_types=specified_types)"
   ]
  },
  {
   "cell_type": "code",
   "execution_count": 6,
   "metadata": {
    "collapsed": true
   },
   "outputs": [],
   "source": [
    "nebraska2010 = sahie2010.where(lambda row: row['statefips'] == '31').where(lambda row: row['geocat'] == 50)"
   ]
  },
  {
   "cell_type": "code",
   "execution_count": 7,
   "metadata": {},
   "outputs": [
    {
     "name": "stdout",
     "output_type": "stream",
     "text": [
      "6045\n"
     ]
    }
   ],
   "source": [
    "print(len(nebraska2010.rows))"
   ]
  },
  {
   "cell_type": "code",
   "execution_count": 8,
   "metadata": {
    "collapsed": true
   },
   "outputs": [],
   "source": [
    "nebraska2010counties = nebraska2010.where(lambda row: row['racecat'] == 0).where(lambda row:row['sexcat'] == 0).where(lambda row: row['agecat'] == 0).where(lambda row: row['iprcat'] == 0)"
   ]
  },
  {
   "cell_type": "code",
   "execution_count": 9,
   "metadata": {},
   "outputs": [
    {
     "name": "stdout",
     "output_type": "stream",
     "text": [
      "93\n"
     ]
    }
   ],
   "source": [
    "print(len(nebraska2010counties.rows))"
   ]
  },
  {
   "cell_type": "code",
   "execution_count": 10,
   "metadata": {
    "collapsed": true
   },
   "outputs": [],
   "source": [
    "nebraska2015 = sahie2015.where(lambda row: row['statefips'] == '31').where(lambda row: row['geocat'] == 50)"
   ]
  },
  {
   "cell_type": "code",
   "execution_count": 11,
   "metadata": {
    "collapsed": true
   },
   "outputs": [],
   "source": [
    "nebraska2015counties = nebraska2015.where(lambda row: row['racecat'] == 0).where(lambda row:row['sexcat'] == 0).where(lambda row: row['agecat'] == 0).where(lambda row: row['iprcat'] == 0)"
   ]
  },
  {
   "cell_type": "code",
   "execution_count": 12,
   "metadata": {},
   "outputs": [
    {
     "name": "stdout",
     "output_type": "stream",
     "text": [
      "93\n"
     ]
    }
   ],
   "source": [
    "print(len(nebraska2015counties.rows))"
   ]
  },
  {
   "cell_type": "code",
   "execution_count": 13,
   "metadata": {
    "collapsed": true
   },
   "outputs": [],
   "source": [
    "nebraska = nebraska2010counties.join(nebraska2015counties, 'countyfips', 'countyfips')"
   ]
  },
  {
   "cell_type": "code",
   "execution_count": 14,
   "metadata": {},
   "outputs": [
    {
     "name": "stdout",
     "output_type": "stream",
     "text": [
      "93\n"
     ]
    }
   ],
   "source": [
    "print(len(nebraska.rows))"
   ]
  },
  {
   "cell_type": "code",
   "execution_count": 15,
   "metadata": {},
   "outputs": [
    {
     "name": "stdout",
     "output_type": "stream",
     "text": [
      "| column       | data_type |\n",
      "| ------------ | --------- |\n",
      "| year         | Number    |\n",
      "| version      | Boolean   |\n",
      "| statefips    | Text      |\n",
      "| countyfips   | Text      |\n",
      "| geocat       | Number    |\n",
      "| agecat       | Number    |\n",
      "| racecat      | Number    |\n",
      "| sexcat       | Number    |\n",
      "| iprcat       | Number    |\n",
      "| NIPR         | Number    |\n",
      "| nipr_moe     | Number    |\n",
      "| NUI          | Number    |\n",
      "| nui_moe      | Number    |\n",
      "| NIC          | Number    |\n",
      "| nic_moe      | Number    |\n",
      "| PCTUI        | Number    |\n",
      "| pctui_moe    | Number    |\n",
      "| PCTIC        | Number    |\n",
      "| pctic_moe    | Number    |\n",
      "| PCTELIG      | Number    |\n",
      "| pctelig_moe  | Number    |\n",
      "| PCTLIIC      | Number    |\n",
      "| pctliic_moe  | Number    |\n",
      "| state_name   | Text      |\n",
      "| county_name  | Text      |\n",
      "| year2        | Number    |\n",
      "| version2     | Boolean   |\n",
      "| statefips2   | Text      |\n",
      "| geocat2      | Number    |\n",
      "| agecat2      | Number    |\n",
      "| racecat2     | Number    |\n",
      "| sexcat2      | Number    |\n",
      "| iprcat2      | Number    |\n",
      "| NIPR2        | Number    |\n",
      "| nipr_moe2    | Number    |\n",
      "| NUI2         | Number    |\n",
      "| nui_moe2     | Number    |\n",
      "| NIC2         | Number    |\n",
      "| nic_moe2     | Number    |\n",
      "| PCTUI2       | Number    |\n",
      "| pctui_moe2   | Number    |\n",
      "| PCTIC2       | Number    |\n",
      "| pctic_moe2   | Number    |\n",
      "| PCTELIG2     | Number    |\n",
      "| pctelig_moe2 | Number    |\n",
      "| PCTLIIC2     | Number    |\n",
      "| pctliic_moe2 | Number    |\n",
      "| state_name2  | Text      |\n",
      "| county_name2 | Text      |\n",
      "\n"
     ]
    }
   ],
   "source": [
    "print(nebraska)"
   ]
  },
  {
   "cell_type": "code",
   "execution_count": 16,
   "metadata": {
    "collapsed": true
   },
   "outputs": [],
   "source": [
    "change = nebraska.compute([\n",
    "    ('percent_change_uninsured', agate.PercentChange('PCTUI', 'PCTUI2'))\n",
    "])"
   ]
  },
  {
   "cell_type": "code",
   "execution_count": 17,
   "metadata": {
    "collapsed": true
   },
   "outputs": [],
   "source": [
    "selected_change = change.select(['county_name', 'PCTUI', 'PCTUI2', 'percent_change_uninsured'])"
   ]
  },
  {
   "cell_type": "code",
   "execution_count": 18,
   "metadata": {},
   "outputs": [
    {
     "name": "stdout",
     "output_type": "stream",
     "text": [
      "| county_name          | PCTUI | PCTUI2 | percent_change_un... |\n",
      "| -------------------- | ----- | ------ | -------------------- |\n",
      "| McPherson County ... |  24.0 |    7.3 |             -69.583… |\n",
      "| Thomas County    ... |  25.6 |    9.9 |             -61.328… |\n",
      "| Keya Paha County ... |  32.6 |   14.0 |             -57.055… |\n",
      "| Blaine County    ... |  29.9 |   12.9 |             -56.856… |\n",
      "| Hooker County    ... |  18.0 |    8.8 |             -51.111… |\n",
      "| Grant County     ... |  21.2 |   10.4 |             -50.943… |\n",
      "| Pierce County    ... |  14.4 |    7.3 |             -49.306… |\n",
      "| Keith County     ... |  18.0 |    9.3 |             -48.333… |\n",
      "| Cheyenne County  ... |  12.9 |    6.7 |             -48.062… |\n",
      "| Sioux County     ... |  20.7 |   10.8 |             -47.826… |\n",
      "| Stanton County   ... |  13.5 |    7.1 |             -47.407… |\n",
      "| Boyd County      ... |  21.4 |   11.3 |             -47.196… |\n",
      "| Wheeler County   ... |  23.7 |   12.8 |             -45.992… |\n",
      "| Cedar County     ... |  16.8 |    9.1 |             -45.833… |\n",
      "| Garfield County  ... |  21.4 |   11.7 |             -45.327… |\n",
      "| Howard County    ... |  15.5 |    8.8 |             -43.226… |\n",
      "| Hitchcock County ... |  18.1 |   10.4 |             -42.541… |\n",
      "| Cherry County    ... |  20.1 |   11.9 |             -40.796… |\n",
      "| Valley County    ... |  18.4 |   10.9 |             -40.761… |\n",
      "| Garden County    ... |  18.8 |   11.3 |             -39.894… |\n",
      "| ...                  |   ... |    ... |                  ... |\n"
     ]
    }
   ],
   "source": [
    "selected_change.order_by('percent_change_uninsured').print_table(max_rows=20)"
   ]
  },
  {
   "cell_type": "markdown",
   "metadata": {},
   "source": [
    "th pct goes down, most of them are red voters"
   ]
  },
  {
   "cell_type": "markdown",
   "metadata": {},
   "source": [
    "finding why should expand the medicaid?"
   ]
  },
  {
   "cell_type": "markdown",
   "metadata": {},
   "source": [
    "john hibbings = he is professor at the departement of the political science. morfeld wanna do a push on the expanded  pemerintah 90 percent dan sisanya state government... "
   ]
  },
  {
   "cell_type": "markdown",
   "metadata": {
    "collapsed": true
   },
   "source": [
    "john hibbings = 402 472 3320 \n",
    "john hibbing, professor of political scie\n",
    "adam morfeld ="
   ]
  },
  {
   "cell_type": "markdown",
   "metadata": {},
   "source": [
    "adam.morfeld@nereform.org   402.904 .5191"
   ]
  },
  {
   "cell_type": "code",
   "execution_count": null,
   "metadata": {
    "collapsed": true
   },
   "outputs": [],
   "source": []
  },
  {
   "cell_type": "code",
   "execution_count": null,
   "metadata": {
    "collapsed": true
   },
   "outputs": [],
   "source": []
  }
 ],
 "metadata": {
  "kernelspec": {
   "display_name": "Python 3",
   "language": "python",
   "name": "python3"
  },
  "language_info": {
   "codemirror_mode": {
    "name": "ipython",
    "version": 3
   },
   "file_extension": ".py",
   "mimetype": "text/x-python",
   "name": "python",
   "nbconvert_exporter": "python",
   "pygments_lexer": "ipython3",
   "version": "3.6.1"
  }
 },
 "nbformat": 4,
 "nbformat_minor": 2
}

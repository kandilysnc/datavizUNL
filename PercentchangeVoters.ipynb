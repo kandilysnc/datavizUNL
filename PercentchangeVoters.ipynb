{
 "cells": [
  {
   "cell_type": "code",
   "execution_count": 1,
   "metadata": {
    "collapsed": true
   },
   "outputs": [],
   "source": [
    "import agate"
   ]
  },
  {
   "cell_type": "code",
   "execution_count": 2,
   "metadata": {
    "collapsed": true
   },
   "outputs": [],
   "source": [
    "registered_voters = agate.Table.from_csv('Data/registeredvoters.csv')"
   ]
  },
  {
   "cell_type": "code",
   "execution_count": 3,
   "metadata": {},
   "outputs": [
    {
     "name": "stdout",
     "output_type": "stream",
     "text": [
      "| column        | data_type |\n",
      "| ------------- | --------- |\n",
      "| County        | Text      |\n",
      "| Republican10  | Number    |\n",
      "| Democrat10    | Number    |\n",
      "| Libertarian10 | Number    |\n",
      "| Nonpartisan10 | Number    |\n",
      "| Total10       | Number    |\n",
      "| Republican16  | Number    |\n",
      "| Democrat16    | Number    |\n",
      "| Nonpartisan16 | Number    |\n",
      "| Libertarian16 | Number    |\n",
      "| Total16       | Number    |\n",
      "\n"
     ]
    }
   ],
   "source": [
    "print(registered_voters)"
   ]
  },
  {
   "cell_type": "code",
   "execution_count": 4,
   "metadata": {},
   "outputs": [
    {
     "name": "stdout",
     "output_type": "stream",
     "text": [
      "| County    | Republican10 | Democrat10 | Libertarian10 | Nonpartisan10 | Total10 | ... |\n",
      "| --------- | ------------ | ---------- | ------------- | ------------- | ------- | --- |\n",
      "| Adams     |       10,018 |      5,536 |             6 |         2,972 |  18,532 | ... |\n",
      "| Antelope  |        3,005 |      1,147 |             0 |           538 |   4,690 | ... |\n",
      "| Arthur    |          284 |         52 |             0 |            10 |     346 | ... |\n",
      "| Banner    |          424 |         53 |             0 |            53 |     530 | ... |\n",
      "| Blaine    |          314 |         56 |             0 |            24 |     394 | ... |\n",
      "| Boone     |        2,390 |      1,156 |             0 |           408 |   3,954 | ... |\n",
      "| Box Butte |        4,115 |      2,347 |             3 |         1,286 |   7,751 | ... |\n",
      "| Boyd      |        1,036 |        338 |             0 |           129 |   1,503 | ... |\n",
      "| Brown     |        1,663 |        363 |             0 |           224 |   2,250 | ... |\n",
      "| Buffalo   |       15,768 |      6,785 |            14 |         4,537 |  27,104 | ... |\n",
      "| Burt      |        2,521 |      1,694 |             0 |           834 |   5,049 | ... |\n",
      "| Butler    |        3,044 |      2,134 |             0 |           939 |   6,117 | ... |\n",
      "| Cass      |        8,216 |      5,435 |             6 |         3,755 |  17,412 | ... |\n",
      "| Cedar     |        3,072 |      2,231 |             0 |           886 |   6,189 | ... |\n",
      "| Chase     |        1,827 |        526 |             0 |           263 |   2,616 | ... |\n",
      "| Cherry    |        2,945 |        780 |             0 |           433 |   4,158 | ... |\n",
      "| Cheyenne  |        4,146 |      1,484 |             4 |         1,266 |   6,900 | ... |\n",
      "| Clay      |        2,889 |      1,081 |             0 |           629 |   4,599 | ... |\n",
      "| Colfax    |        2,364 |      2,394 |             0 |           587 |   5,345 | ... |\n",
      "| Cuming    |        3,639 |      1,485 |             1 |           754 |   5,879 | ... |\n",
      "| ...       |          ... |        ... |           ... |           ... |     ... | ... |\n"
     ]
    }
   ],
   "source": [
    "registered_voters.print_table()"
   ]
  },
  {
   "cell_type": "markdown",
   "metadata": {},
   "source": [
    "**SELECTED FIELDS: COUNTY, TOTAL VOTERS 2010 AND TOTAL VOTERS 2016**"
   ]
  },
  {
   "cell_type": "code",
   "execution_count": 5,
   "metadata": {
    "collapsed": true
   },
   "outputs": [],
   "source": [
    "for_printing = registered_voters.select(['County', 'Total10', 'Total16'])"
   ]
  },
  {
   "cell_type": "code",
   "execution_count": 6,
   "metadata": {},
   "outputs": [
    {
     "name": "stdout",
     "output_type": "stream",
     "text": [
      "| County    | Total10 | Total16 |\n",
      "| --------- | ------- | ------- |\n",
      "| Adams     |  18,532 |  19,527 |\n",
      "| Antelope  |   4,690 |   4,557 |\n",
      "| Arthur    |     346 |     341 |\n",
      "| Banner    |     530 |     545 |\n",
      "| Blaine    |     394 |     384 |\n",
      "| Boone     |   3,954 |   3,785 |\n",
      "| Box Butte |   7,751 |   7,577 |\n",
      "| Boyd      |   1,503 |   1,494 |\n",
      "| Brown     |   2,250 |   2,134 |\n",
      "| Buffalo   |  27,104 |  29,193 |\n",
      "| Burt      |   5,049 |   4,893 |\n",
      "| Butler    |   6,117 |   5,585 |\n",
      "| Cass      |  17,412 |  17,310 |\n",
      "| Cedar     |   6,189 |   5,960 |\n",
      "| Chase     |   2,616 |   2,486 |\n",
      "| Cherry    |   4,158 |   4,185 |\n",
      "| Cheyenne  |   6,900 |   6,863 |\n",
      "| Clay      |   4,599 |   4,258 |\n",
      "| Colfax    |   5,345 |   5,069 |\n",
      "| Cuming    |   5,879 |   5,787 |\n",
      "| ...       |     ... |     ... |\n"
     ]
    }
   ],
   "source": [
    "for_printing.print_table()"
   ]
  },
  {
   "cell_type": "code",
   "execution_count": 50,
   "metadata": {
    "collapsed": true
   },
   "outputs": [],
   "source": [
    "counties_rank = for_printing.order_by('Total16', reverse=True)"
   ]
  },
  {
   "cell_type": "code",
   "execution_count": 51,
   "metadata": {},
   "outputs": [
    {
     "name": "stdout",
     "output_type": "stream",
     "text": [
      "| County       | Total10 | Total16 |\n",
      "| ------------ | ------- | ------- |\n",
      "| Douglas      | 313,266 | 345,966 |\n",
      "| Lancaster    | 177,813 | 187,050 |\n",
      "| Sarpy        |  92,785 | 108,473 |\n",
      "| Hall         |  31,674 |  33,026 |\n",
      "| Buffalo      |  27,104 |  29,193 |\n",
      "| Scotts Bluff |  23,871 |  24,139 |\n",
      "| Lincoln      |  23,213 |  24,012 |\n",
      "| Dodge        |  21,876 |  22,113 |\n",
      "| Madison      |  21,372 |  21,462 |\n",
      "| Platte       |  19,435 |  20,116 |\n",
      "| Adams        |  18,532 |  19,527 |\n",
      "| Cass         |  17,412 |  17,310 |\n",
      "| Saunders     |  14,181 |  14,696 |\n",
      "| Washington   |  13,934 |  14,322 |\n",
      "| Gage         |  15,202 |  14,136 |\n",
      "| Dawson       |  13,578 |  13,916 |\n",
      "| Seward       |  10,902 |  10,926 |\n",
      "| Dakota       |  10,088 |  10,700 |\n",
      "| Otoe         |  10,771 |  10,447 |\n",
      "| York         |  10,790 |  10,013 |\n",
      "| ...          |     ... |     ... |\n"
     ]
    }
   ],
   "source": [
    "counties_rank.print_table()"
   ]
  },
  {
   "cell_type": "markdown",
   "metadata": {},
   "source": [
    "**TOP TEN COUNTIES FOR REGISTERED VOTERS IN 2016: DOUGLAS, LANCASTER, SARPY, HALL, BUFFALO, SCOTTS BLUFF, LINCOLN, DODGE, MADISON, AND PLATTE**"
   ]
  },
  {
   "cell_type": "markdown",
   "metadata": {},
   "source": [
    "***TOTAL VOTERS PERCENT CHANGE 2010-2016***"
   ]
  },
  {
   "cell_type": "code",
   "execution_count": 7,
   "metadata": {
    "collapsed": true
   },
   "outputs": [],
   "source": [
    "change = for_printing.compute([\n",
    "    ('change', agate.PercentChange('Total10', 'Total16')),\n",
    "])"
   ]
  },
  {
   "cell_type": "code",
   "execution_count": 8,
   "metadata": {},
   "outputs": [
    {
     "name": "stdout",
     "output_type": "stream",
     "text": [
      "| County    | Total10 | Total16 |  change |\n",
      "| --------- | ------- | ------- | ------- |\n",
      "| Adams     |  18,532 |  19,527 |  5.369… |\n",
      "| Antelope  |   4,690 |   4,557 | -2.836… |\n",
      "| Arthur    |     346 |     341 | -1.445… |\n",
      "| Banner    |     530 |     545 |  2.830… |\n",
      "| Blaine    |     394 |     384 | -2.538… |\n",
      "| Boone     |   3,954 |   3,785 | -4.274… |\n",
      "| Box Butte |   7,751 |   7,577 | -2.245… |\n",
      "| Boyd      |   1,503 |   1,494 | -0.599… |\n",
      "| Brown     |   2,250 |   2,134 | -5.156… |\n",
      "| Buffalo   |  27,104 |  29,193 |  7.707… |\n",
      "| Burt      |   5,049 |   4,893 | -3.090… |\n",
      "| Butler    |   6,117 |   5,585 | -8.697… |\n",
      "| Cass      |  17,412 |  17,310 | -0.586… |\n",
      "| Cedar     |   6,189 |   5,960 | -3.700… |\n",
      "| Chase     |   2,616 |   2,486 | -4.969… |\n",
      "| Cherry    |   4,158 |   4,185 |  0.649… |\n",
      "| Cheyenne  |   6,900 |   6,863 | -0.536… |\n",
      "| Clay      |   4,599 |   4,258 | -7.415… |\n",
      "| Colfax    |   5,345 |   5,069 | -5.164… |\n",
      "| Cuming    |   5,879 |   5,787 | -1.565… |\n",
      "| ...       |     ... |     ... |     ... |\n"
     ]
    }
   ],
   "source": [
    "change.print_table()"
   ]
  },
  {
   "cell_type": "markdown",
   "metadata": {},
   "source": [
    "**TOP TEN FASTEST SHRINKING COUNTIES IN TERMS OF TOTAL REGISTERED VOTERS 2010-2016**"
   ]
  },
  {
   "cell_type": "code",
   "execution_count": 9,
   "metadata": {
    "collapsed": true
   },
   "outputs": [],
   "source": [
    "sorted_counties = change.order_by('change')"
   ]
  },
  {
   "cell_type": "code",
   "execution_count": 10,
   "metadata": {},
   "outputs": [
    {
     "name": "stdout",
     "output_type": "stream",
     "text": [
      "| County     | Total10 | Total16 |   change |\n",
      "| ---------- | ------- | ------- | -------- |\n",
      "| Greeley    |   1,817 |   1,594 | -12.273… |\n",
      "| Hooker     |     609 |     542 | -11.002… |\n",
      "| Nemaha     |   5,011 |   4,563 |  -8.940… |\n",
      "| Butler     |   6,117 |   5,585 |  -8.697… |\n",
      "| Richardson |   6,187 |   5,669 |  -8.372… |\n",
      "| Webster    |   2,613 |   2,413 |  -7.654… |\n",
      "| Clay       |   4,599 |   4,258 |  -7.415… |\n",
      "| York       |  10,790 |  10,013 |  -7.201… |\n",
      "| Wheeler    |     654 |     607 |  -7.187… |\n",
      "| Dundy      |   1,368 |   1,272 |  -7.018… |\n",
      "| ...        |     ... |     ... |      ... |\n"
     ]
    }
   ],
   "source": [
    "sorted_counties.print_table(max_rows=10)"
   ]
  },
  {
   "cell_type": "code",
   "execution_count": 11,
   "metadata": {
    "collapsed": true
   },
   "outputs": [],
   "source": [
    "from decimal import Decimal\n",
    "\n",
    "def round_change(row):\n",
    "    return row['change'].quantize(Decimal('0.1'))\n",
    "\n",
    "rounded_change = sorted_counties.compute([\n",
    "    ('change_rounded', agate.Formula(agate.Number(), round_change))\n",
    "])"
   ]
  },
  {
   "cell_type": "code",
   "execution_count": 12,
   "metadata": {},
   "outputs": [
    {
     "name": "stdout",
     "output_type": "stream",
     "text": [
      "| County     | Total10 | Total16 |   change | change_rounded |\n",
      "| ---------- | ------- | ------- | -------- | -------------- |\n",
      "| Greeley    |   1,817 |   1,594 | -12.273… |          -12.3 |\n",
      "| Hooker     |     609 |     542 | -11.002… |          -11.0 |\n",
      "| Nemaha     |   5,011 |   4,563 |  -8.940… |           -8.9 |\n",
      "| Butler     |   6,117 |   5,585 |  -8.697… |           -8.7 |\n",
      "| Richardson |   6,187 |   5,669 |  -8.372… |           -8.4 |\n",
      "| Webster    |   2,613 |   2,413 |  -7.654… |           -7.7 |\n",
      "| Clay       |   4,599 |   4,258 |  -7.415… |           -7.4 |\n",
      "| York       |  10,790 |  10,013 |  -7.201… |           -7.2 |\n",
      "| Wheeler    |     654 |     607 |  -7.187… |           -7.2 |\n",
      "| Dundy      |   1,368 |   1,272 |  -7.018… |           -7.0 |\n",
      "| Gage       |  15,202 |  14,136 |  -7.012… |           -7.0 |\n",
      "| Keya Paha  |     686 |     639 |  -6.851… |           -6.9 |\n",
      "| Hayes      |     769 |     720 |  -6.372… |           -6.4 |\n",
      "| Jefferson  |   5,318 |   4,981 |  -6.337… |           -6.3 |\n",
      "| Nance      |   2,544 |   2,383 |  -6.329… |           -6.3 |\n",
      "| Johnson    |   2,947 |   2,767 |  -6.108… |           -6.1 |\n",
      "| Merrick    |   5,269 |   4,954 |  -5.978… |           -6.0 |\n",
      "| Valley     |   3,177 |   2,995 |  -5.729… |           -5.7 |\n",
      "| Garden     |   1,550 |   1,462 |  -5.677… |           -5.7 |\n",
      "| Colfax     |   5,345 |   5,069 |  -5.164… |           -5.2 |\n",
      "| ...        |     ... |     ... |      ... |            ... |\n"
     ]
    }
   ],
   "source": [
    "rounded_change.print_table()"
   ]
  },
  {
   "cell_type": "code",
   "execution_count": 13,
   "metadata": {
    "collapsed": true
   },
   "outputs": [],
   "source": [
    "sorted_counties = rounded_change.order_by('change')"
   ]
  },
  {
   "cell_type": "code",
   "execution_count": 14,
   "metadata": {},
   "outputs": [
    {
     "name": "stdout",
     "output_type": "stream",
     "text": [
      "| County     | Total10 | Total16 |   change | change_rounded |\n",
      "| ---------- | ------- | ------- | -------- | -------------- |\n",
      "| Greeley    |   1,817 |   1,594 | -12.273… |          -12.3 |\n",
      "| Hooker     |     609 |     542 | -11.002… |          -11.0 |\n",
      "| Nemaha     |   5,011 |   4,563 |  -8.940… |           -8.9 |\n",
      "| Butler     |   6,117 |   5,585 |  -8.697… |           -8.7 |\n",
      "| Richardson |   6,187 |   5,669 |  -8.372… |           -8.4 |\n",
      "| Webster    |   2,613 |   2,413 |  -7.654… |           -7.7 |\n",
      "| Clay       |   4,599 |   4,258 |  -7.415… |           -7.4 |\n",
      "| York       |  10,790 |  10,013 |  -7.201… |           -7.2 |\n",
      "| Wheeler    |     654 |     607 |  -7.187… |           -7.2 |\n",
      "| Dundy      |   1,368 |   1,272 |  -7.018… |           -7.0 |\n",
      "| ...        |     ... |     ... |      ... |            ... |\n"
     ]
    }
   ],
   "source": [
    "sorted_counties.print_table(max_rows=10)"
   ]
  },
  {
   "cell_type": "markdown",
   "metadata": {},
   "source": [
    "**TOP TEN FASTEST SHRINKING TOTAL REGISTERED VOTERS COUNTIES 2010-2016: GREELEY (-12.3%), HOOKER (-11%), NEMAHA (-8.9%), BUTLER (-8.7%), RICHARDSON (-8.4%), WEBSTER (-7.7%), CLAY (-7.4%), YORK(-7.2%), WHEELER (-7.2%), AND DUNDY (-7.0%) shrinking counties can be written, a newsworthy to write 12.3 pct shrinking**"
   ]
  },
  {
   "cell_type": "code",
   "execution_count": 15,
   "metadata": {
    "collapsed": true
   },
   "outputs": [],
   "source": [
    "sorted_counties = rounded_change.order_by('change', reverse=True)"
   ]
  },
  {
   "cell_type": "code",
   "execution_count": 16,
   "metadata": {},
   "outputs": [
    {
     "name": "stdout",
     "output_type": "stream",
     "text": [
      "| County    | Total10 | Total16 |  change | change_rounded |\n",
      "| --------- | ------- | ------- | ------- | -------------- |\n",
      "| Sarpy     |  92,785 | 108,473 | 16.908… |           16.9 |\n",
      "| Douglas   | 313,266 | 345,966 | 10.438… |           10.4 |\n",
      "| Buffalo   |  27,104 |  29,193 |  7.707… |            7.7 |\n",
      "| Dakota    |  10,088 |  10,700 |  6.067… |            6.1 |\n",
      "| Adams     |  18,532 |  19,527 |  5.369… |            5.4 |\n",
      "| Lancaster | 177,813 | 187,050 |  5.195… |            5.2 |\n",
      "| Hall      |  31,674 |  33,026 |  4.268… |            4.3 |\n",
      "| Saunders  |  14,181 |  14,696 |  3.632… |            3.6 |\n",
      "| Platte    |  19,435 |  20,116 |  3.504… |            3.5 |\n",
      "| Lincoln   |  23,213 |  24,012 |  3.442… |            3.4 |\n",
      "| ...       |     ... |     ... |     ... |            ... |\n"
     ]
    }
   ],
   "source": [
    "sorted_counties.print_table(max_rows=10)"
   ]
  },
  {
   "cell_type": "markdown",
   "metadata": {},
   "source": [
    "**TOP TEN FASTEST GROWING OF THE TOTAL REGISTERED VOTERS COUNTIES 2010-2016: SARPY (16.9%), DOUGLAS (10.4%), BUFFALO (7.7%), DAKOTA (6.1%), ADAMS (5.4%), LANCASTER (5.2%), HALL (4.3%), SAUNDERS(3.6%), PLATTE (3.5%), AND LINCOLN (3.4%)**"
   ]
  },
  {
   "cell_type": "markdown",
   "metadata": {},
   "source": [
    "***PART TWO DEMOCRAT, REPUBLICAN AND NONPARTISAN PCT CHANGE**"
   ]
  },
  {
   "cell_type": "markdown",
   "metadata": {},
   "source": [
    "*CALCULATIONS*"
   ]
  },
  {
   "cell_type": "code",
   "execution_count": 18,
   "metadata": {
    "scrolled": true
   },
   "outputs": [
    {
     "name": "stdout",
     "output_type": "stream",
     "text": [
      "| County    | Republican10 | Democrat10 | Libertarian10 | Nonpartisan10 | Total10 | ... |\n",
      "| --------- | ------------ | ---------- | ------------- | ------------- | ------- | --- |\n",
      "| Adams     |       10,018 |      5,536 |             6 |         2,972 |  18,532 | ... |\n",
      "| Antelope  |        3,005 |      1,147 |             0 |           538 |   4,690 | ... |\n",
      "| Arthur    |          284 |         52 |             0 |            10 |     346 | ... |\n",
      "| Banner    |          424 |         53 |             0 |            53 |     530 | ... |\n",
      "| Blaine    |          314 |         56 |             0 |            24 |     394 | ... |\n",
      "| Boone     |        2,390 |      1,156 |             0 |           408 |   3,954 | ... |\n",
      "| Box Butte |        4,115 |      2,347 |             3 |         1,286 |   7,751 | ... |\n",
      "| Boyd      |        1,036 |        338 |             0 |           129 |   1,503 | ... |\n",
      "| Brown     |        1,663 |        363 |             0 |           224 |   2,250 | ... |\n",
      "| Buffalo   |       15,768 |      6,785 |            14 |         4,537 |  27,104 | ... |\n",
      "| Burt      |        2,521 |      1,694 |             0 |           834 |   5,049 | ... |\n",
      "| Butler    |        3,044 |      2,134 |             0 |           939 |   6,117 | ... |\n",
      "| Cass      |        8,216 |      5,435 |             6 |         3,755 |  17,412 | ... |\n",
      "| Cedar     |        3,072 |      2,231 |             0 |           886 |   6,189 | ... |\n",
      "| Chase     |        1,827 |        526 |             0 |           263 |   2,616 | ... |\n",
      "| Cherry    |        2,945 |        780 |             0 |           433 |   4,158 | ... |\n",
      "| Cheyenne  |        4,146 |      1,484 |             4 |         1,266 |   6,900 | ... |\n",
      "| Clay      |        2,889 |      1,081 |             0 |           629 |   4,599 | ... |\n",
      "| Colfax    |        2,364 |      2,394 |             0 |           587 |   5,345 | ... |\n",
      "| Cuming    |        3,639 |      1,485 |             1 |           754 |   5,879 | ... |\n",
      "| ...       |          ... |        ... |           ... |           ... |     ... | ... |\n"
     ]
    }
   ],
   "source": [
    "registered_voters.print_table()"
   ]
  },
  {
   "cell_type": "code",
   "execution_count": 19,
   "metadata": {
    "collapsed": true
   },
   "outputs": [],
   "source": [
    "for_printing_2 = registered_voters.select(['County', 'Republican10', 'Republican16', 'Democrat10', 'Democrat16', 'Libertarian10', 'Libertarian16'])"
   ]
  },
  {
   "cell_type": "code",
   "execution_count": 20,
   "metadata": {},
   "outputs": [
    {
     "name": "stdout",
     "output_type": "stream",
     "text": [
      "| County    | Republican10 | Republican16 | Democrat10 | Democrat16 | Libertarian10 | ... |\n",
      "| --------- | ------------ | ------------ | ---------- | ---------- | ------------- | --- |\n",
      "| Adams     |       10,018 |       10,746 |      5,536 |      5,027 |             6 | ... |\n",
      "| Antelope  |        3,005 |        3,088 |      1,147 |        863 |             0 | ... |\n",
      "| Arthur    |          284 |          286 |         52 |         37 |             0 | ... |\n",
      "| Banner    |          424 |          427 |         53 |         38 |             0 | ... |\n",
      "| Blaine    |          314 |          310 |         56 |         43 |             0 | ... |\n",
      "| Boone     |        2,390 |        2,469 |      1,156 |        901 |             0 | ... |\n",
      "| Box Butte |        4,115 |        4,278 |      2,347 |      1,852 |             3 | ... |\n",
      "| Boyd      |        1,036 |        1,084 |        338 |        250 |             0 | ... |\n",
      "| Brown     |        1,663 |        1,658 |        363 |        253 |             0 | ... |\n",
      "| Buffalo   |       15,768 |       16,974 |      6,785 |      6,453 |            14 | ... |\n",
      "| Burt      |        2,521 |        2,540 |      1,694 |      1,440 |             0 | ... |\n",
      "| Butler    |        3,044 |        3,066 |      2,134 |      1,587 |             0 | ... |\n",
      "| Cass      |        8,216 |        8,472 |      5,435 |      4,633 |             6 | ... |\n",
      "| Cedar     |        3,072 |        3,503 |      2,231 |      1,574 |             0 | ... |\n",
      "| Chase     |        1,827 |        1,830 |        526 |        371 |             0 | ... |\n",
      "| Cherry    |        2,945 |        3,154 |        780 |        566 |             0 | ... |\n",
      "| Cheyenne  |        4,146 |        4,250 |      1,484 |      1,221 |             4 | ... |\n",
      "| Clay      |        2,889 |        2,743 |      1,081 |        848 |             0 | ... |\n",
      "| Colfax    |        2,364 |        2,332 |      2,394 |      2,018 |             0 | ... |\n",
      "| Cuming    |        3,639 |        3,635 |      1,485 |      1,240 |             1 | ... |\n",
      "| ...       |          ... |          ... |        ... |        ... |           ... | ... |\n"
     ]
    }
   ],
   "source": [
    "for_printing_2.print_table()"
   ]
  },
  {
   "cell_type": "markdown",
   "metadata": {},
   "source": [
    "**I. REPUBLICAN PERCENT CHANGE**"
   ]
  },
  {
   "cell_type": "code",
   "execution_count": 21,
   "metadata": {
    "collapsed": true
   },
   "outputs": [],
   "source": [
    "for_printing_Republican = registered_voters.select(['County', 'Republican10', 'Republican16'])"
   ]
  },
  {
   "cell_type": "code",
   "execution_count": 22,
   "metadata": {},
   "outputs": [
    {
     "name": "stdout",
     "output_type": "stream",
     "text": [
      "| County    | Republican10 | Republican16 |\n",
      "| --------- | ------------ | ------------ |\n",
      "| Adams     |       10,018 |       10,746 |\n",
      "| Antelope  |        3,005 |        3,088 |\n",
      "| Arthur    |          284 |          286 |\n",
      "| Banner    |          424 |          427 |\n",
      "| Blaine    |          314 |          310 |\n",
      "| Boone     |        2,390 |        2,469 |\n",
      "| Box Butte |        4,115 |        4,278 |\n",
      "| Boyd      |        1,036 |        1,084 |\n",
      "| Brown     |        1,663 |        1,658 |\n",
      "| Buffalo   |       15,768 |       16,974 |\n",
      "| Burt      |        2,521 |        2,540 |\n",
      "| Butler    |        3,044 |        3,066 |\n",
      "| Cass      |        8,216 |        8,472 |\n",
      "| Cedar     |        3,072 |        3,503 |\n",
      "| Chase     |        1,827 |        1,830 |\n",
      "| Cherry    |        2,945 |        3,154 |\n",
      "| Cheyenne  |        4,146 |        4,250 |\n",
      "| Clay      |        2,889 |        2,743 |\n",
      "| Colfax    |        2,364 |        2,332 |\n",
      "| Cuming    |        3,639 |        3,635 |\n",
      "| ...       |          ... |          ... |\n"
     ]
    }
   ],
   "source": [
    "for_printing_Republican. print_table()"
   ]
  },
  {
   "cell_type": "code",
   "execution_count": 23,
   "metadata": {
    "collapsed": true
   },
   "outputs": [],
   "source": [
    "change_Republican = for_printing_Republican.compute([\n",
    "    ('change', agate.PercentChange('Republican10', 'Republican16')),\n",
    "])"
   ]
  },
  {
   "cell_type": "code",
   "execution_count": 24,
   "metadata": {},
   "outputs": [
    {
     "name": "stdout",
     "output_type": "stream",
     "text": [
      "| County    | Republican10 | Republican16 |  change |\n",
      "| --------- | ------------ | ------------ | ------- |\n",
      "| Adams     |       10,018 |       10,746 |  7.267… |\n",
      "| Antelope  |        3,005 |        3,088 |  2.762… |\n",
      "| Arthur    |          284 |          286 |  0.704… |\n",
      "| Banner    |          424 |          427 |  0.708… |\n",
      "| Blaine    |          314 |          310 | -1.274… |\n",
      "| Boone     |        2,390 |        2,469 |  3.305… |\n",
      "| Box Butte |        4,115 |        4,278 |  3.961… |\n",
      "| Boyd      |        1,036 |        1,084 |  4.633… |\n",
      "| Brown     |        1,663 |        1,658 | -0.301… |\n",
      "| Buffalo   |       15,768 |       16,974 |  7.648… |\n",
      "| Burt      |        2,521 |        2,540 |  0.754… |\n",
      "| Butler    |        3,044 |        3,066 |  0.723… |\n",
      "| Cass      |        8,216 |        8,472 |  3.116… |\n",
      "| Cedar     |        3,072 |        3,503 | 14.030… |\n",
      "| Chase     |        1,827 |        1,830 |  0.164… |\n",
      "| Cherry    |        2,945 |        3,154 |  7.097… |\n",
      "| Cheyenne  |        4,146 |        4,250 |  2.508… |\n",
      "| Clay      |        2,889 |        2,743 | -5.054… |\n",
      "| Colfax    |        2,364 |        2,332 | -1.354… |\n",
      "| Cuming    |        3,639 |        3,635 | -0.110… |\n",
      "| ...       |          ... |          ... |     ... |\n"
     ]
    }
   ],
   "source": [
    "change_Republican.print_table()"
   ]
  },
  {
   "cell_type": "markdown",
   "metadata": {},
   "source": [
    "**REPUBLICAN TOP TEN COUNTIES OF THE MOST GROWING TO THE LEAST GROWING VOTERS**"
   ]
  },
  {
   "cell_type": "code",
   "execution_count": 25,
   "metadata": {
    "collapsed": true
   },
   "outputs": [],
   "source": [
    "sorted_counties_Republican = change_Republican.order_by('change', reverse=True)"
   ]
  },
  {
   "cell_type": "code",
   "execution_count": 26,
   "metadata": {},
   "outputs": [
    {
     "name": "stdout",
     "output_type": "stream",
     "text": [
      "| County     | Republican10 | Republican16 |  change |\n",
      "| ---------- | ------------ | ------------ | ------- |\n",
      "| Dixon      |        1,887 |        2,272 | 20.403… |\n",
      "| Sarpy      |       43,657 |       50,057 | 14.660… |\n",
      "| Cedar      |        3,072 |        3,503 | 14.030… |\n",
      "| Saunders   |        7,229 |        8,124 | 12.381… |\n",
      "| Grant      |          381 |          418 |  9.711… |\n",
      "| Platte     |       10,998 |       12,051 |  9.574… |\n",
      "| Lincoln    |       12,419 |       13,574 |  9.300… |\n",
      "| Howard     |        2,241 |        2,448 |  9.237… |\n",
      "| Greeley    |          578 |          626 |  8.304… |\n",
      "| Washington |        7,613 |        8,201 |  7.724… |\n",
      "| Buffalo    |       15,768 |       16,974 |  7.648… |\n",
      "| Red Willow |        4,300 |        4,621 |  7.465… |\n",
      "| Adams      |       10,018 |       10,746 |  7.267… |\n",
      "| Douglas    |      120,973 |      129,688 |  7.204… |\n",
      "| Cherry     |        2,945 |        3,154 |  7.097… |\n",
      "| Hamilton   |        4,107 |        4,365 |  6.282… |\n",
      "| Knox       |        3,118 |        3,312 |  6.222… |\n",
      "| Sherman    |          930 |          983 |  5.699… |\n",
      "| Hitchcock  |        1,210 |        1,278 |  5.620… |\n",
      "| Franklin   |        1,356 |        1,428 |  5.310… |\n",
      "| ...        |          ... |          ... |     ... |\n"
     ]
    }
   ],
   "source": [
    "sorted_counties_Republican.print_table()"
   ]
  },
  {
   "cell_type": "code",
   "execution_count": 27,
   "metadata": {
    "collapsed": true
   },
   "outputs": [],
   "source": [
    "from decimal import Decimal\n",
    "\n",
    "def round_change(row):\n",
    "    return row['change'].quantize(Decimal('0.1'))\n",
    "\n",
    "rounded_change = sorted_counties_Republican.compute([\n",
    "    ('change_rounded', agate.Formula(agate.Number(), round_change))\n",
    "])"
   ]
  },
  {
   "cell_type": "code",
   "execution_count": 28,
   "metadata": {},
   "outputs": [
    {
     "name": "stdout",
     "output_type": "stream",
     "text": [
      "| County     | Republican10 | Republican16 |  change | change_rounded |\n",
      "| ---------- | ------------ | ------------ | ------- | -------------- |\n",
      "| Dixon      |        1,887 |        2,272 | 20.403… |           20.4 |\n",
      "| Sarpy      |       43,657 |       50,057 | 14.660… |           14.7 |\n",
      "| Cedar      |        3,072 |        3,503 | 14.030… |           14.0 |\n",
      "| Saunders   |        7,229 |        8,124 | 12.381… |           12.4 |\n",
      "| Grant      |          381 |          418 |  9.711… |            9.7 |\n",
      "| Platte     |       10,998 |       12,051 |  9.574… |            9.6 |\n",
      "| Lincoln    |       12,419 |       13,574 |  9.300… |            9.3 |\n",
      "| Howard     |        2,241 |        2,448 |  9.237… |            9.2 |\n",
      "| Greeley    |          578 |          626 |  8.304… |            8.3 |\n",
      "| Washington |        7,613 |        8,201 |  7.724… |            7.7 |\n",
      "| Buffalo    |       15,768 |       16,974 |  7.648… |            7.6 |\n",
      "| Red Willow |        4,300 |        4,621 |  7.465… |            7.5 |\n",
      "| Adams      |       10,018 |       10,746 |  7.267… |            7.3 |\n",
      "| Douglas    |      120,973 |      129,688 |  7.204… |            7.2 |\n",
      "| Cherry     |        2,945 |        3,154 |  7.097… |            7.1 |\n",
      "| Hamilton   |        4,107 |        4,365 |  6.282… |            6.3 |\n",
      "| Knox       |        3,118 |        3,312 |  6.222… |            6.2 |\n",
      "| Sherman    |          930 |          983 |  5.699… |            5.7 |\n",
      "| Hitchcock  |        1,210 |        1,278 |  5.620… |            5.6 |\n",
      "| Franklin   |        1,356 |        1,428 |  5.310… |            5.3 |\n",
      "| ...        |          ... |          ... |     ... |            ... |\n"
     ]
    }
   ],
   "source": [
    "rounded_change.print_table()"
   ]
  },
  {
   "cell_type": "markdown",
   "metadata": {},
   "source": [
    "**TOP TEN COUNTIES THAT GROWING FASTEST FROM 2010 TO 2016: DIXON (20.4%), SARPY (14.7%), CEDAR (14%), SAUNDERS(12.4%), GRANT (9.7%), PLATTE(9.6%), LINCOLN(9.3%), HOWARD(9,.2%), GREELEY(8.3%), AND WASHINGTON (7.7%)**"
   ]
  },
  {
   "cell_type": "code",
   "execution_count": 29,
   "metadata": {},
   "outputs": [
    {
     "name": "stdout",
     "output_type": "stream",
     "text": [
      "| County     | Republican10 | Republican16 |  change | change_rounded |\n",
      "| ---------- | ------------ | ------------ | ------- | -------------- |\n",
      "| Dixon      |        1,887 |        2,272 | 20.403… |           20.4 |\n",
      "| Sarpy      |       43,657 |       50,057 | 14.660… |           14.7 |\n",
      "| Cedar      |        3,072 |        3,503 | 14.030… |           14.0 |\n",
      "| Saunders   |        7,229 |        8,124 | 12.381… |           12.4 |\n",
      "| Grant      |          381 |          418 |  9.711… |            9.7 |\n",
      "| Platte     |       10,998 |       12,051 |  9.574… |            9.6 |\n",
      "| Lincoln    |       12,419 |       13,574 |  9.300… |            9.3 |\n",
      "| Howard     |        2,241 |        2,448 |  9.237… |            9.2 |\n",
      "| Greeley    |          578 |          626 |  8.304… |            8.3 |\n",
      "| Washington |        7,613 |        8,201 |  7.724… |            7.7 |\n",
      "| ...        |          ... |          ... |     ... |            ... |\n"
     ]
    }
   ],
   "source": [
    "rounded_change.print_table(max_rows=10)"
   ]
  },
  {
   "cell_type": "markdown",
   "metadata": {},
   "source": [
    "**II. DEMOCRAT PERCENT CHANGE**"
   ]
  },
  {
   "cell_type": "code",
   "execution_count": 30,
   "metadata": {
    "collapsed": true
   },
   "outputs": [],
   "source": [
    "for_printing_Democrat = registered_voters.select(['County', 'Democrat10', 'Democrat16'])"
   ]
  },
  {
   "cell_type": "code",
   "execution_count": 31,
   "metadata": {},
   "outputs": [
    {
     "name": "stdout",
     "output_type": "stream",
     "text": [
      "| County    | Democrat10 | Democrat16 |\n",
      "| --------- | ---------- | ---------- |\n",
      "| Adams     |      5,536 |      5,027 |\n",
      "| Antelope  |      1,147 |        863 |\n",
      "| Arthur    |         52 |         37 |\n",
      "| Banner    |         53 |         38 |\n",
      "| Blaine    |         56 |         43 |\n",
      "| Boone     |      1,156 |        901 |\n",
      "| Box Butte |      2,347 |      1,852 |\n",
      "| Boyd      |        338 |        250 |\n",
      "| Brown     |        363 |        253 |\n",
      "| Buffalo   |      6,785 |      6,453 |\n",
      "| Burt      |      1,694 |      1,440 |\n",
      "| Butler    |      2,134 |      1,587 |\n",
      "| Cass      |      5,435 |      4,633 |\n",
      "| Cedar     |      2,231 |      1,574 |\n",
      "| Chase     |        526 |        371 |\n",
      "| Cherry    |        780 |        566 |\n",
      "| Cheyenne  |      1,484 |      1,221 |\n",
      "| Clay      |      1,081 |        848 |\n",
      "| Colfax    |      2,394 |      2,018 |\n",
      "| Cuming    |      1,485 |      1,240 |\n",
      "| ...       |        ... |        ... |\n"
     ]
    }
   ],
   "source": [
    "for_printing_Democrat.print_table()"
   ]
  },
  {
   "cell_type": "code",
   "execution_count": 32,
   "metadata": {
    "collapsed": true
   },
   "outputs": [],
   "source": [
    "change_Democrat = for_printing_Democrat.compute([\n",
    "    ('change', agate.PercentChange('Democrat10', 'Democrat16')),\n",
    "])"
   ]
  },
  {
   "cell_type": "code",
   "execution_count": 33,
   "metadata": {},
   "outputs": [
    {
     "name": "stdout",
     "output_type": "stream",
     "text": [
      "| County    | Democrat10 | Democrat16 |   change |\n",
      "| --------- | ---------- | ---------- | -------- |\n",
      "| Adams     |      5,536 |      5,027 |  -9.194… |\n",
      "| Antelope  |      1,147 |        863 | -24.760… |\n",
      "| Arthur    |         52 |         37 | -28.846… |\n",
      "| Banner    |         53 |         38 | -28.302… |\n",
      "| Blaine    |         56 |         43 | -23.214… |\n",
      "| Boone     |      1,156 |        901 | -22.059… |\n",
      "| Box Butte |      2,347 |      1,852 | -21.091… |\n",
      "| Boyd      |        338 |        250 | -26.036… |\n",
      "| Brown     |        363 |        253 | -30.303… |\n",
      "| Buffalo   |      6,785 |      6,453 |  -4.893… |\n",
      "| Burt      |      1,694 |      1,440 | -14.994… |\n",
      "| Butler    |      2,134 |      1,587 | -25.633… |\n",
      "| Cass      |      5,435 |      4,633 | -14.756… |\n",
      "| Cedar     |      2,231 |      1,574 | -29.449… |\n",
      "| Chase     |        526 |        371 | -29.468… |\n",
      "| Cherry    |        780 |        566 | -27.436… |\n",
      "| Cheyenne  |      1,484 |      1,221 | -17.722… |\n",
      "| Clay      |      1,081 |        848 | -21.554… |\n",
      "| Colfax    |      2,394 |      2,018 | -15.706… |\n",
      "| Cuming    |      1,485 |      1,240 | -16.498… |\n",
      "| ...       |        ... |        ... |      ... |\n"
     ]
    }
   ],
   "source": [
    "change_Democrat.print_table()"
   ]
  },
  {
   "cell_type": "code",
   "execution_count": 34,
   "metadata": {
    "collapsed": true
   },
   "outputs": [],
   "source": [
    "sorted_counties_Democrat = change_Democrat.order_by('change', reverse=True)"
   ]
  },
  {
   "cell_type": "code",
   "execution_count": 35,
   "metadata": {},
   "outputs": [
    {
     "name": "stdout",
     "output_type": "stream",
     "text": [
      "| County       | Democrat10 | Democrat16 |   change |\n",
      "| ------------ | ---------- | ---------- | -------- |\n",
      "| Sarpy        |     27,188 |     29,538 |   8.644… |\n",
      "| Douglas      |    125,194 |    132,466 |   5.809… |\n",
      "| Thurston     |      2,514 |      2,582 |   2.705… |\n",
      "| Lancaster    |     67,217 |     68,127 |   1.354… |\n",
      "| Dawson       |      3,620 |      3,660 |   1.105… |\n",
      "| Dakota       |      4,238 |      4,255 |   0.401… |\n",
      "| Hall         |      9,824 |      9,538 |  -2.911… |\n",
      "| Buffalo      |      6,785 |      6,453 |  -4.893… |\n",
      "| Loup         |         83 |         77 |  -7.229… |\n",
      "| Dawes        |      1,422 |      1,316 |  -7.454… |\n",
      "| Wayne        |      1,204 |      1,101 |  -8.555… |\n",
      "| Adams        |      5,536 |      5,027 |  -9.194… |\n",
      "| Stanton      |        832 |        752 |  -9.615… |\n",
      "| Madison      |      5,425 |      4,888 |  -9.899… |\n",
      "| Saline       |      3,709 |      3,303 | -10.946… |\n",
      "| Scotts Bluff |      6,821 |      6,067 | -11.054… |\n",
      "| Dodge        |      7,132 |      6,265 | -12.156… |\n",
      "| Deuel        |        202 |        176 | -12.871… |\n",
      "| Washington   |      3,694 |      3,212 | -13.048… |\n",
      "| Kimball      |        587 |        506 | -13.799… |\n",
      "| ...          |        ... |        ... |      ... |\n"
     ]
    }
   ],
   "source": [
    "sorted_counties_Democrat.print_table()"
   ]
  },
  {
   "cell_type": "code",
   "execution_count": 37,
   "metadata": {
    "collapsed": true
   },
   "outputs": [],
   "source": [
    "from decimal import Decimal\n",
    "\n",
    "def round_change(row):\n",
    "    return row['change'].quantize(Decimal('0.1'))\n",
    "\n",
    "rounded_change = sorted_counties_Democrat.compute([\n",
    "    ('change_rounded', agate.Formula(agate.Number(), round_change))\n",
    "])"
   ]
  },
  {
   "cell_type": "code",
   "execution_count": 38,
   "metadata": {},
   "outputs": [
    {
     "name": "stdout",
     "output_type": "stream",
     "text": [
      "| County       | Democrat10 | Democrat16 |   change | change_rounded |\n",
      "| ------------ | ---------- | ---------- | -------- | -------------- |\n",
      "| Sarpy        |     27,188 |     29,538 |   8.644… |            8.6 |\n",
      "| Douglas      |    125,194 |    132,466 |   5.809… |            5.8 |\n",
      "| Thurston     |      2,514 |      2,582 |   2.705… |            2.7 |\n",
      "| Lancaster    |     67,217 |     68,127 |   1.354… |            1.4 |\n",
      "| Dawson       |      3,620 |      3,660 |   1.105… |            1.1 |\n",
      "| Dakota       |      4,238 |      4,255 |   0.401… |            0.4 |\n",
      "| Hall         |      9,824 |      9,538 |  -2.911… |           -2.9 |\n",
      "| Buffalo      |      6,785 |      6,453 |  -4.893… |           -4.9 |\n",
      "| Loup         |         83 |         77 |  -7.229… |           -7.2 |\n",
      "| Dawes        |      1,422 |      1,316 |  -7.454… |           -7.5 |\n",
      "| Wayne        |      1,204 |      1,101 |  -8.555… |           -8.6 |\n",
      "| Adams        |      5,536 |      5,027 |  -9.194… |           -9.2 |\n",
      "| Stanton      |        832 |        752 |  -9.615… |           -9.6 |\n",
      "| Madison      |      5,425 |      4,888 |  -9.899… |           -9.9 |\n",
      "| Saline       |      3,709 |      3,303 | -10.946… |          -10.9 |\n",
      "| Scotts Bluff |      6,821 |      6,067 | -11.054… |          -11.1 |\n",
      "| Dodge        |      7,132 |      6,265 | -12.156… |          -12.2 |\n",
      "| Deuel        |        202 |        176 | -12.871… |          -12.9 |\n",
      "| Washington   |      3,694 |      3,212 | -13.048… |          -13.0 |\n",
      "| Kimball      |        587 |        506 | -13.799… |          -13.8 |\n",
      "| ...          |        ... |        ... |      ... |            ... |\n"
     ]
    }
   ],
   "source": [
    "rounded_change.print_table()"
   ]
  },
  {
   "cell_type": "markdown",
   "metadata": {},
   "source": [
    "**TOP TEN COUNTIES THAT GROWING FASTEST FROM 2010 TO 2016: SARPY (8.6%), DOUGLAS (5.8%), THURSTON (2.7%), LANCASTER (1.4%), DAWSON(1.1%), DAKOTA(0.4%), HALL (-2.9%), BUFFALO (-4.9%), LOUP(-7.2%), AND DAWES (-7.5%)**"
   ]
  },
  {
   "cell_type": "code",
   "execution_count": 39,
   "metadata": {},
   "outputs": [
    {
     "name": "stdout",
     "output_type": "stream",
     "text": [
      "| County    | Democrat10 | Democrat16 |  change | change_rounded |\n",
      "| --------- | ---------- | ---------- | ------- | -------------- |\n",
      "| Sarpy     |     27,188 |     29,538 |  8.644… |            8.6 |\n",
      "| Douglas   |    125,194 |    132,466 |  5.809… |            5.8 |\n",
      "| Thurston  |      2,514 |      2,582 |  2.705… |            2.7 |\n",
      "| Lancaster |     67,217 |     68,127 |  1.354… |            1.4 |\n",
      "| Dawson    |      3,620 |      3,660 |  1.105… |            1.1 |\n",
      "| Dakota    |      4,238 |      4,255 |  0.401… |            0.4 |\n",
      "| Hall      |      9,824 |      9,538 | -2.911… |           -2.9 |\n",
      "| Buffalo   |      6,785 |      6,453 | -4.893… |           -4.9 |\n",
      "| Loup      |         83 |         77 | -7.229… |           -7.2 |\n",
      "| Dawes     |      1,422 |      1,316 | -7.454… |           -7.5 |\n",
      "| ...       |        ... |        ... |     ... |            ... |\n"
     ]
    }
   ],
   "source": [
    "rounded_change.print_table(max_rows=10)"
   ]
  },
  {
   "cell_type": "markdown",
   "metadata": {},
   "source": [
    "**III. INDEPENDENTS (Nonpartisan) PERCENT CHANGE**"
   ]
  },
  {
   "cell_type": "code",
   "execution_count": 41,
   "metadata": {
    "collapsed": true
   },
   "outputs": [],
   "source": [
    "for_printing_Nonpartisan = registered_voters.select(['County', 'Nonpartisan10', 'Nonpartisan16'])"
   ]
  },
  {
   "cell_type": "code",
   "execution_count": 42,
   "metadata": {},
   "outputs": [
    {
     "name": "stdout",
     "output_type": "stream",
     "text": [
      "| County    | Nonpartisan10 | Nonpartisan16 |\n",
      "| --------- | ------------- | ------------- |\n",
      "| Adams     |         2,972 |         3,591 |\n",
      "| Antelope  |           538 |           594 |\n",
      "| Arthur    |            10 |            15 |\n",
      "| Banner    |            53 |            73 |\n",
      "| Blaine    |            24 |            29 |\n",
      "| Boone     |           408 |           404 |\n",
      "| Box Butte |         1,286 |         1,395 |\n",
      "| Boyd      |           129 |           156 |\n",
      "| Brown     |           224 |           214 |\n",
      "| Buffalo   |         4,537 |         5,461 |\n",
      "| Burt      |           834 |           878 |\n",
      "| Butler    |           939 |           913 |\n",
      "| Cass      |         3,755 |         4,025 |\n",
      "| Cedar     |           886 |           869 |\n",
      "| Chase     |           263 |           277 |\n",
      "| Cherry    |           433 |           455 |\n",
      "| Cheyenne  |         1,266 |         1,336 |\n",
      "| Clay      |           629 |           650 |\n",
      "| Colfax    |           587 |           701 |\n",
      "| Cuming    |           754 |           889 |\n",
      "| ...       |           ... |           ... |\n"
     ]
    }
   ],
   "source": [
    "for_printing_Nonpartisan.print_table()"
   ]
  },
  {
   "cell_type": "code",
   "execution_count": 43,
   "metadata": {
    "collapsed": true
   },
   "outputs": [],
   "source": [
    "change_Nonpartisan = for_printing_Nonpartisan.compute([\n",
    "    ('change', agate.PercentChange('Nonpartisan10', 'Nonpartisan16')),\n",
    "])"
   ]
  },
  {
   "cell_type": "code",
   "execution_count": 44,
   "metadata": {},
   "outputs": [
    {
     "name": "stdout",
     "output_type": "stream",
     "text": [
      "| County    | Nonpartisan10 | Nonpartisan16 |  change |\n",
      "| --------- | ------------- | ------------- | ------- |\n",
      "| Adams     |         2,972 |         3,591 | 20.828… |\n",
      "| Antelope  |           538 |           594 | 10.409… |\n",
      "| Arthur    |            10 |            15 | 50.000… |\n",
      "| Banner    |            53 |            73 | 37.736… |\n",
      "| Blaine    |            24 |            29 | 20.833… |\n",
      "| Boone     |           408 |           404 | -0.980… |\n",
      "| Box Butte |         1,286 |         1,395 |  8.476… |\n",
      "| Boyd      |           129 |           156 | 20.930… |\n",
      "| Brown     |           224 |           214 | -4.464… |\n",
      "| Buffalo   |         4,537 |         5,461 | 20.366… |\n",
      "| Burt      |           834 |           878 |  5.276… |\n",
      "| Butler    |           939 |           913 | -2.769… |\n",
      "| Cass      |         3,755 |         4,025 |  7.190… |\n",
      "| Cedar     |           886 |           869 | -1.919… |\n",
      "| Chase     |           263 |           277 |  5.323… |\n",
      "| Cherry    |           433 |           455 |  5.081… |\n",
      "| Cheyenne  |         1,266 |         1,336 |  5.529… |\n",
      "| Clay      |           629 |           650 |  3.339… |\n",
      "| Colfax    |           587 |           701 | 19.421… |\n",
      "| Cuming    |           754 |           889 | 17.905… |\n",
      "| ...       |           ... |           ... |     ... |\n"
     ]
    }
   ],
   "source": [
    "change_Nonpartisan.print_table()"
   ]
  },
  {
   "cell_type": "code",
   "execution_count": 45,
   "metadata": {
    "collapsed": true
   },
   "outputs": [],
   "source": [
    "sorted_counties_Nonpartisan = change_Nonpartisan.order_by('change', reverse=True)"
   ]
  },
  {
   "cell_type": "code",
   "execution_count": 46,
   "metadata": {},
   "outputs": [
    {
     "name": "stdout",
     "output_type": "stream",
     "text": [
      "| County    | Nonpartisan10 | Nonpartisan16 |  change |\n",
      "| --------- | ------------- | ------------- | ------- |\n",
      "| McPherson |            15 |            24 | 60.000… |\n",
      "| Arthur    |            10 |            15 | 50.000… |\n",
      "| Thomas    |            34 |            49 | 44.118… |\n",
      "| Keya Paha |            31 |            44 | 41.935… |\n",
      "| Banner    |            53 |            73 | 37.736… |\n",
      "| Sarpy     |        21,900 |        27,620 | 26.119… |\n",
      "| Logan     |            54 |            68 | 25.926… |\n",
      "| Thayer    |           480 |           594 | 23.750… |\n",
      "| Kimball   |           451 |           552 | 22.395… |\n",
      "| Boyd      |           129 |           156 | 20.930… |\n",
      "| Blaine    |            24 |            29 | 20.833… |\n",
      "| Adams     |         2,972 |         3,591 | 20.828… |\n",
      "| Buffalo   |         4,537 |         5,461 | 20.366… |\n",
      "| Saunders  |         2,098 |         2,524 | 20.305… |\n",
      "| Douglas   |        66,976 |        80,315 | 19.916… |\n",
      "| Colfax    |           587 |           701 | 19.421… |\n",
      "| Wheeler   |            48 |            57 | 18.750… |\n",
      "| Dakota    |         2,270 |         2,691 | 18.546… |\n",
      "| Pierce    |           663 |           785 | 18.401… |\n",
      "| Dundy     |           134 |           158 | 17.910… |\n",
      "| ...       |           ... |           ... |     ... |\n"
     ]
    }
   ],
   "source": [
    "sorted_counties_Nonpartisan.print_table()"
   ]
  },
  {
   "cell_type": "code",
   "execution_count": 47,
   "metadata": {
    "collapsed": true
   },
   "outputs": [],
   "source": [
    "from decimal import Decimal\n",
    "\n",
    "def round_change(row):\n",
    "    return row['change'].quantize(Decimal('0.1'))\n",
    "\n",
    "rounded_change = sorted_counties_Nonpartisan.compute([\n",
    "    ('change_rounded', agate.Formula(agate.Number(), round_change))\n",
    "])"
   ]
  },
  {
   "cell_type": "code",
   "execution_count": 48,
   "metadata": {},
   "outputs": [
    {
     "name": "stdout",
     "output_type": "stream",
     "text": [
      "| County    | Nonpartisan10 | Nonpartisan16 |  change | change_rounded |\n",
      "| --------- | ------------- | ------------- | ------- | -------------- |\n",
      "| McPherson |            15 |            24 | 60.000… |           60.0 |\n",
      "| Arthur    |            10 |            15 | 50.000… |           50.0 |\n",
      "| Thomas    |            34 |            49 | 44.118… |           44.1 |\n",
      "| Keya Paha |            31 |            44 | 41.935… |           41.9 |\n",
      "| Banner    |            53 |            73 | 37.736… |           37.7 |\n",
      "| Sarpy     |        21,900 |        27,620 | 26.119… |           26.1 |\n",
      "| Logan     |            54 |            68 | 25.926… |           25.9 |\n",
      "| Thayer    |           480 |           594 | 23.750… |           23.8 |\n",
      "| Kimball   |           451 |           552 | 22.395… |           22.4 |\n",
      "| Boyd      |           129 |           156 | 20.930… |           20.9 |\n",
      "| Blaine    |            24 |            29 | 20.833… |           20.8 |\n",
      "| Adams     |         2,972 |         3,591 | 20.828… |           20.8 |\n",
      "| Buffalo   |         4,537 |         5,461 | 20.366… |           20.4 |\n",
      "| Saunders  |         2,098 |         2,524 | 20.305… |           20.3 |\n",
      "| Douglas   |        66,976 |        80,315 | 19.916… |           19.9 |\n",
      "| Colfax    |           587 |           701 | 19.421… |           19.4 |\n",
      "| Wheeler   |            48 |            57 | 18.750… |           18.8 |\n",
      "| Dakota    |         2,270 |         2,691 | 18.546… |           18.5 |\n",
      "| Pierce    |           663 |           785 | 18.401… |           18.4 |\n",
      "| Dundy     |           134 |           158 | 17.910… |           17.9 |\n",
      "| ...       |           ... |           ... |     ... |            ... |\n"
     ]
    }
   ],
   "source": [
    "rounded_change.print_table()"
   ]
  },
  {
   "cell_type": "markdown",
   "metadata": {},
   "source": [
    "**TOP TEN COUNTIES THAT GROWING FASTEST FROM 2010 TO 2016: MCPHERSON (60%), ARTHUR (50%), THOMAS (44.1%), KAYA PAHA (41.9%), BANNER (37.7%), SARPY (26.1%), LOGAN (25.9%), THAYER (23.8%), KIMBALL (22.4%), AND BOYD (20.9%)**"
   ]
  },
  {
   "cell_type": "code",
   "execution_count": 49,
   "metadata": {},
   "outputs": [
    {
     "name": "stdout",
     "output_type": "stream",
     "text": [
      "| County    | Nonpartisan10 | Nonpartisan16 |  change | change_rounded |\n",
      "| --------- | ------------- | ------------- | ------- | -------------- |\n",
      "| McPherson |            15 |            24 | 60.000… |           60.0 |\n",
      "| Arthur    |            10 |            15 | 50.000… |           50.0 |\n",
      "| Thomas    |            34 |            49 | 44.118… |           44.1 |\n",
      "| Keya Paha |            31 |            44 | 41.935… |           41.9 |\n",
      "| Banner    |            53 |            73 | 37.736… |           37.7 |\n",
      "| Sarpy     |        21,900 |        27,620 | 26.119… |           26.1 |\n",
      "| Logan     |            54 |            68 | 25.926… |           25.9 |\n",
      "| Thayer    |           480 |           594 | 23.750… |           23.8 |\n",
      "| Kimball   |           451 |           552 | 22.395… |           22.4 |\n",
      "| Boyd      |           129 |           156 | 20.930… |           20.9 |\n",
      "| ...       |           ... |           ... |     ... |            ... |\n"
     ]
    }
   ],
   "source": [
    "rounded_change.print_table(max_rows=10)"
   ]
  },
  {
   "cell_type": "markdown",
   "metadata": {},
   "source": [
    "**Answers all in bolds**"
   ]
  },
  {
   "cell_type": "code",
   "execution_count": null,
   "metadata": {
    "collapsed": true
   },
   "outputs": [],
   "source": []
  }
 ],
 "metadata": {
  "kernelspec": {
   "display_name": "Python 3",
   "language": "python",
   "name": "python3"
  },
  "language_info": {
   "codemirror_mode": {
    "name": "ipython",
    "version": 3
   },
   "file_extension": ".py",
   "mimetype": "text/x-python",
   "name": "python",
   "nbconvert_exporter": "python",
   "pygments_lexer": "ipython3",
   "version": "3.6.1"
  }
 },
 "nbformat": 4,
 "nbformat_minor": 2
}

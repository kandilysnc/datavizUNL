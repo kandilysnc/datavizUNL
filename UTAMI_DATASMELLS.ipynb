{
 "cells": [
  {
   "cell_type": "code",
   "execution_count": 4,
   "metadata": {
    "collapsed": true
   },
   "outputs": [],
   "source": [
    "import agate"
   ]
  },
  {
   "cell_type": "code",
   "execution_count": 5,
   "metadata": {},
   "outputs": [],
   "source": [
    "unlcrimes = agate.Table.from_csv ('Data/unlcrime.csv')"
   ]
  },
  {
   "cell_type": "code",
   "execution_count": 6,
   "metadata": {
    "scrolled": true
   },
   "outputs": [
    {
     "name": "stdout",
     "output_type": "stream",
     "text": [
      "| Case #     | Incident Code        |            Reported | Case Status          |      Start Occurred |        End Occurred | ... |\n",
      "| ---------- | -------------------- | ------------------- | -------------------- | ------------------- | ------------------- | --- |\n",
      "| 10004605.0 | VANDALISM - BY GR... | 2010-11-19 05:55:00 | Inactive             | 2010-11-18 12:00:00 | 2010-11-19 05:00:00 | ... |\n",
      "| 10004607.0 | NARCOTICS - POSSE... | 2010-11-19 09:01:00 | Cleared by Arrest    | 2010-11-19 09:01:00 |                     | ... |\n",
      "| 10004608.0 | VANDALISM - BY GR... | 2010-11-19 09:32:00 | Inactive             | 2010-11-18 11:00:00 | 2010-11-19 09:32:00 | ... |\n",
      "| 10004609.0 | VANDALISM - OTHER    | 2010-11-19 10:53:00 | Inactive             | 2010-11-18 22:00:00 | 2010-11-19 10:53:00 | ... |\n",
      "| 10004610.0 | LITTERING            | 2010-11-19 12:02:00 | Inactive             | 2010-11-16 17:00:00 | 2010-11-19 12:02:00 | ... |\n",
      "| 10004614.0 | LOST OR STOLEN ITEM  | 2010-11-19 16:17:00 | Inactive             | 2010-11-19 13:30:00 | 2010-11-19 15:30:00 | ... |\n",
      "| 10004621.0 | ALCOHOL - MINOR I... | 2010-11-20 00:01:00 | Cleared by Arrest    | 2010-11-20 00:01:00 |                     | ... |\n",
      "| 10004622.0 | ALCOHOL - DRUNK      | 2010-11-20 02:35:00 | Cleared by Exception | 2010-11-20 02:35:00 |                     | ... |\n",
      "| 10004619.0 | ACCIDENTS - P.D. ... | 2010-11-20 22:51:00 | Cleared by Exception | 2010-11-20 21:30:00 |                     | ... |\n",
      "| 10004633.0 | ALCOHOL - MINOR I... | 2010-11-20 23:47:00 | Cleared by Arrest    | 2010-11-20 23:47:00 |                     | ... |\n",
      "| 10004634.0 | SS - CHECK WELFAR... | 2010-11-20 23:58:00 | Inactive             | 2010-11-20 23:58:00 |                     | ... |\n",
      "| 10004635.0 | ALCOHOL - MINOR I... | 2010-11-21 00:22:00 | Cleared by Arrest    | 2010-11-21 00:22:00 |                     | ... |\n",
      "| 10004636.0 | ALCOHOL - MINOR I... | 2010-11-21 01:01:00 | Cleared by Arrest    | 2010-11-21 01:01:00 |                     | ... |\n",
      "| 10004637.0 | ALCOHOL - MINOR I... | 2010-11-21 04:18:00 | Cleared by Arrest    | 2010-11-21 04:18:00 |                     | ... |\n",
      "| 10004640.0 | LARCENY - FROM MO... | 2010-11-21 12:28:00 | Inactive             | 2010-11-20 23:30:00 | 2010-11-21 12:30:00 | ... |\n",
      "| 10004641.0 | LARCENY - FROM BU... | 2010-11-21 13:12:00 | Inactive             | 2010-11-21 03:00:00 | 2010-11-21 03:15:00 | ... |\n",
      "| 10004642.0 | ACCIDENTS - P.D. ... | 2010-11-21 13:54:00 | Inactive             |                     |                     | ... |\n",
      "| 10004650.0 | MEDICAL EMERGENCY    | 2010-11-22 09:14:00 | Cleared by Exception | 2010-11-22 09:14:00 |                     | ... |\n",
      "| 10004654.0 | LOST OR STOLEN ITEM  | 2010-11-22 11:38:00 | Inactive             |                     |                     | ... |\n",
      "| 10004657.0 | LARCENY - STOLEN ... | 2010-11-22 14:04:00 | Inactive             | 2010-11-19 09:30:00 | 2010-11-20 10:00:00 | ... |\n",
      "| ...        | ...                  |                 ... | ...                  |                 ... |                 ... | ... |\n"
     ]
    }
   ],
   "source": [
    "unlcrimes.print_table()"
   ]
  },
  {
   "cell_type": "code",
   "execution_count": 7,
   "metadata": {},
   "outputs": [
    {
     "name": "stdout",
     "output_type": "stream",
     "text": [
      "| column         | data_type |\n",
      "| -------------- | --------- |\n",
      "| Case #         | Text      |\n",
      "| Incident Code  | Text      |\n",
      "| Reported       | DateTime  |\n",
      "| Case Status    | Text      |\n",
      "| Start Occurred | DateTime  |\n",
      "| End Occurred   | DateTime  |\n",
      "| Building       | Text      |\n",
      "| Location       | Text      |\n",
      "| Stolen         | Number    |\n",
      "| Damaged        | Number    |\n",
      "| Description    | Text      |\n",
      "\n"
     ]
    }
   ],
   "source": [
    "print(unlcrimes)"
   ]
  },
  {
   "cell_type": "code",
   "execution_count": 8,
   "metadata": {
    "collapsed": true
   },
   "outputs": [],
   "source": [
    "codes = unlcrimes.group_by('Incident Code')\n",
    "code_counts = codes.aggregate([\n",
    "    ('count', agate.Count())\n",
    "])\n",
    "code_counts = code_counts.order_by('Incident Code', reverse=True)"
   ]
  },
  {
   "cell_type": "code",
   "execution_count": 9,
   "metadata": {},
   "outputs": [
    {
     "name": "stdout",
     "output_type": "stream",
     "text": [
      "| Incident Code        | count |\n",
      "| -------------------- | ----- |\n",
      "|                      |     1 |\n",
      "| WEAPONS вЂ“ OTHER    |    10 |\n",
      "| WEAPONS - ILLEGAL... |     1 |\n",
      "| WEAPONS - FELON I... |     3 |\n",
      "| WEAPONS - DISCHAR... |     3 |\n",
      "| WEAPONS - CONCEALED  |     7 |\n",
      "| WARRANT SERVICE      |     4 |\n",
      "| VANDALISM - OTHER    |   392 |\n",
      "| VANDALISM - BY GR... |   106 |\n",
      "| UNL POLICY VIOLAT... |    30 |\n",
      "| UNL POLICY VIOLAT... |    12 |\n",
      "| TRESPASSING          |   311 |\n",
      "| TRAFFIC - SUSPEND... |   707 |\n",
      "| TRAFFIC - OTHER      |    54 |\n",
      "| TRAFFIC - IMPROPE... |     2 |\n",
      "| TRAFFIC - DIRECTION  |     1 |\n",
      "| TELEPHONE - THREA... |    15 |\n",
      "| TELEPHONE - OTHER    |    56 |\n",
      "| TELEPHONE - OBSCE... |     6 |\n",
      "| SUSPICIOUS VEHICLE   |     1 |\n",
      "| ...                  |   ... |\n"
     ]
    }
   ],
   "source": [
    "code_counts.print_table()"
   ]
  },
  {
   "cell_type": "code",
   "execution_count": 10,
   "metadata": {
    "collapsed": true
   },
   "outputs": [],
   "source": [
    "crimes_with_years = unlcrimes.compute([\n",
    "    ('reported_year', agate.Formula(agate.Text(), lambda row: '%s' % row['Reported'].year))\n",
    "])"
   ]
  },
  {
   "cell_type": "code",
   "execution_count": 11,
   "metadata": {},
   "outputs": [
    {
     "name": "stdout",
     "output_type": "stream",
     "text": [
      "| reported_year | count |\n",
      "| ------------- | ----- |\n",
      "| 2010          |   185 |\n",
      "| 2011          | 1,948 |\n",
      "| 2012          | 1,881 |\n",
      "| 2013          | 2,052 |\n",
      "| 2014          | 1,920 |\n",
      "| 2015          | 1,750 |\n"
     ]
    }
   ],
   "source": [
    "years = crimes_with_years.group_by('reported_year')\n",
    "year_counts = years.aggregate([\n",
    "    ('count', agate.Count())\n",
    "])\n",
    "year_counts.print_table()"
   ]
  },
  {
   "cell_type": "code",
   "execution_count": 12,
   "metadata": {
    "collapsed": true
   },
   "outputs": [],
   "source": [
    "crimes_with_monthyears = unlcrimes.compute([\n",
    "    ('reported_monthyear', agate.Formula(agate.Text(), lambda row: '%s/%s' % (row['Reported'].month, row['Reported'].year)))\n",
    "])"
   ]
  },
  {
   "cell_type": "code",
   "execution_count": 13,
   "metadata": {},
   "outputs": [
    {
     "name": "stdout",
     "output_type": "stream",
     "text": [
      "reported_monthyear count\n",
      "11/2010               56 ▓░░░░░░                            \n",
      "12/2010              129 ▓░░░░░░░░░░░░░░░                   \n",
      "1/2011               157 ▓░░░░░░░░░░░░░░░░░░                \n",
      "2/2011               168 ▓░░░░░░░░░░░░░░░░░░░               \n",
      "3/2011               157 ▓░░░░░░░░░░░░░░░░░░                \n",
      "4/2011               184 ▓░░░░░░░░░░░░░░░░░░░░░             \n",
      "5/2011               130 ▓░░░░░░░░░░░░░░░                   \n",
      "6/2011               124 ▓░░░░░░░░░░░░░░                    \n",
      "7/2011               137 ▓░░░░░░░░░░░░░░░░                  \n",
      "8/2011               183 ▓░░░░░░░░░░░░░░░░░░░░░             \n",
      "9/2011               242 ▓░░░░░░░░░░░░░░░░░░░░░░░░░░░       \n",
      "10/2011              175 ▓░░░░░░░░░░░░░░░░░░░░              \n",
      "11/2011              179 ▓░░░░░░░░░░░░░░░░░░░░              \n",
      "12/2011              112 ▓░░░░░░░░░░░░░                     \n",
      "1/2012               194 ▓░░░░░░░░░░░░░░░░░░░░░░            \n",
      "2/2012               147 ▓░░░░░░░░░░░░░░░░░                 \n",
      "3/2012               167 ▓░░░░░░░░░░░░░░░░░░░               \n",
      "4/2012               182 ▓░░░░░░░░░░░░░░░░░░░░░             \n",
      "5/2012               121 ▓░░░░░░░░░░░░░░                    \n",
      "6/2012               137 ▓░░░░░░░░░░░░░░░░                  \n",
      "7/2012               109 ▓░░░░░░░░░░░░                      \n",
      "8/2012               128 ▓░░░░░░░░░░░░░░░                   \n",
      "9/2012               226 ▓░░░░░░░░░░░░░░░░░░░░░░░░░░        \n",
      "10/2012              173 ▓░░░░░░░░░░░░░░░░░░░░              \n",
      "11/2012              173 ▓░░░░░░░░░░░░░░░░░░░░              \n",
      "12/2012              124 ▓░░░░░░░░░░░░░░                    \n",
      "1/2013               149 ▓░░░░░░░░░░░░░░░░░                 \n",
      "2/2013               163 ▓░░░░░░░░░░░░░░░░░░                \n",
      "3/2013               161 ▓░░░░░░░░░░░░░░░░░░                \n",
      "4/2013               176 ▓░░░░░░░░░░░░░░░░░░░░              \n",
      "5/2013               136 ▓░░░░░░░░░░░░░░░                   \n",
      "6/2013               117 ▓░░░░░░░░░░░░░                     \n",
      "7/2013               116 ▓░░░░░░░░░░░░░                     \n",
      "8/2013               204 ▓░░░░░░░░░░░░░░░░░░░░░░░           \n",
      "9/2013               272 ▓░░░░░░░░░░░░░░░░░░░░░░░░░░░░░░░   \n",
      "10/2013              214 ▓░░░░░░░░░░░░░░░░░░░░░░░░          \n",
      "11/2013              203 ▓░░░░░░░░░░░░░░░░░░░░░░░           \n",
      "12/2013              141 ▓░░░░░░░░░░░░░░░░                  \n",
      "1/2014               176 ▓░░░░░░░░░░░░░░░░░░░░              \n",
      "2/2014               157 ▓░░░░░░░░░░░░░░░░░░                \n",
      "3/2014               153 ▓░░░░░░░░░░░░░░░░░                 \n",
      "4/2014               203 ▓░░░░░░░░░░░░░░░░░░░░░░░           \n",
      "5/2014               157 ▓░░░░░░░░░░░░░░░░░░                \n",
      "6/2014               109 ▓░░░░░░░░░░░░                      \n",
      "7/2014               108 ▓░░░░░░░░░░░░                      \n",
      "8/2014               177 ▓░░░░░░░░░░░░░░░░░░░░              \n",
      "9/2014               217 ▓░░░░░░░░░░░░░░░░░░░░░░░░░         \n",
      "10/2014              181 ▓░░░░░░░░░░░░░░░░░░░░░             \n",
      "11/2014              150 ▓░░░░░░░░░░░░░░░░░                 \n",
      "12/2014              132 ▓░░░░░░░░░░░░░░░                   \n",
      "1/2015               148 ▓░░░░░░░░░░░░░░░░░                 \n",
      "2/2015               144 ▓░░░░░░░░░░░░░░░░                  \n",
      "3/2015               180 ▓░░░░░░░░░░░░░░░░░░░░              \n",
      "4/2015               175 ▓░░░░░░░░░░░░░░░░░░░░              \n",
      "5/2015               147 ▓░░░░░░░░░░░░░░░░░                 \n",
      "6/2015               154 ▓░░░░░░░░░░░░░░░░░                 \n",
      "7/2015               110 ▓░░░░░░░░░░░░                      \n",
      "8/2015               163 ▓░░░░░░░░░░░░░░░░░░                \n",
      "9/2015               227 ▓░░░░░░░░░░░░░░░░░░░░░░░░░░        \n",
      "10/2015              188 ▓░░░░░░░░░░░░░░░░░░░░░             \n",
      "11/2015              114 ▓░░░░░░░░░░░░░                     \n",
      "                         +-------+--------+--------+-------+\n",
      "                         0      75       150      225    300\n"
     ]
    }
   ],
   "source": [
    "monthyears = crimes_with_monthyears.group_by('reported_monthyear')\n",
    "monthyear_counts = monthyears.aggregate([\n",
    "    ('count', agate.Count())\n",
    "])\n",
    "monthyear_counts.print_bars('reported_monthyear', 'count', width=60)"
   ]
  },
  {
   "cell_type": "markdown",
   "metadata": {},
   "source": [
    "    ***MISSING DATA LOCATION***"
   ]
  },
  {
   "cell_type": "code",
   "execution_count": 14,
   "metadata": {
    "collapsed": true
   },
   "outputs": [],
   "source": [
    "codes = unlcrimes.group_by('Location')\n",
    "code_counts = codes.aggregate([\n",
    "    ('count', agate.Count())\n",
    "])\n",
    "code_counts = code_counts.order_by('Location', reverse=True)"
   ]
  },
  {
   "cell_type": "code",
   "execution_count": 15,
   "metadata": {},
   "outputs": [
    {
     "name": "stdout",
     "output_type": "stream",
     "text": [
      "| Location             | count |\n",
      "| -------------------- | ----- |\n",
      "| Y ST & N 33RD ST ... |     1 |\n",
      "| Y ST & N 27TH ST ... |     4 |\n",
      "| Y ST & N 23RD ST ... |     1 |\n",
      "| Y ST & N 22ND ST ... |     1 |\n",
      "| Y ST & N 21ST ST ... |     2 |\n",
      "| Y ST & N 21ST ST ... |     2 |\n",
      "| Y ST & N 19TH ST ... |     4 |\n",
      "| Y ST & N 19TH ST ... |     1 |\n",
      "| Y ST & N 19TH ST ... |     1 |\n",
      "| Y ST & N 17TH ST ... |     7 |\n",
      "| X ST & N 17TH ST ... |     1 |\n",
      "| X ST & N 17TH ST ... |     1 |\n",
      "| X ST & N 16TH ST ... |     5 |\n",
      "| X ST & N 16TH ST ... |     1 |\n",
      "| WHITTIER ST & W S... |     1 |\n",
      "| W ST & N 25TH ST ... |     1 |\n",
      "| W ST & N 23RD ST ... |     1 |\n",
      "| W ST & N 22ND ST ... |     1 |\n",
      "| W ST & N 16TH ST ... |     1 |\n",
      "| W ST & N 16TH ST ... |     1 |\n",
      "| ...                  |   ... |\n"
     ]
    }
   ],
   "source": [
    "code_counts.print_table()"
   ]
  },
  {
   "cell_type": "markdown",
   "metadata": {},
   "source": [
    "***MISSING DATA BUILDING***"
   ]
  },
  {
   "cell_type": "code",
   "execution_count": 16,
   "metadata": {
    "collapsed": true
   },
   "outputs": [],
   "source": [
    "codes = unlcrimes.group_by('Building')\n",
    "code_counts = codes.aggregate([\n",
    "    ('count', agate.Count())\n",
    "])\n",
    "code_counts = code_counts.order_by('Building', reverse=True)"
   ]
  },
  {
   "cell_type": "code",
   "execution_count": 17,
   "metadata": {},
   "outputs": [
    {
     "name": "stdout",
     "output_type": "stream",
     "text": [
      "| Building             | count |\n",
      "| -------------------- | ----- |\n",
      "|                      | 3,506 |\n",
      "| Wick Alumni Center   |    15 |\n",
      "| Whittier Building    |    31 |\n",
      "| Westbrook Music B... |    37 |\n",
      "| West Stadium         |     4 |\n",
      "| Wells Fargo Building |     1 |\n",
      "| Water Sciences Lab   |     1 |\n",
      "| Warehouse 2          |     2 |\n",
      "| Warehouse 1          |     2 |\n",
      "| Walter Scott Engi... |    21 |\n",
      "| Vine Street Rec F... |     7 |\n",
      "| Veterinary Diagno... |     1 |\n",
      "| Vet Basic Sciences   |     3 |\n",
      "| Varner Hall          |     8 |\n",
      "| Various              |     1 |\n",
      "| Utility Plant, East  |     2 |\n",
      "| Utility Plant, City  |     8 |\n",
      "| Unknown              |     1 |\n",
      "| University Suites    |    75 |\n",
      "| University Park A... |     5 |\n",
      "| ...                  |   ... |\n"
     ]
    }
   ],
   "source": [
    "code_counts.print_table()"
   ]
  },
  {
   "cell_type": "markdown",
   "metadata": {},
   "source": [
    "**DETECTED MISSING DATA IN BUILDING 3,506**"
   ]
  },
  {
   "cell_type": "markdown",
   "metadata": {},
   "source": [
    "**"
   ]
  },
  {
   "cell_type": "markdown",
   "metadata": {},
   "source": [
    "***STOLEN***"
   ]
  },
  {
   "cell_type": "code",
   "execution_count": 18,
   "metadata": {
    "collapsed": true
   },
   "outputs": [],
   "source": [
    "codes = unlcrimes.group_by('Stolen')\n",
    "code_counts = codes.aggregate([\n",
    "    ('count', agate.Count())\n",
    "])\n",
    "code_counts = code_counts.order_by('Stolen', reverse=True)"
   ]
  },
  {
   "cell_type": "code",
   "execution_count": 19,
   "metadata": {},
   "outputs": [
    {
     "name": "stdout",
     "output_type": "stream",
     "text": [
      "|    Stolen | count |\n",
      "| --------- | ----- |\n",
      "|           | 8,260 |\n",
      "| 52,965.00 |     1 |\n",
      "| 50,053.00 |     1 |\n",
      "| 23,337.00 |     1 |\n",
      "| 22,000.00 |     1 |\n",
      "| 20,348.00 |     1 |\n",
      "| 15,480.00 |     1 |\n",
      "| 15,000.00 |     1 |\n",
      "| 14,700.00 |     1 |\n",
      "| 13,000.00 |     1 |\n",
      "|  9,954.08 |     1 |\n",
      "|  9,500.00 |     1 |\n",
      "|  8,800.00 |     1 |\n",
      "|  8,300.00 |     1 |\n",
      "|  8,000.00 |     1 |\n",
      "|  7,505.00 |     1 |\n",
      "|  7,300.00 |     1 |\n",
      "|  7,205.00 |     1 |\n",
      "|  7,000.00 |     1 |\n",
      "|  6,000.00 |     2 |\n",
      "|       ... |   ... |\n"
     ]
    }
   ],
   "source": [
    "code_counts.print_table()"
   ]
  },
  {
   "cell_type": "markdown",
   "metadata": {},
   "source": [
    "**DETECTED MISSING DATA IN STOLEN: 8,260**"
   ]
  },
  {
   "cell_type": "markdown",
   "metadata": {},
   "source": [
    "***DAMAGED***"
   ]
  },
  {
   "cell_type": "code",
   "execution_count": 20,
   "metadata": {
    "collapsed": true
   },
   "outputs": [],
   "source": [
    "codes = unlcrimes.group_by('Damaged')\n",
    "code_counts = codes.aggregate([\n",
    "    ('count', agate.Count())\n",
    "])\n",
    "code_counts = code_counts.order_by('Damaged', reverse=True)"
   ]
  },
  {
   "cell_type": "code",
   "execution_count": 21,
   "metadata": {},
   "outputs": [
    {
     "name": "stdout",
     "output_type": "stream",
     "text": [
      "| Damaged | count |\n",
      "| ------- | ----- |\n",
      "|         | 8,455 |\n",
      "| 100,000 |     1 |\n",
      "|  50,000 |     1 |\n",
      "|  14,000 |     1 |\n",
      "|  10,000 |     1 |\n",
      "|   8,800 |     1 |\n",
      "|   8,500 |     1 |\n",
      "|   8,000 |     1 |\n",
      "|   7,700 |     1 |\n",
      "|   6,500 |     1 |\n",
      "|   6,180 |     1 |\n",
      "|   6,000 |     2 |\n",
      "|   5,600 |     1 |\n",
      "|   5,500 |     1 |\n",
      "|   5,000 |     4 |\n",
      "|   4,850 |     1 |\n",
      "|   4,700 |     1 |\n",
      "|   4,500 |     4 |\n",
      "|   4,300 |     1 |\n",
      "|   4,000 |     5 |\n",
      "|     ... |   ... |\n"
     ]
    }
   ],
   "source": [
    "code_counts.print_table()"
   ]
  },
  {
   "cell_type": "markdown",
   "metadata": {},
   "source": [
    "**DETECTED MISSING DATA IN DAMAGED: 8,455**"
   ]
  },
  {
   "cell_type": "code",
   "execution_count": 22,
   "metadata": {
    "collapsed": true
   },
   "outputs": [],
   "source": [
    "codes = unlcrimes.group_by('Start Occurred')\n",
    "code_counts = codes.aggregate([\n",
    "    ('count', agate.Count())\n",
    "])\n",
    "code_counts = code_counts.order_by('Start Occurred', reverse=True)"
   ]
  },
  {
   "cell_type": "code",
   "execution_count": 23,
   "metadata": {},
   "outputs": [
    {
     "name": "stdout",
     "output_type": "stream",
     "text": [
      "|      Start Occurred | count |\n",
      "| ------------------- | ----- |\n",
      "|                     |   475 |\n",
      "| 2015-12-22 14:00:00 |     1 |\n",
      "| 2015-11-18 22:28:00 |     1 |\n",
      "| 2015-11-18 21:52:00 |     1 |\n",
      "| 2015-11-18 21:08:00 |     1 |\n",
      "| 2015-11-18 13:23:00 |     1 |\n",
      "| 2015-11-18 01:14:00 |     1 |\n",
      "| 2015-11-17 02:54:00 |     1 |\n",
      "| 2015-11-17 00:36:00 |     1 |\n",
      "| 2015-11-17 00:18:00 |     1 |\n",
      "| 2015-11-16 23:13:00 |     1 |\n",
      "| 2015-11-16 22:19:00 |     1 |\n",
      "| 2015-11-16 15:30:00 |     1 |\n",
      "| 2015-11-16 01:32:00 |     1 |\n",
      "| 2015-11-15 19:10:00 |     1 |\n",
      "| 2015-11-15 18:15:00 |     1 |\n",
      "| 2015-11-15 06:34:00 |     1 |\n",
      "| 2015-11-15 02:42:00 |     1 |\n",
      "| 2015-11-15 02:35:00 |     1 |\n",
      "| 2015-11-15 00:47:00 |     1 |\n",
      "|                 ... |   ... |\n"
     ]
    }
   ],
   "source": [
    "code_counts.print_table()"
   ]
  },
  {
   "cell_type": "markdown",
   "metadata": {},
   "source": [
    "***DETECTED MISSING START OCCURED DATA: 475***"
   ]
  },
  {
   "cell_type": "code",
   "execution_count": 24,
   "metadata": {
    "collapsed": true
   },
   "outputs": [],
   "source": [
    "codes = unlcrimes.group_by('End Occurred')\n",
    "code_counts = codes.aggregate([\n",
    "    ('count', agate.Count())\n",
    "])\n",
    "code_counts = code_counts.order_by('End Occurred', reverse=True)"
   ]
  },
  {
   "cell_type": "code",
   "execution_count": 25,
   "metadata": {},
   "outputs": [
    {
     "name": "stdout",
     "output_type": "stream",
     "text": [
      "|        End Occurred | count |\n",
      "| ------------------- | ----- |\n",
      "|                     | 6,830 |\n",
      "| 2015-11-18 13:24:00 |     1 |\n",
      "| 2015-11-17 10:48:00 |     1 |\n",
      "| 2015-11-17 10:15:00 |     1 |\n",
      "| 2015-11-16 15:15:00 |     1 |\n",
      "| 2015-11-16 13:12:00 |     1 |\n",
      "| 2015-11-16 11:30:00 |     1 |\n",
      "| 2015-11-16 06:00:00 |     1 |\n",
      "| 2015-11-15 11:00:00 |     1 |\n",
      "| 2015-11-15 02:04:00 |     1 |\n",
      "| 2015-11-14 17:37:00 |     1 |\n",
      "| 2015-11-12 10:00:00 |     1 |\n",
      "| 2015-11-11 16:22:00 |     1 |\n",
      "| 2015-11-11 08:00:00 |     1 |\n",
      "| 2015-11-10 09:15:00 |     1 |\n",
      "| 2015-11-10 08:00:00 |     1 |\n",
      "| 2015-11-08 19:46:00 |     1 |\n",
      "| 2015-11-07 17:00:00 |     1 |\n",
      "| 2015-11-06 17:42:00 |     1 |\n",
      "| 2015-11-04 07:34:00 |     1 |\n",
      "|                 ... |   ... |\n"
     ]
    }
   ],
   "source": [
    "code_counts.print_table()"
   ]
  },
  {
   "cell_type": "markdown",
   "metadata": {},
   "source": [
    "***DETECTED MISSING END OCCURRED DATA: 6,830***"
   ]
  },
  {
   "cell_type": "code",
   "execution_count": 47,
   "metadata": {},
   "outputs": [
    {
     "name": "stdout",
     "output_type": "stream",
     "text": [
      "| column         | data_type |\n",
      "| -------------- | --------- |\n",
      "| Case #         | Text      |\n",
      "| Incident Code  | Text      |\n",
      "| Reported       | DateTime  |\n",
      "| Case Status    | Text      |\n",
      "| Start Occurred | DateTime  |\n",
      "| End Occurred   | DateTime  |\n",
      "| Building       | Text      |\n",
      "| Location       | Text      |\n",
      "| Stolen         | Number    |\n",
      "| Damaged        | Number    |\n",
      "| Description    | Text      |\n",
      "\n"
     ]
    }
   ],
   "source": [
    "print(unlcrimes)"
   ]
  },
  {
   "cell_type": "code",
   "execution_count": 50,
   "metadata": {},
   "outputs": [
    {
     "name": "stdout",
     "output_type": "stream",
     "text": [
      "9736\n"
     ]
    }
   ],
   "source": [
    "print (len(unlcrimes.rows))"
   ]
  },
  {
   "cell_type": "code",
   "execution_count": 51,
   "metadata": {
    "collapsed": true
   },
   "outputs": [],
   "source": [
    "by_status = unlcrimes.group_by('Incident Code','Case Status')"
   ]
  },
  {
   "cell_type": "code",
   "execution_count": 54,
   "metadata": {},
   "outputs": [
    {
     "name": "stdout",
     "output_type": "stream",
     "text": [
      "| table                               | rows |\n",
      "| ----------------------------------- | ---- |\n",
      "| VANDALISM - BY GRAFFITI             | 106  |\n",
      "| NARCOTICS - POSSESSION              | 607  |\n",
      "| VANDALISM - OTHER                   | 392  |\n",
      "| LITTERING                           | 161  |\n",
      "| LOST OR STOLEN ITEM                 | 425  |\n",
      "| ALCOHOL - MINOR IN POSSESSION       | 954  |\n",
      "| ALCOHOL - DRUNK                     | 543  |\n",
      "| ACCIDENTS - P.D. NOT REPORTABLE     | 213  |\n",
      "| SS - CHECK WELFARE OF PERSON        | 142  |\n",
      "| LARCENY - FROM MOTOR VEHICLE        | 135  |\n",
      "| LARCENY - FROM BUILDING             | 370  |\n",
      "| ACCIDENTS - P.D. H&R NOT REPORTABLE | 327  |\n",
      "| MEDICAL EMERGENCY                   | 895  |\n",
      "| LARCENY - STOLEN BIKE               | 464  |\n",
      "| ACCIDENTS - P.D. H&R REPORTABLE     | 15   |\n",
      "| TRESPASSING                         | 311  |\n",
      "| ALCOHOL - DWI                       | 558  |\n",
      "| ASSAULT - DOMESTIC                  | 18   |\n",
      "| ASSAULT - NON DOMESTIC              | 60   |\n",
      "| FIRE (WORKING) - NO ALARM           | 50   |\n",
      "\n"
     ]
    }
   ],
   "source": [
    "print(by_status)"
   ]
  },
  {
   "cell_type": "code",
   "execution_count": 55,
   "metadata": {},
   "outputs": [
    {
     "name": "stdout",
     "output_type": "stream",
     "text": [
      "117\n"
     ]
    }
   ],
   "source": [
    "print (len(by_status))"
   ]
  },
  {
   "cell_type": "code",
   "execution_count": 56,
   "metadata": {
    "collapsed": true
   },
   "outputs": [],
   "source": [
    "status_totals = by_status.aggregate ([\n",
    "    ('count', agate.Count())\n",
    "])"
   ]
  },
  {
   "cell_type": "code",
   "execution_count": 57,
   "metadata": {},
   "outputs": [
    {
     "name": "stdout",
     "output_type": "stream",
     "text": [
      "| column      | data_type |\n",
      "| ----------- | --------- |\n",
      "| Case Status | Text      |\n",
      "| count       | Number    |\n",
      "\n"
     ]
    }
   ],
   "source": [
    "print(status_totals)"
   ]
  },
  {
   "cell_type": "code",
   "execution_count": 58,
   "metadata": {
    "collapsed": true
   },
   "outputs": [],
   "source": [
    "sorted_status = status_totals.order_by('count', reverse =True)"
   ]
  },
  {
   "cell_type": "code",
   "execution_count": 59,
   "metadata": {},
   "outputs": [
    {
     "name": "stdout",
     "output_type": "stream",
     "text": [
      "| Case Status          | count |\n",
      "| -------------------- | ----- |\n",
      "| ALCOHOL - MINOR I... |   954 |\n",
      "| MEDICAL EMERGENCY    |   895 |\n",
      "| TRAFFIC - SUSPEND... |   707 |\n",
      "| NARCOTICS - POSSE... |   607 |\n",
      "| ALCOHOL - DWI        |   558 |\n",
      "| ALCOHOL - DRUNK      |   543 |\n",
      "| DISTURBANCE - OTHER  |   467 |\n",
      "| LARCENY - STOLEN ... |   464 |\n",
      "| LOST OR STOLEN ITEM  |   425 |\n",
      "| VANDALISM - OTHER    |   392 |\n",
      "| LARCENY - FROM BU... |   370 |\n",
      "| ACCIDENTS - P.D. ... |   327 |\n",
      "| TRESPASSING          |   311 |\n",
      "| FIRE - FALSE ALARM   |   215 |\n",
      "| ACCIDENTS - P.D. ... |   213 |\n",
      "| LITTERING            |   161 |\n",
      "| PROPERTY DAMAGE -... |   152 |\n",
      "| LARCENY - OTHER O... |   145 |\n",
      "| SS - CHECK WELFAR... |   142 |\n",
      "| OUTSIDE - O.P.S. ... |   136 |\n",
      "| ...                  |   ... |\n"
     ]
    }
   ],
   "source": [
    "sorted_status.print_table()"
   ]
  },
  {
   "cell_type": "markdown",
   "metadata": {},
   "source": [
    "*** BASED ON THE DATA OF CRIMES HAPPENED AT THE UNL, WE FIGURED OUT THAT ALCOHOL RANKS THE FIRST PLACE OF TOP TEN CRIMES HAT THE UNL. TOP 10 CRIMES AT THE UNL: ALCOHOL - MINOR I (954 CASES), MEDICAL EMERGENCY (895 CASES), TRAFFIC SUSPEND (707 CASES), NARCOTICS POSSESIONS (607), ALCOHOL DWI (558 CASES), ALCOHOL DRUNK (543 CASES), DISTURBANCE (467 CASES), LARCENY -STOLEN (464 CASES), LOST OR STOLEN (425 CASES), AND VANDALISM (392 CASES)***"
   ]
  },
  {
   "cell_type": "markdown",
   "metadata": {
    "collapsed": true
   },
   "source": [
    "DATA READING:\n",
    "1. If I get this kind of data from the government I will ask the more complete one since many rows are left blank. Is it because it is error? incomplete process of transfering data? or is there any something that is hidden by the government?\n",
    "2. On column CASE STATUS, there are lots of explanation of inactive case. Why is it inactive? what does it mean? And what is the difference between cleared by arrest and cleared by exception, etc?\n",
    "3. I will ask to the police department since it deals with crime, why it has not been completed? can they provide the more completed ones? \n",
    "4. OUTLIERS refers to values that are extremely high or extremely low. Therefore, on the unlcrimes data, we can find outliers from the reported year. E.g. total reported crimes in 2010 shows only 185 cases, while the next year data shows 1,948 cases. So, value of crimes in 2010 is considered extremely low. It is an outlier. Further analysis should be made out of it."
   ]
  }
 ],
 "metadata": {
  "kernelspec": {
   "display_name": "Python 3",
   "language": "python",
   "name": "python3"
  },
  "language_info": {
   "codemirror_mode": {
    "name": "ipython",
    "version": 3
   },
   "file_extension": ".py",
   "mimetype": "text/x-python",
   "name": "python",
   "nbconvert_exporter": "python",
   "pygments_lexer": "ipython3",
   "version": "3.6.1"
  }
 },
 "nbformat": 4,
 "nbformat_minor": 2
}

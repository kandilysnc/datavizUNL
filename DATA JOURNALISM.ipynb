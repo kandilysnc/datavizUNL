{
 "cells": [
  {
   "cell_type": "markdown",
   "metadata": {},
   "source": [
    "import agate\n",
    "import data two years, one by one. print(len(taxes2016.rows)"
   ]
  },
  {
   "cell_type": "markdown",
   "metadata": {},
   "source": [
    "start current year data. taxes = taxes2016.join(taxes.2015, 'City', 'City, inner=True)\n",
    "maksudnya hanya tunjukkan data city pada table taxes 2016 dan table taxes 2015"
   ]
  },
  {
   "cell_type": "markdown",
   "metadata": {},
   "source": [
    "join: taking two datas and emerging them to get the data you want to need."
   ]
  },
  {
   "cell_type": "markdown",
   "metadata": {},
   "source": [
    "thursday assignment: joining two datas. "
   ]
  },
  {
   "cell_type": "markdown",
   "metadata": {},
   "source": [
    "county, district, number"
   ]
  },
  {
   "cell_type": "markdown",
   "metadata": {},
   "source": [
    "agate akan hasilkan text bukan number, interference codisnum"
   ]
  },
  {
   "cell_type": "code",
   "execution_count": null,
   "metadata": {
    "collapsed": true
   },
   "outputs": [],
   "source": []
  }
 ],
 "metadata": {
  "kernelspec": {
   "display_name": "Python 3",
   "language": "python",
   "name": "python3"
  },
  "language_info": {
   "codemirror_mode": {
    "name": "ipython",
    "version": 3
   },
   "file_extension": ".py",
   "mimetype": "text/x-python",
   "name": "python",
   "nbconvert_exporter": "python",
   "pygments_lexer": "ipython3",
   "version": "3.6.3"
  }
 },
 "nbformat": 4,
 "nbformat_minor": 2
}
